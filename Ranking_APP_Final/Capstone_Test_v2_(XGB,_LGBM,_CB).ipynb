{
 "cells": [
  {
   "cell_type": "markdown",
   "metadata": {
    "id": "viC_eDWwyt3v"
   },
   "source": [
    "## Learning to Rank\n",
    "\n",
    "Pointwise: One instance of the set is considered at a time, use any kind of classifier or regressor to predict how relevant it is in the current query. Use each points predicted relevance to order the set.\n",
    "\n",
    "Pairwise: A pair of instances is chosen and the order of those two is predicted. Repeat this for each pair of the query to find the final order of the entire query.\n",
    "\n",
    "Listwise: Many or all instances are considered at once. Try to find the optimal order."
   ]
  },
  {
   "cell_type": "markdown",
   "metadata": {
    "id": "PxYT1wympZXH"
   },
   "source": [
    "- https://www.kaggle.com/code/prashant111/lightgbm-classifier-in-python\n",
    "- https://www.kaggle.com/code/samratp/lightgbm-xgboost-catboost\n",
    "- https://developer.nvidia.com/blog/learning-to-rank-with-xgboost-and-gpu/#:~:text=XGBoost%20is%20a%20widely%20used,descent%20using%20an%20objective%20function.\n",
    "- https://medium.com/predictly-on-tech/learning-to-rank-using-xgboost-83de0166229d"
   ]
  },
  {
   "cell_type": "code",
   "execution_count": 1,
   "metadata": {
    "colab": {
     "base_uri": "https://localhost:8080/"
    },
    "id": "RDXuWhktQRs_",
    "outputId": "e56ee7a8-c717-4bad-bd63-846c11cefdee"
   },
   "outputs": [],
   "source": [
    "#pip install catboost"
   ]
  },
  {
   "cell_type": "code",
   "execution_count": 2,
   "metadata": {
    "id": "znIW0iF4slqe"
   },
   "outputs": [
    {
     "name": "stderr",
     "output_type": "stream",
     "text": [
      "2022-06-15 23:53:25.097667: W tensorflow/stream_executor/platform/default/dso_loader.cc:64] Could not load dynamic library 'libcudart.so.11.0'; dlerror: libcudart.so.11.0: cannot open shared object file: No such file or directory\n",
      "2022-06-15 23:53:25.097711: I tensorflow/stream_executor/cuda/cudart_stub.cc:29] Ignore above cudart dlerror if you do not have a GPU set up on your machine.\n"
     ]
    }
   ],
   "source": [
    "import pandas as pd\n",
    "import numpy as np\n",
    "\n",
    "from sklearn import model_selection\n",
    "from sklearn.model_selection import train_test_split\n",
    "from sklearn.preprocessing import RobustScaler\n",
    "from sklearn.metrics import mean_absolute_error\n",
    "\n",
    "import lightgbm as lgb\n",
    "import xgboost as xgb\n",
    "from catboost import CatBoostRegressor\n",
    "\n",
    "import tensorflow as tf\n",
    "from tensorflow import keras\n",
    "from tensorflow.keras import layers\n",
    "from tensorflow.keras import regularizers\n",
    "\n",
    "\n",
    "\n",
    "import matplotlib.pyplot as plt\n",
    "import seaborn as sns\n"
   ]
  },
  {
   "cell_type": "markdown",
   "metadata": {
    "id": "ROB3AoMuy3p1"
   },
   "source": [
    "# Data Preparation (Pre-processing)"
   ]
  },
  {
   "cell_type": "code",
   "execution_count": 3,
   "metadata": {
    "colab": {
     "base_uri": "https://localhost:8080/",
     "height": 206
    },
    "id": "jDVedx--yzk3",
    "outputId": "4b04bbb2-a539-4f8a-b090-e6c947974696"
   },
   "outputs": [
    {
     "data": {
      "text/html": [
       "<div>\n",
       "<style scoped>\n",
       "    .dataframe tbody tr th:only-of-type {\n",
       "        vertical-align: middle;\n",
       "    }\n",
       "\n",
       "    .dataframe tbody tr th {\n",
       "        vertical-align: top;\n",
       "    }\n",
       "\n",
       "    .dataframe thead th {\n",
       "        text-align: right;\n",
       "    }\n",
       "</style>\n",
       "<table border=\"1\" class=\"dataframe\">\n",
       "  <thead>\n",
       "    <tr style=\"text-align: right;\">\n",
       "      <th></th>\n",
       "      <th>Hotel</th>\n",
       "      <th>Star</th>\n",
       "      <th>Rating</th>\n",
       "      <th>Reviews</th>\n",
       "      <th>Harga</th>\n",
       "      <th>Places Nearby</th>\n",
       "      <th>Facil + Akomod</th>\n",
       "    </tr>\n",
       "  </thead>\n",
       "  <tbody>\n",
       "    <tr>\n",
       "      <th>0</th>\n",
       "      <td>Hotel Indonesia Kempinski Jakarta</td>\n",
       "      <td>5.0</td>\n",
       "      <td>8.9</td>\n",
       "      <td>4363</td>\n",
       "      <td>2.480.500</td>\n",
       "      <td>Nearby Places\\n\\nJia Jia - Grand Indonesia (De...</td>\n",
       "      <td>Food and Drinks\\nA la carte breakfast\\nA la ca...</td>\n",
       "    </tr>\n",
       "    <tr>\n",
       "      <th>1</th>\n",
       "      <td>The Langham, Jakarta</td>\n",
       "      <td>5.0</td>\n",
       "      <td>8.8</td>\n",
       "      <td>238</td>\n",
       "      <td>3.823.600</td>\n",
       "      <td>Nearby Places\\n\\nPig Me Up! - Ashta District 8...</td>\n",
       "      <td>Food and Drinks\\nA la carte dinner\\nA la carte...</td>\n",
       "    </tr>\n",
       "    <tr>\n",
       "      <th>2</th>\n",
       "      <td>Manhattan Hotel</td>\n",
       "      <td>5.0</td>\n",
       "      <td>8.5</td>\n",
       "      <td>8405</td>\n",
       "      <td>6.231.500</td>\n",
       "      <td>Nearby Places\\n\\nJia Jia - Grand Indonesia (De...</td>\n",
       "      <td>Hotel Services\\nBellhop\\nConcierge\\nMoney chan...</td>\n",
       "    </tr>\n",
       "    <tr>\n",
       "      <th>3</th>\n",
       "      <td>Aloft South Jakarta</td>\n",
       "      <td>4.0</td>\n",
       "      <td>8.9</td>\n",
       "      <td>424</td>\n",
       "      <td>762.300</td>\n",
       "      <td>Nearby Places\\n\\nSouthside Rooftop Bar &amp; Loung...</td>\n",
       "      <td>Public Facilities\\nParking\\nCoffee shop\\nEleva...</td>\n",
       "    </tr>\n",
       "    <tr>\n",
       "      <th>4</th>\n",
       "      <td>The Mayflower, Jakarta - Marriott Executive Ap...</td>\n",
       "      <td>5.0</td>\n",
       "      <td>9.0</td>\n",
       "      <td>393</td>\n",
       "      <td>1.756.254</td>\n",
       "      <td>Nearby Places\\n\\nSudirman Plaza\\nBusiness\\n2 m...</td>\n",
       "      <td>Food and Drinks\\nA la carte breakfast\\nA la ca...</td>\n",
       "    </tr>\n",
       "  </tbody>\n",
       "</table>\n",
       "</div>"
      ],
      "text/plain": [
       "                                               Hotel  Star  Rating Reviews  \\\n",
       "0                  Hotel Indonesia Kempinski Jakarta   5.0     8.9    4363   \n",
       "1                               The Langham, Jakarta   5.0     8.8     238   \n",
       "2                                    Manhattan Hotel   5.0     8.5    8405   \n",
       "3                                Aloft South Jakarta   4.0     8.9     424   \n",
       "4  The Mayflower, Jakarta - Marriott Executive Ap...   5.0     9.0     393   \n",
       "\n",
       "       Harga                                      Places Nearby  \\\n",
       "0  2.480.500  Nearby Places\\n\\nJia Jia - Grand Indonesia (De...   \n",
       "1  3.823.600  Nearby Places\\n\\nPig Me Up! - Ashta District 8...   \n",
       "2  6.231.500  Nearby Places\\n\\nJia Jia - Grand Indonesia (De...   \n",
       "3    762.300  Nearby Places\\n\\nSouthside Rooftop Bar & Loung...   \n",
       "4  1.756.254  Nearby Places\\n\\nSudirman Plaza\\nBusiness\\n2 m...   \n",
       "\n",
       "                                      Facil + Akomod  \n",
       "0  Food and Drinks\\nA la carte breakfast\\nA la ca...  \n",
       "1  Food and Drinks\\nA la carte dinner\\nA la carte...  \n",
       "2  Hotel Services\\nBellhop\\nConcierge\\nMoney chan...  \n",
       "3  Public Facilities\\nParking\\nCoffee shop\\nEleva...  \n",
       "4  Food and Drinks\\nA la carte breakfast\\nA la ca...  "
      ]
     },
     "execution_count": 3,
     "metadata": {},
     "output_type": "execute_result"
    }
   ],
   "source": [
    "import pandas as pd\n",
    "\n",
    "df = pd.read_csv('hotels3.csv')\n",
    "df_cp = df.copy()\n",
    "df_eval = df\n",
    "\n",
    "df.head()"
   ]
  },
  {
   "cell_type": "code",
   "execution_count": null,
   "metadata": {},
   "outputs": [],
   "source": []
  },
  {
   "cell_type": "code",
   "execution_count": 4,
   "metadata": {
    "id": "-tIN42w0mZR2"
   },
   "outputs": [],
   "source": [
    "facilities_columns = ['Food and Drinks','Hotel Services','In-room Facilities', 'Business Facilities', 'Nearby Facilities', 'Public Facilities', 'General', 'Things to Do', 'Accessibilty', 'Connectivity', 'Transportation', 'Kids and Pets', 'Sports and Recreations', 'Shuttle Service']\n",
    "\n",
    "facilities_columns.reverse()\n",
    "\n",
    "for index , row in df.iterrows():\n",
    "    \n",
    "    # split per fasil and akomod\n",
    "    arr = row['Facil + Akomod'].splitlines() \n",
    "    #iterate over fasil and akomod\n",
    "\n",
    "    i = 0\n",
    "    count = 0\n",
    "\n",
    "    for  item in reversed(arr):\n",
    "      count += 1\n",
    "      if item in facilities_columns:\n",
    "        df.at[index,item ] = count\n",
    "        count = 0\n",
    "        i += 1"
   ]
  },
  {
   "cell_type": "code",
   "execution_count": 5,
   "metadata": {
    "id": "PkIBhvf2mcVH"
   },
   "outputs": [],
   "source": [
    "df = df.fillna(0)"
   ]
  },
  {
   "cell_type": "code",
   "execution_count": 6,
   "metadata": {
    "colab": {
     "base_uri": "https://localhost:8080/"
    },
    "id": "E7lgszlLmdpg",
    "outputId": "2a4fc79b-1270-42cd-cab3-4d339f084fa2"
   },
   "outputs": [],
   "source": [
    "for index , row in df.iterrows():\n",
    "    \n",
    "    # split per fasil and akomod\n",
    "    arr = row['Places Nearby'].splitlines() \n",
    "    \n",
    "    #iterate over fasil and akomod\n",
    "\n",
    "    i = 0\n",
    "    count = 0\n",
    "    \n",
    "    for ind, item in enumerate(arr):\n",
    "        itemsplits = item.split()\n",
    "        for x in itemsplits:\n",
    "            if x.isdigit():\n",
    "                if itemsplits[1] == \"km\":\n",
    "                    meters = itemsplits[0] * 1000\n",
    "                else:\n",
    "                    meters = itemsplits[0]\n",
    "                    \n",
    "                if meters.isdigit():\n",
    "                    df.at[index,arr[ind-1]] = meters\n",
    "                    #print(meters)"
   ]
  },
  {
   "cell_type": "code",
   "execution_count": 7,
   "metadata": {
    "colab": {
     "base_uri": "https://localhost:8080/"
    },
    "id": "0a19mEMJmgNT",
    "outputId": "54437618-c147-47ea-90a4-637414f7369a"
   },
   "outputs": [
    {
     "name": "stdout",
     "output_type": "stream",
     "text": [
      "Index(['Hotel', 'Star', 'Rating', 'Reviews', 'Harga', 'Places Nearby',\n",
      "       'Facil + Akomod', 'Shuttle Service', 'Sports and Recreations',\n",
      "       'Kids and Pets', 'Transportation', 'Connectivity', 'Accessibilty',\n",
      "       'Things to Do', 'General', 'Public Facilities', 'Nearby Facilities',\n",
      "       'Business Facilities', 'In-room Facilities', 'Hotel Services',\n",
      "       'Food and Drinks', 'Fast Food', 'Shop & Gifts', 'Business',\n",
      "       'Transportation Hub', 'Casual Dining', 'Nightlife', 'Park & Zoo',\n",
      "       'Public Service', 'Arts & Sciences', 'Fine Dining', 'Sport',\n",
      "       'Quick Bites', 'Education', 'Street Food', 'Activity & Games', 'Cafe',\n",
      "       'Entertainment', 'Food Court', 'Sight & Landmark'],\n",
      "      dtype='object')\n"
     ]
    }
   ],
   "source": [
    "print(df.columns)"
   ]
  },
  {
   "cell_type": "code",
   "execution_count": 8,
   "metadata": {
    "id": "fhrIjOXUmjhx"
   },
   "outputs": [],
   "source": [
    "df.Harga = df['Harga'].str.replace('.','', regex = True)\n",
    "df.Harga = df['Harga'].str.replace(',','.', regex = True)\n",
    "df.Harga = df['Harga'].astype(float).astype(int)\n",
    "\n",
    "df.Reviews = df['Reviews'].str.replace('.','', regex = True)\n",
    "df.Reviews = df['Reviews'].str.replace(',','.', regex = True)\n",
    "df.Reviews = df['Reviews'].astype(float).astype(int)"
   ]
  },
  {
   "cell_type": "code",
   "execution_count": 9,
   "metadata": {
    "id": "H5cIX6j_mlqG"
   },
   "outputs": [],
   "source": [
    "df = df.fillna(10000)"
   ]
  },
  {
   "cell_type": "code",
   "execution_count": 10,
   "metadata": {
    "id": "gQpazzsmmnFg"
   },
   "outputs": [],
   "source": [
    "c = df.select_dtypes(object).columns\n",
    "df[c] = df[c].apply(pd.to_numeric,errors='coerce')"
   ]
  },
  {
   "cell_type": "code",
   "execution_count": 11,
   "metadata": {
    "colab": {
     "base_uri": "https://localhost:8080/"
    },
    "id": "JgQonygumo0g",
    "outputId": "e70c338d-de92-4b66-9999-0a559448186e"
   },
   "outputs": [
    {
     "data": {
      "text/plain": [
       "Hotel                     float64\n",
       "Star                      float64\n",
       "Rating                    float64\n",
       "Reviews                     int64\n",
       "Harga                       int64\n",
       "Places Nearby             float64\n",
       "Facil + Akomod            float64\n",
       "Shuttle Service           float64\n",
       "Sports and Recreations    float64\n",
       "Kids and Pets             float64\n",
       "Transportation            float64\n",
       "Connectivity              float64\n",
       "Accessibilty              float64\n",
       "Things to Do              float64\n",
       "General                   float64\n",
       "Public Facilities         float64\n",
       "Nearby Facilities         float64\n",
       "Business Facilities       float64\n",
       "In-room Facilities        float64\n",
       "Hotel Services            float64\n",
       "Food and Drinks           float64\n",
       "Fast Food                   int64\n",
       "Shop & Gifts                int64\n",
       "Business                    int64\n",
       "Transportation Hub          int64\n",
       "Casual Dining               int64\n",
       "Nightlife                   int64\n",
       "Park & Zoo                  int64\n",
       "Public Service              int64\n",
       "Arts & Sciences             int64\n",
       "Fine Dining                 int64\n",
       "Sport                       int64\n",
       "Quick Bites                 int64\n",
       "Education                   int64\n",
       "Street Food                 int64\n",
       "Activity & Games            int64\n",
       "Cafe                        int64\n",
       "Entertainment               int64\n",
       "Food Court                  int64\n",
       "Sight & Landmark            int64\n",
       "dtype: object"
      ]
     },
     "execution_count": 11,
     "metadata": {},
     "output_type": "execute_result"
    }
   ],
   "source": [
    "df.dtypes"
   ]
  },
  {
   "cell_type": "code",
   "execution_count": 12,
   "metadata": {
    "colab": {
     "base_uri": "https://localhost:8080/",
     "height": 314
    },
    "id": "YB-E4YjkmrTA",
    "outputId": "ab544a88-7932-43fa-b83b-ae495c884e79"
   },
   "outputs": [
    {
     "data": {
      "text/html": [
       "<div>\n",
       "<style scoped>\n",
       "    .dataframe tbody tr th:only-of-type {\n",
       "        vertical-align: middle;\n",
       "    }\n",
       "\n",
       "    .dataframe tbody tr th {\n",
       "        vertical-align: top;\n",
       "    }\n",
       "\n",
       "    .dataframe thead th {\n",
       "        text-align: right;\n",
       "    }\n",
       "</style>\n",
       "<table border=\"1\" class=\"dataframe\">\n",
       "  <thead>\n",
       "    <tr style=\"text-align: right;\">\n",
       "      <th></th>\n",
       "      <th>Hotel</th>\n",
       "      <th>Star</th>\n",
       "      <th>Rating</th>\n",
       "      <th>Reviews</th>\n",
       "      <th>Harga</th>\n",
       "      <th>Places Nearby</th>\n",
       "      <th>Facil + Akomod</th>\n",
       "      <th>Shuttle Service</th>\n",
       "      <th>Sports and Recreations</th>\n",
       "      <th>Kids and Pets</th>\n",
       "      <th>...</th>\n",
       "      <th>Fine Dining</th>\n",
       "      <th>Sport</th>\n",
       "      <th>Quick Bites</th>\n",
       "      <th>Education</th>\n",
       "      <th>Street Food</th>\n",
       "      <th>Activity &amp; Games</th>\n",
       "      <th>Cafe</th>\n",
       "      <th>Entertainment</th>\n",
       "      <th>Food Court</th>\n",
       "      <th>Sight &amp; Landmark</th>\n",
       "    </tr>\n",
       "  </thead>\n",
       "  <tbody>\n",
       "    <tr>\n",
       "      <th>0</th>\n",
       "      <td>NaN</td>\n",
       "      <td>5.0</td>\n",
       "      <td>8.9</td>\n",
       "      <td>4363</td>\n",
       "      <td>2480500</td>\n",
       "      <td>NaN</td>\n",
       "      <td>NaN</td>\n",
       "      <td>2.0</td>\n",
       "      <td>3.0</td>\n",
       "      <td>4.0</td>\n",
       "      <td>...</td>\n",
       "      <td>10000</td>\n",
       "      <td>10000</td>\n",
       "      <td>10000</td>\n",
       "      <td>10000</td>\n",
       "      <td>10000</td>\n",
       "      <td>10000</td>\n",
       "      <td>10000</td>\n",
       "      <td>10000</td>\n",
       "      <td>10000</td>\n",
       "      <td>10000</td>\n",
       "    </tr>\n",
       "    <tr>\n",
       "      <th>1</th>\n",
       "      <td>NaN</td>\n",
       "      <td>5.0</td>\n",
       "      <td>8.8</td>\n",
       "      <td>238</td>\n",
       "      <td>3823600</td>\n",
       "      <td>NaN</td>\n",
       "      <td>NaN</td>\n",
       "      <td>0.0</td>\n",
       "      <td>2.0</td>\n",
       "      <td>3.0</td>\n",
       "      <td>...</td>\n",
       "      <td>10000</td>\n",
       "      <td>10000</td>\n",
       "      <td>10000</td>\n",
       "      <td>10000</td>\n",
       "      <td>10000</td>\n",
       "      <td>10000</td>\n",
       "      <td>10000</td>\n",
       "      <td>10000</td>\n",
       "      <td>10000</td>\n",
       "      <td>10000</td>\n",
       "    </tr>\n",
       "    <tr>\n",
       "      <th>2</th>\n",
       "      <td>NaN</td>\n",
       "      <td>5.0</td>\n",
       "      <td>8.5</td>\n",
       "      <td>8405</td>\n",
       "      <td>6231500</td>\n",
       "      <td>NaN</td>\n",
       "      <td>NaN</td>\n",
       "      <td>2.0</td>\n",
       "      <td>3.0</td>\n",
       "      <td>3.0</td>\n",
       "      <td>...</td>\n",
       "      <td>10000</td>\n",
       "      <td>10000</td>\n",
       "      <td>10000</td>\n",
       "      <td>10000</td>\n",
       "      <td>10000</td>\n",
       "      <td>10000</td>\n",
       "      <td>10000</td>\n",
       "      <td>10000</td>\n",
       "      <td>10000</td>\n",
       "      <td>10000</td>\n",
       "    </tr>\n",
       "    <tr>\n",
       "      <th>3</th>\n",
       "      <td>NaN</td>\n",
       "      <td>4.0</td>\n",
       "      <td>8.9</td>\n",
       "      <td>424</td>\n",
       "      <td>762300</td>\n",
       "      <td>NaN</td>\n",
       "      <td>NaN</td>\n",
       "      <td>0.0</td>\n",
       "      <td>2.0</td>\n",
       "      <td>0.0</td>\n",
       "      <td>...</td>\n",
       "      <td>10000</td>\n",
       "      <td>10000</td>\n",
       "      <td>10000</td>\n",
       "      <td>10000</td>\n",
       "      <td>10000</td>\n",
       "      <td>10000</td>\n",
       "      <td>10000</td>\n",
       "      <td>10000</td>\n",
       "      <td>10000</td>\n",
       "      <td>10000</td>\n",
       "    </tr>\n",
       "    <tr>\n",
       "      <th>4</th>\n",
       "      <td>NaN</td>\n",
       "      <td>5.0</td>\n",
       "      <td>9.0</td>\n",
       "      <td>393</td>\n",
       "      <td>1756254</td>\n",
       "      <td>NaN</td>\n",
       "      <td>NaN</td>\n",
       "      <td>2.0</td>\n",
       "      <td>3.0</td>\n",
       "      <td>7.0</td>\n",
       "      <td>...</td>\n",
       "      <td>10000</td>\n",
       "      <td>10000</td>\n",
       "      <td>10000</td>\n",
       "      <td>10000</td>\n",
       "      <td>10000</td>\n",
       "      <td>10000</td>\n",
       "      <td>10000</td>\n",
       "      <td>10000</td>\n",
       "      <td>10000</td>\n",
       "      <td>10000</td>\n",
       "    </tr>\n",
       "  </tbody>\n",
       "</table>\n",
       "<p>5 rows × 40 columns</p>\n",
       "</div>"
      ],
      "text/plain": [
       "   Hotel  Star  Rating  Reviews    Harga  Places Nearby  Facil + Akomod  \\\n",
       "0    NaN   5.0     8.9     4363  2480500            NaN             NaN   \n",
       "1    NaN   5.0     8.8      238  3823600            NaN             NaN   \n",
       "2    NaN   5.0     8.5     8405  6231500            NaN             NaN   \n",
       "3    NaN   4.0     8.9      424   762300            NaN             NaN   \n",
       "4    NaN   5.0     9.0      393  1756254            NaN             NaN   \n",
       "\n",
       "   Shuttle Service  Sports and Recreations  Kids and Pets  ...  Fine Dining  \\\n",
       "0              2.0                     3.0            4.0  ...        10000   \n",
       "1              0.0                     2.0            3.0  ...        10000   \n",
       "2              2.0                     3.0            3.0  ...        10000   \n",
       "3              0.0                     2.0            0.0  ...        10000   \n",
       "4              2.0                     3.0            7.0  ...        10000   \n",
       "\n",
       "   Sport  Quick Bites  Education  Street Food  Activity & Games   Cafe  \\\n",
       "0  10000        10000      10000        10000             10000  10000   \n",
       "1  10000        10000      10000        10000             10000  10000   \n",
       "2  10000        10000      10000        10000             10000  10000   \n",
       "3  10000        10000      10000        10000             10000  10000   \n",
       "4  10000        10000      10000        10000             10000  10000   \n",
       "\n",
       "   Entertainment  Food Court  Sight & Landmark  \n",
       "0          10000       10000             10000  \n",
       "1          10000       10000             10000  \n",
       "2          10000       10000             10000  \n",
       "3          10000       10000             10000  \n",
       "4          10000       10000             10000  \n",
       "\n",
       "[5 rows x 40 columns]"
      ]
     },
     "execution_count": 12,
     "metadata": {},
     "output_type": "execute_result"
    }
   ],
   "source": [
    "df.head()"
   ]
  },
  {
   "cell_type": "markdown",
   "metadata": {
    "id": "0-CevXm2Q6i1"
   },
   "source": [
    "# Modelling"
   ]
  },
  {
   "cell_type": "markdown",
   "metadata": {
    "id": "k0A8fICUnIbP"
   },
   "source": [
    "## Declare feature vector and target variable"
   ]
  },
  {
   "cell_type": "code",
   "execution_count": 13,
   "metadata": {
    "colab": {
     "base_uri": "https://localhost:8080/"
    },
    "id": "Wel8athlnWNU",
    "outputId": "402eb9a8-11c0-4672-9c55-b0042af60a9b"
   },
   "outputs": [
    {
     "name": "stdout",
     "output_type": "stream",
     "text": [
      "<class 'pandas.core.frame.DataFrame'>\n",
      "RangeIndex: 89 entries, 0 to 88\n",
      "Data columns (total 40 columns):\n",
      " #   Column                  Non-Null Count  Dtype  \n",
      "---  ------                  --------------  -----  \n",
      " 0   Hotel                   0 non-null      float64\n",
      " 1   Star                    89 non-null     float64\n",
      " 2   Rating                  89 non-null     float64\n",
      " 3   Reviews                 89 non-null     int64  \n",
      " 4   Harga                   89 non-null     int64  \n",
      " 5   Places Nearby           0 non-null      float64\n",
      " 6   Facil + Akomod          0 non-null      float64\n",
      " 7   Shuttle Service         89 non-null     float64\n",
      " 8   Sports and Recreations  89 non-null     float64\n",
      " 9   Kids and Pets           89 non-null     float64\n",
      " 10  Transportation          89 non-null     float64\n",
      " 11  Connectivity            89 non-null     float64\n",
      " 12  Accessibilty            89 non-null     float64\n",
      " 13  Things to Do            89 non-null     float64\n",
      " 14  General                 89 non-null     float64\n",
      " 15  Public Facilities       89 non-null     float64\n",
      " 16  Nearby Facilities       89 non-null     float64\n",
      " 17  Business Facilities     89 non-null     float64\n",
      " 18  In-room Facilities      89 non-null     float64\n",
      " 19  Hotel Services          89 non-null     float64\n",
      " 20  Food and Drinks         89 non-null     float64\n",
      " 21  Fast Food               89 non-null     int64  \n",
      " 22  Shop & Gifts            89 non-null     int64  \n",
      " 23  Business                89 non-null     int64  \n",
      " 24  Transportation Hub      89 non-null     int64  \n",
      " 25  Casual Dining           89 non-null     int64  \n",
      " 26  Nightlife               89 non-null     int64  \n",
      " 27  Park & Zoo              89 non-null     int64  \n",
      " 28  Public Service          89 non-null     int64  \n",
      " 29  Arts & Sciences         89 non-null     int64  \n",
      " 30  Fine Dining             89 non-null     int64  \n",
      " 31  Sport                   89 non-null     int64  \n",
      " 32  Quick Bites             89 non-null     int64  \n",
      " 33  Education               89 non-null     int64  \n",
      " 34  Street Food             89 non-null     int64  \n",
      " 35  Activity & Games        89 non-null     int64  \n",
      " 36  Cafe                    89 non-null     int64  \n",
      " 37  Entertainment           89 non-null     int64  \n",
      " 38  Food Court              89 non-null     int64  \n",
      " 39  Sight & Landmark        89 non-null     int64  \n",
      "dtypes: float64(19), int64(21)\n",
      "memory usage: 27.9 KB\n"
     ]
    }
   ],
   "source": [
    "# view summary of dataset\n",
    "df.info()"
   ]
  },
  {
   "cell_type": "markdown",
   "metadata": {
    "id": "jSayjhlNQ_9g"
   },
   "source": [
    "## Data Splitting"
   ]
  },
  {
   "cell_type": "code",
   "execution_count": 14,
   "metadata": {
    "id": "lmVSKP7YnH-k"
   },
   "outputs": [],
   "source": [
    "X = df[['Star','Reviews','Harga','Shuttle Service','Sports and Recreations', 'Kids and Pets', 'Transportation', 'Connectivity', 'Accessibilty', 'Things to Do', 'General', 'Public Facilities', 'Nearby Facilities', 'Business Facilities', 'In-room Facilities', 'Hotel Services', 'Food and Drinks', 'Fast Food', 'Shop & Gifts', 'Business', 'Transportation Hub', 'Casual Dining', 'Nightlife', 'Park & Zoo', 'Public Service', 'Arts & Sciences', 'Fine Dining', 'Sport', 'Quick Bites', 'Education', 'Street Food', 'Activity & Games', 'Cafe', 'Entertainment', 'Food Court', 'Sight & Landmark' ]]\n",
    "y = df['Rating']"
   ]
  },
  {
   "cell_type": "code",
   "execution_count": 15,
   "metadata": {
    "id": "N1ATNg6motGV"
   },
   "outputs": [],
   "source": [
    "from sklearn.model_selection import train_test_split\n",
    "# X_train, X_test, y_train, y_test = train_test_split(X, y, test_size = 0.2, random_state = 0)\n",
    "dev_X, val_X, dev_y, val_y = train_test_split(X, y, test_size = 0.2, random_state = 0)"
   ]
  },
  {
   "cell_type": "markdown",
   "metadata": {
    "id": "ZB6D4jmvQ0XK"
   },
   "source": [
    "## Light GBM"
   ]
  },
  {
   "cell_type": "code",
   "execution_count": 16,
   "metadata": {
    "id": "kHEqGXrQoxuJ"
   },
   "outputs": [],
   "source": [
    "#import lightgbm as lgb\n",
    "#clf = lgb.lambdarank()\n",
    "#clf.fit(X_train, y_train)\n",
    "\n",
    "def run_lgb(X_train, X_test, y_train, y_test):\n",
    "    params = {\n",
    "        \"objective\" : \"regression\",\n",
    "        \"metric\" : \"rmse\",\n",
    "        \"num_leaves\" : 40,\n",
    "        \"learning_rate\" : 0.004,\n",
    "        \"bagging_fraction\" : 0.6,\n",
    "        \"feature_fraction\" : 0.6,\n",
    "        \"bagging_frequency\" : 6,\n",
    "        \"bagging_seed\" : 42,\n",
    "        \"verbosity\" : -1,\n",
    "        \"seed\": 42\n",
    "    }\n",
    "    \n",
    "    lgtrain = lgb.Dataset(X, label=y)\n",
    "    lgval = lgb.Dataset(val_X, label=val_y)\n",
    "    evals_result = {}\n",
    "    model = lgb.train(params, lgtrain, 5000, \n",
    "                      valid_sets=[lgtrain, lgval], \n",
    "                      early_stopping_rounds=100, \n",
    "                      verbose_eval=150, \n",
    "                      evals_result=evals_result)\n",
    "    \n",
    "    #pred_test_y = np.expm1(model.predict(test_X, num_iteration=model.best_iteration))\n",
    "    return model, evals_result #pred_test_y"
   ]
  },
  {
   "cell_type": "code",
   "execution_count": 17,
   "metadata": {
    "colab": {
     "base_uri": "https://localhost:8080/"
    },
    "id": "xRD3429DtQXg",
    "outputId": "8ce22738-2868-4d15-e6d8-e600fc8912a8"
   },
   "outputs": [
    {
     "name": "stdout",
     "output_type": "stream",
     "text": [
      "[LightGBM] [Warning] Unknown parameter: bagging_frequency\n",
      "Training until validation scores don't improve for 100 rounds\n"
     ]
    },
    {
     "name": "stderr",
     "output_type": "stream",
     "text": [
      "/home/gusanwa/.local/lib/python3.10/site-packages/lightgbm/engine.py:181: UserWarning: 'early_stopping_rounds' argument is deprecated and will be removed in a future release of LightGBM. Pass 'early_stopping()' callback via 'callbacks' argument instead.\n",
      "  _log_warning(\"'early_stopping_rounds' argument is deprecated and will be removed in a future release of LightGBM. \"\n",
      "/home/gusanwa/.local/lib/python3.10/site-packages/lightgbm/engine.py:239: UserWarning: 'verbose_eval' argument is deprecated and will be removed in a future release of LightGBM. Pass 'log_evaluation()' callback via 'callbacks' argument instead.\n",
      "  _log_warning(\"'verbose_eval' argument is deprecated and will be removed in a future release of LightGBM. \"\n",
      "/home/gusanwa/.local/lib/python3.10/site-packages/lightgbm/engine.py:260: UserWarning: 'evals_result' argument is deprecated and will be removed in a future release of LightGBM. Pass 'record_evaluation()' callback via 'callbacks' argument instead.\n",
      "  _log_warning(\"'evals_result' argument is deprecated and will be removed in a future release of LightGBM. \"\n"
     ]
    },
    {
     "name": "stdout",
     "output_type": "stream",
     "text": [
      "[150]\ttraining's rmse: 0.215747\tvalid_1's rmse: 0.225934\n",
      "[300]\ttraining's rmse: 0.197047\tvalid_1's rmse: 0.195808\n",
      "[450]\ttraining's rmse: 0.183936\tvalid_1's rmse: 0.17601\n",
      "[600]\ttraining's rmse: 0.17322\tvalid_1's rmse: 0.16079\n",
      "[750]\ttraining's rmse: 0.16446\tvalid_1's rmse: 0.149243\n",
      "[900]\ttraining's rmse: 0.156643\tvalid_1's rmse: 0.140193\n",
      "[1050]\ttraining's rmse: 0.149939\tvalid_1's rmse: 0.132418\n",
      "[1200]\ttraining's rmse: 0.14468\tvalid_1's rmse: 0.127275\n",
      "[1350]\ttraining's rmse: 0.140144\tvalid_1's rmse: 0.122799\n",
      "[1500]\ttraining's rmse: 0.136336\tvalid_1's rmse: 0.119163\n",
      "[1650]\ttraining's rmse: 0.132807\tvalid_1's rmse: 0.115734\n",
      "[1800]\ttraining's rmse: 0.129869\tvalid_1's rmse: 0.113213\n",
      "[1950]\ttraining's rmse: 0.127009\tvalid_1's rmse: 0.111\n",
      "[2100]\ttraining's rmse: 0.124426\tvalid_1's rmse: 0.108922\n",
      "[2250]\ttraining's rmse: 0.12188\tvalid_1's rmse: 0.106944\n",
      "[2400]\ttraining's rmse: 0.119423\tvalid_1's rmse: 0.104686\n",
      "[2550]\ttraining's rmse: 0.117117\tvalid_1's rmse: 0.102577\n",
      "[2700]\ttraining's rmse: 0.114841\tvalid_1's rmse: 0.100665\n",
      "[2850]\ttraining's rmse: 0.112663\tvalid_1's rmse: 0.0988629\n",
      "[3000]\ttraining's rmse: 0.110498\tvalid_1's rmse: 0.0970901\n",
      "[3150]\ttraining's rmse: 0.108522\tvalid_1's rmse: 0.0955762\n",
      "[3300]\ttraining's rmse: 0.106667\tvalid_1's rmse: 0.0939921\n",
      "[3450]\ttraining's rmse: 0.104803\tvalid_1's rmse: 0.0923731\n",
      "[3600]\ttraining's rmse: 0.103042\tvalid_1's rmse: 0.0907968\n",
      "[3750]\ttraining's rmse: 0.101265\tvalid_1's rmse: 0.0892188\n",
      "[3900]\ttraining's rmse: 0.0995693\tvalid_1's rmse: 0.0875855\n",
      "[4050]\ttraining's rmse: 0.097939\tvalid_1's rmse: 0.0865073\n",
      "[4200]\ttraining's rmse: 0.0962822\tvalid_1's rmse: 0.0849301\n",
      "[4350]\ttraining's rmse: 0.0946247\tvalid_1's rmse: 0.083589\n",
      "[4500]\ttraining's rmse: 0.0927505\tvalid_1's rmse: 0.0819501\n",
      "[4650]\ttraining's rmse: 0.0910436\tvalid_1's rmse: 0.0803202\n",
      "[4800]\ttraining's rmse: 0.0894541\tvalid_1's rmse: 0.07877\n",
      "[4950]\ttraining's rmse: 0.087846\tvalid_1's rmse: 0.0770319\n",
      "Did not meet early stopping. Best iteration is:\n",
      "[5000]\ttraining's rmse: 0.0873314\tvalid_1's rmse: 0.0764903\n",
      "LightGBM Training Completed...\n"
     ]
    }
   ],
   "source": [
    "model, evals_result = run_lgb(dev_X, dev_y, val_X, val_y)\n",
    "print(\"LightGBM Training Completed...\")"
   ]
  },
  {
   "cell_type": "code",
   "execution_count": 18,
   "metadata": {
    "colab": {
     "base_uri": "https://localhost:8080/"
    },
    "id": "zgZvIH5VXlJk",
    "outputId": "99bdfcde-93a8-4014-a237-5aa62b37669d"
   },
   "outputs": [
    {
     "name": "stdout",
     "output_type": "stream",
     "text": [
      "[8.77146568 8.77055613 8.60597962 8.61903903 8.92905607 8.65957379\n",
      " 8.57714768 8.63329369 8.93054925 8.78620198 8.69894639 8.22525083\n",
      " 8.21443887 8.71270823 8.6244002  8.72390828 8.61468971 8.76437303\n",
      " 8.62475007 8.77484651 8.59561375 8.52068979 8.50971226 8.52370914\n",
      " 8.33377036 8.72390828 8.86460039 8.50971226 8.75634119 8.47404563\n",
      " 8.60960388 8.81411453 8.55749901 8.46260941 8.62039055 8.59893702\n",
      " 8.63573172 8.80656337 8.47120586 8.63285081 8.56122591 8.54417456\n",
      " 8.53325961 8.51704168 8.5739079  8.94533962 8.78072107 8.607573\n",
      " 8.61719086 8.55345671 8.55918528 8.55918528 8.509857   8.02979684\n",
      " 8.29651116 8.39085691 8.50185653 8.58038976 8.62127349 8.51678488\n",
      " 8.68686153 8.53688261 8.50329099 8.56556464 8.66487174 8.31779864\n",
      " 8.22960905 8.46880306 8.58853703 8.48274675 8.61584227 8.86056989\n",
      " 8.69530981 8.33215794 8.44239868 8.4642393  8.875035   8.47980434\n",
      " 8.18410472 8.60463172 8.42680453 8.14699807 8.6139382  8.00998833\n",
      " 8.03228766 8.81289303 8.11326206 8.37840711 8.18399483]\n"
     ]
    }
   ],
   "source": [
    "y_pred = model.predict(X)\n",
    "print(y_pred)"
   ]
  },
  {
   "cell_type": "code",
   "execution_count": 19,
   "metadata": {
    "colab": {
     "base_uri": "https://localhost:8080/",
     "height": 53
    },
    "id": "JxUrFaVORP0o",
    "outputId": "5aa1d382-91fa-4e4d-f155-02023794e37b"
   },
   "outputs": [
    {
     "data": {
      "text/plain": [
       "'\\n# feature importance\\nprint(\"Features Importance...\")\\ngain = model.feature_importance(\\'Rating\\')\\nfeatureimp = pd.DataFrame({\\'Rating\\':model.feature_name(), \\n                   \\'split\\':model.feature_importance(\\'split\\'), \\n                   \\'Rating\\':100 * gain / gain.sum()}).sort_values(\\'Rating\\', ascending=False)\\nprint(featureimp[:50])\\n'"
      ]
     },
     "execution_count": 19,
     "metadata": {},
     "output_type": "execute_result"
    }
   ],
   "source": [
    "'''\n",
    "# feature importance\n",
    "print(\"Features Importance...\")\n",
    "gain = model.feature_importance('Rating')\n",
    "featureimp = pd.DataFrame({'Rating':model.feature_name(), \n",
    "                   'split':model.feature_importance('split'), \n",
    "                   'Rating':100 * gain / gain.sum()}).sort_values('Rating', ascending=False)\n",
    "print(featureimp[:50])\n",
    "'''"
   ]
  },
  {
   "cell_type": "markdown",
   "metadata": {
    "id": "MEiQ4uDssXiD"
   },
   "source": [
    "## XGBoost\n",
    "\n",
    "\n",
    "\n",
    "\n",
    "\n",
    "\n",
    "\n",
    "\n",
    "\n",
    "\n",
    "\n",
    "\n",
    "\n",
    "\n",
    "\n",
    "\n",
    "\n",
    "\n",
    "\n",
    "\n",
    "\n"
   ]
  },
  {
   "cell_type": "code",
   "execution_count": 20,
   "metadata": {
    "id": "jPjhr5ldRK3z"
   },
   "outputs": [],
   "source": [
    "def run_xgb(train_X, train_y, val_X, val_y):\n",
    "    params = {'objective': 'reg:linear', \n",
    "          'eval_metric': 'rmse',\n",
    "          'eta': 0.001,\n",
    "          'max_depth': 10, \n",
    "          'subsample': 0.6, \n",
    "          'colsample_bytree': 0.6,\n",
    "          'alpha':0.001,\n",
    "          'random_state': 42, \n",
    "          'silent': True}\n",
    "    \n",
    "    tr_data = xgb.DMatrix(train_X, train_y)\n",
    "    va_data = xgb.DMatrix(val_X, val_y)\n",
    "    \n",
    "    watchlist = [(tr_data, 'train'), (va_data, 'valid')]\n",
    "    \n",
    "    model_xgb = xgb.train(params, tr_data, 2000, watchlist, maximize=False, early_stopping_rounds = 100, verbose_eval=100)\n",
    "    \n",
    "    #dtest = xgb.DMatrix(test_X)\n",
    "    #xgb_pred_y = np.expm1(model_xgb.predict(dtest, ntree_limit=model_xgb.best_ntree_limit))\n",
    "    \n",
    "    return  model_xgb #, xgb_pred_y,"
   ]
  },
  {
   "cell_type": "code",
   "execution_count": null,
   "metadata": {
    "colab": {
     "base_uri": "https://localhost:8080/"
    },
    "id": "sdWUpwQ6SJWu",
    "outputId": "acf58248-90d1-41b5-adaf-7a8d31b99e83"
   },
   "outputs": [
    {
     "name": "stdout",
     "output_type": "stream",
     "text": [
      "[23:53:41] WARNING: ../src/objective/regression_obj.cu:203: reg:linear is now deprecated in favor of reg:squarederror.\n",
      "[23:53:41] WARNING: ../src/learner.cc:627: \n",
      "Parameters: { \"silent\" } might not be used.\n",
      "\n",
      "  This could be a false alarm, with some parameters getting used by language bindings but\n",
      "  then being mistakenly passed down to XGBoost core, or some parameter actually being used\n",
      "  but getting flagged wrongly here. Please open an issue if you find any such cases.\n",
      "\n",
      "\n",
      "[0]\ttrain-rmse:8.05767\tvalid-rmse:8.02442\n"
     ]
    },
    {
     "name": "stderr",
     "output_type": "stream",
     "text": [
      "/home/gusanwa/.local/lib/python3.10/site-packages/xgboost/core.py:525: FutureWarning: Pass `evals` as keyword args.  Passing these as positional arguments will be considered as error in future releases.\n",
      "  warnings.warn(\n"
     ]
    },
    {
     "name": "stdout",
     "output_type": "stream",
     "text": [
      "[100]\ttrain-rmse:7.30820\tvalid-rmse:7.27506\n",
      "[200]\ttrain-rmse:6.62856\tvalid-rmse:6.59553\n",
      "[300]\ttrain-rmse:6.01245\tvalid-rmse:5.97954\n",
      "[400]\ttrain-rmse:5.45373\tvalid-rmse:5.42095\n",
      "[500]\ttrain-rmse:4.94660\tvalid-rmse:4.91398\n",
      "[600]\ttrain-rmse:4.48701\tvalid-rmse:4.45455\n",
      "[700]\ttrain-rmse:4.07046\tvalid-rmse:4.03819\n",
      "[800]\ttrain-rmse:3.69278\tvalid-rmse:3.66071\n",
      "[900]\ttrain-rmse:3.35055\tvalid-rmse:3.31870\n",
      "[1000]\ttrain-rmse:3.04032\tvalid-rmse:3.00873\n",
      "[1100]\ttrain-rmse:2.75918\tvalid-rmse:2.72786\n",
      "[1200]\ttrain-rmse:2.50454\tvalid-rmse:2.47354\n",
      "[1300]\ttrain-rmse:2.27344\tvalid-rmse:2.24279\n",
      "[1400]\ttrain-rmse:2.06461\tvalid-rmse:2.03434\n",
      "[1500]\ttrain-rmse:1.87519\tvalid-rmse:1.84535\n",
      "[1600]\ttrain-rmse:1.70393\tvalid-rmse:1.67456\n",
      "[1700]\ttrain-rmse:1.54870\tvalid-rmse:1.51975\n",
      "[1800]\ttrain-rmse:1.40799\tvalid-rmse:1.37923\n",
      "[1900]\ttrain-rmse:1.28146\tvalid-rmse:1.25310\n"
     ]
    }
   ],
   "source": [
    "# Training XGB\n",
    "model_xgb = run_xgb(dev_X, dev_y, val_X, val_y)\n",
    "print(\"XGB Training Completed...\")"
   ]
  },
  {
   "cell_type": "markdown",
   "metadata": {
    "id": "tph7rgkYSOjS"
   },
   "source": [
    "## Catboost"
   ]
  },
  {
   "cell_type": "code",
   "execution_count": null,
   "metadata": {
    "id": "gKXAe9bnSQtM"
   },
   "outputs": [],
   "source": [
    "cb_model = CatBoostRegressor(iterations=500,\n",
    "                             learning_rate=0.05,\n",
    "                             depth=10,\n",
    "                             eval_metric='RMSE',\n",
    "                             random_seed = 42,\n",
    "                             bagging_temperature = 0.2,\n",
    "                             od_type='Iter',\n",
    "                             metric_period = 50,\n",
    "                             od_wait=20)"
   ]
  },
  {
   "cell_type": "code",
   "execution_count": null,
   "metadata": {
    "colab": {
     "base_uri": "https://localhost:8080/"
    },
    "id": "l_sxznhvSlca",
    "outputId": "f07da1cc-b0e6-4487-cc09-7ce0b05b62e9"
   },
   "outputs": [],
   "source": [
    "cb_model.fit(dev_X, dev_y,\n",
    "             eval_set=(val_X, val_y),\n",
    "             use_best_model=True,\n",
    "             verbose=50)"
   ]
  },
  {
   "cell_type": "markdown",
   "metadata": {
    "colab": {
     "base_uri": "https://localhost:8080/"
    },
    "id": "E7czCy0dSsJo",
    "outputId": "4a2343e0-9b23-4cfa-d050-ed636562de41"
   },
   "source": [
    "pred_test_cat = np.expm1(cb_model.predict(X))\n",
    "print(pred_test_cat)"
   ]
  },
  {
   "cell_type": "markdown",
   "metadata": {
    "id": "BPfXvYFmSRsr"
   },
   "source": [
    "## Tensorflow Regression"
   ]
  },
  {
   "cell_type": "code",
   "execution_count": null,
   "metadata": {},
   "outputs": [],
   "source": [
    "df = df.drop(['Hotel', 'Places Nearby', 'Facil + Akomod'], axis=1)\n",
    "df"
   ]
  },
  {
   "cell_type": "markdown",
   "metadata": {},
   "source": [
    "## Data Preparation"
   ]
  },
  {
   "cell_type": "code",
   "execution_count": null,
   "metadata": {},
   "outputs": [],
   "source": [
    "train_dataset = df\n",
    "test_dataset = df.drop(train_dataset.index)\n",
    "\n",
    "train_features = train_dataset.copy()\n",
    "test_features = test_dataset.copy()\n",
    "\n",
    "train_labels = train_features.pop('Rating')\n",
    "test_labels = test_features.pop('Rating')"
   ]
  },
  {
   "cell_type": "code",
   "execution_count": null,
   "metadata": {},
   "outputs": [],
   "source": [
    "train_features"
   ]
  },
  {
   "cell_type": "code",
   "execution_count": null,
   "metadata": {},
   "outputs": [],
   "source": [
    "print(train_features.info)"
   ]
  },
  {
   "cell_type": "markdown",
   "metadata": {},
   "source": [
    "# TENSORFLOW PIPELINE"
   ]
  },
  {
   "cell_type": "code",
   "execution_count": null,
   "metadata": {},
   "outputs": [],
   "source": [
    "normalizer = tf.keras.layers.Normalization(axis=-1)\n",
    "normalizer.adapt(np.array(train_features))\n",
    "print(normalizer.mean.numpy())"
   ]
  },
  {
   "cell_type": "code",
   "execution_count": null,
   "metadata": {},
   "outputs": [],
   "source": [
    "regularizer = 0.000001\n",
    "dropout = 0\n",
    "schedul = -0.0001\n",
    "\n",
    "\n",
    "\n",
    "lr = 0.001"
   ]
  },
  {
   "cell_type": "code",
   "execution_count": null,
   "metadata": {},
   "outputs": [],
   "source": [
    "def mikro_model(norm):\n",
    "  \n",
    "    model = keras.Sequential([\n",
    "      norm,\n",
    "      layers.Dense(8, activation='relu', kernel_regularizer=regularizers.l2(regularizer) ),\n",
    "      layers.Dropout(dropout),\n",
    "      layers.Dense(8, activation='relu', kernel_regularizer=regularizers.l2(regularizer)),\n",
    "      layers.Dropout(dropout),\n",
    "      layers.Dense(1)\n",
    "      ])\n",
    "    \n",
    "    return model\n",
    "\n",
    "\n",
    "\n",
    "def small_model(norm):\n",
    "  \n",
    "    model = keras.Sequential([\n",
    "      norm,\n",
    "      layers.Dense(16, activation='relu', kernel_regularizer=regularizers.l2(regularizer) ),\n",
    "        layers.Dropout(dropout),\n",
    "      layers.Dense(16, activation='relu', kernel_regularizer=regularizers.l2(regularizer)),\n",
    "        layers.Dropout(dropout),\n",
    "      layers.Dense(1)\n",
    "      ])\n",
    "    \n",
    "    return model\n",
    "\n",
    "\n",
    "def medium_model(norm):\n",
    "  \n",
    "    model = keras.Sequential([\n",
    "      norm,\n",
    "      layers.Dense(64, activation='relu', kernel_regularizer=regularizers.l2(regularizer) ),\n",
    "      layers.Dropout(dropout),\n",
    "      layers.Dense(16, activation='relu', kernel_regularizer=regularizers.l2(regularizer) ),\n",
    "      layers.Dropout(dropout),\n",
    "      layers.Dense(1)\n",
    "      ])\n",
    "    \n",
    "    return model\n",
    "\n",
    "\n",
    "def large_model(norm):\n",
    "  \n",
    "    model = keras.Sequential([\n",
    "      norm,\n",
    "      layers.Dense(128, activation='relu', kernel_regularizer=regularizers.l2(regularizer)),\n",
    "        layers.Dropout(dropout),\n",
    "      layers.Dense(128, activation='relu', kernel_regularizer=regularizers.l2(regularizer)),\n",
    "        layers.Dropout(dropout),\n",
    "      layers.Dense(128, activation='relu', kernel_regularizer=regularizers.l2(regularizer)),\n",
    "        layers.Dropout(dropout),\n",
    "      layers.Dense(1)\n",
    "      ])\n",
    "    \n",
    "    return model\n",
    "\n",
    "def scale_model(norm):\n",
    "  \n",
    "    model = keras.Sequential([\n",
    "      norm,\n",
    "      layers.Dense(512, activation='relu', kernel_regularizer=regularizers.l2(regularizer)),\n",
    "        layers.Dropout(dropout),\n",
    "      layers.Dense(512, activation='relu', kernel_regularizer=regularizers.l2(regularizer)),\n",
    "        layers.Dropout(dropout),\n",
    "      layers.Dense(512, activation='relu', kernel_regularizer=regularizers.l2(regularizer)),\n",
    "        layers.Dropout(dropout),\n",
    "        layers.Dense(512, activation='relu', kernel_regularizer=regularizers.l2(regularizer)),\n",
    "        layers.Dropout(dropout),\n",
    "        layers.Dense(128, activation='relu', kernel_regularizer=regularizers.l2(regularizer)),\n",
    "        layers.Dropout(dropout),\n",
    "        layers.Dense(128, activation='relu', kernel_regularizer=regularizers.l2(regularizer)),\n",
    "        layers.Dropout(dropout),\n",
    "         layers.Dense(64, activation='relu', kernel_regularizer=regularizers.l2(regularizer)),\n",
    "        layers.Dropout(dropout),\n",
    "      layers.Dense(1)\n",
    "      ])\n",
    "    \n",
    "    return model"
   ]
  },
  {
   "cell_type": "markdown",
   "metadata": {},
   "source": [
    "## OPTIMIZER"
   ]
  },
  {
   "cell_type": "code",
   "execution_count": null,
   "metadata": {},
   "outputs": [],
   "source": [
    "optimizer2 = tf.optimizers.Adam(learning_rate=lr)"
   ]
  },
  {
   "cell_type": "markdown",
   "metadata": {},
   "source": [
    "## SCHEDULER"
   ]
  },
  {
   "cell_type": "code",
   "execution_count": null,
   "metadata": {},
   "outputs": [],
   "source": [
    "def scheduler(epoch, lr):\n",
    "  if epoch < 10:\n",
    "    return lr\n",
    "  else:\n",
    "    return lr * tf.math.exp(schedul)\n",
    "\n"
   ]
  },
  {
   "cell_type": "code",
   "execution_count": null,
   "metadata": {},
   "outputs": [],
   "source": [
    "def DNN_Pipeline (model):\n",
    "    \n",
    "    model.compile(optimizer= optimizer2, loss='mean_absolute_error')\n",
    "    \n",
    "    history = model.fit(\n",
    "    train_features,\n",
    "    train_labels,\n",
    "    validation_split=0.2,\n",
    "    callbacks = tf.keras.callbacks.LearningRateScheduler(scheduler),\n",
    "    verbose=0, epochs=100)\n",
    "    \n",
    "    hist = pd.DataFrame(history.history)\n",
    "    hist['epoch'] = history.epoch\n",
    "    \n",
    "    plt.plot(history.history['loss'], label='loss')\n",
    "    plt.plot(history.history['val_loss'], label='val_loss')\n",
    "    plt.ylim([0, 2])\n",
    "    plt.xlabel('Epoch')\n",
    "    plt.ylabel('Error [MPG]')\n",
    "    plt.legend()\n",
    "    plt.grid(True)\n",
    "    print(hist.tail(10))\n",
    "    \n",
    "    return model"
   ]
  },
  {
   "cell_type": "code",
   "execution_count": null,
   "metadata": {},
   "outputs": [],
   "source": [
    "small = DNN_Pipeline(small_model(normalizer))"
   ]
  },
  {
   "cell_type": "code",
   "execution_count": null,
   "metadata": {},
   "outputs": [],
   "source": [
    "medium = DNN_Pipeline(medium_model(normalizer))"
   ]
  },
  {
   "cell_type": "code",
   "execution_count": null,
   "metadata": {},
   "outputs": [],
   "source": [
    "large = DNN_Pipeline(large_model(normalizer))"
   ]
  },
  {
   "cell_type": "code",
   "execution_count": null,
   "metadata": {},
   "outputs": [],
   "source": [
    "mikro = DNN_Pipeline(mikro_model(normalizer))"
   ]
  },
  {
   "cell_type": "code",
   "execution_count": null,
   "metadata": {},
   "outputs": [],
   "source": [
    "scale = DNN_Pipeline(scale_model(normalizer))"
   ]
  },
  {
   "cell_type": "markdown",
   "metadata": {},
   "source": [
    "# RANGKING WITH REGRESSION"
   ]
  },
  {
   "cell_type": "code",
   "execution_count": null,
   "metadata": {},
   "outputs": [],
   "source": [
    "a = []\n",
    "\n",
    "for x in range(1,90):\n",
    "    a.append(x)\n",
    "    \n",
    "print(a)\n",
    "\n",
    "df2 = df\n",
    "df2['Rank'] = a\n",
    "\n",
    "df2"
   ]
  },
  {
   "cell_type": "code",
   "execution_count": null,
   "metadata": {},
   "outputs": [],
   "source": [
    "train_dataset = df2\n",
    "\n",
    "train_features = train_dataset.copy()\n",
    "\n",
    "\n",
    "train_labels = train_features.pop('Rank')\n"
   ]
  },
  {
   "cell_type": "code",
   "execution_count": null,
   "metadata": {},
   "outputs": [],
   "source": [
    "normalizer2 = tf.keras.layers.Normalization(axis=-1)\n",
    "normalizer2.adapt(np.array(train_features))\n",
    "print(normalizer.mean.numpy())"
   ]
  },
  {
   "cell_type": "code",
   "execution_count": null,
   "metadata": {},
   "outputs": [],
   "source": [
    "large = DNN_Pipeline(large_model(normalizer2))\n"
   ]
  },
  {
   "cell_type": "code",
   "execution_count": null,
   "metadata": {},
   "outputs": [],
   "source": [
    "scale = DNN_Pipeline(scale_model(normalizer2))\n"
   ]
  },
  {
   "cell_type": "code",
   "execution_count": null,
   "metadata": {},
   "outputs": [],
   "source": [
    "medium = DNN_Pipeline(medium_model(normalizer2))"
   ]
  },
  {
   "cell_type": "code",
   "execution_count": null,
   "metadata": {},
   "outputs": [],
   "source": [
    "df_eval"
   ]
  },
  {
   "cell_type": "code",
   "execution_count": null,
   "metadata": {},
   "outputs": [],
   "source": [
    "train_features"
   ]
  },
  {
   "cell_type": "code",
   "execution_count": null,
   "metadata": {},
   "outputs": [],
   "source": [
    "df_eval"
   ]
  },
  {
   "cell_type": "code",
   "execution_count": null,
   "metadata": {},
   "outputs": [],
   "source": [
    "df_eval['score'] = medium.predict(train_features)\n",
    "df_eval_sorted = df_eval.sort_values(by=['score'], ascending = False)\n",
    "\n",
    "df_eval_sorted"
   ]
  },
  {
   "cell_type": "code",
   "execution_count": null,
   "metadata": {},
   "outputs": [],
   "source": []
  },
  {
   "cell_type": "code",
   "execution_count": null,
   "metadata": {},
   "outputs": [],
   "source": []
  },
  {
   "cell_type": "markdown",
   "metadata": {},
   "source": [
    "# RANk error per item (0 is perfect)"
   ]
  },
  {
   "cell_type": "code",
   "execution_count": null,
   "metadata": {},
   "outputs": [],
   "source": [
    "b = []\n",
    "\n",
    "for x in range (72,90):\n",
    "    b.append(x)\n",
    "\n",
    "    \n",
    "c = b-(new_sorted['Rank'])\n",
    "\n",
    "print (c)"
   ]
  },
  {
   "cell_type": "code",
   "execution_count": null,
   "metadata": {},
   "outputs": [],
   "source": [
    "print(df_rank.index)"
   ]
  },
  {
   "cell_type": "code",
   "execution_count": null,
   "metadata": {},
   "outputs": [],
   "source": [
    "test_labels"
   ]
  },
  {
   "cell_type": "markdown",
   "metadata": {},
   "source": [
    "## Rank Train Datasets"
   ]
  },
  {
   "cell_type": "code",
   "execution_count": null,
   "metadata": {},
   "outputs": [],
   "source": [
    "df"
   ]
  },
  {
   "cell_type": "code",
   "execution_count": null,
   "metadata": {},
   "outputs": [],
   "source": []
  },
  {
   "cell_type": "code",
   "execution_count": null,
   "metadata": {},
   "outputs": [],
   "source": [
    "train_features"
   ]
  },
  {
   "cell_type": "code",
   "execution_count": null,
   "metadata": {},
   "outputs": [],
   "source": [
    "# Rank train datasets\n",
    "\n",
    "medium.predict(train_features)"
   ]
  },
  {
   "cell_type": "code",
   "execution_count": null,
   "metadata": {},
   "outputs": [],
   "source": [
    "df_rank = train_dataset\n",
    "df_rank['score'] = medium.predict(train_features)\n",
    "df_rank\n",
    "new_sorted2 = df_rank.sort_values(by=['score'])\n",
    "new_sorted2"
   ]
  },
  {
   "cell_type": "markdown",
   "metadata": {},
   "source": [
    "# RANk error per item (0 is perfect)"
   ]
  },
  {
   "cell_type": "code",
   "execution_count": null,
   "metadata": {},
   "outputs": [],
   "source": [
    "K = []\n",
    "\n",
    "for x in range (1,72):\n",
    "    K.append(x)\n",
    "\n",
    "    \n",
    "c = K-(new_sorted2['Rank'])\n",
    "\n",
    "for x in c:\n",
    "    print (x)"
   ]
  },
  {
   "cell_type": "markdown",
   "metadata": {},
   "source": [
    "## Export the model"
   ]
  },
  {
   "cell_type": "code",
   "execution_count": null,
   "metadata": {},
   "outputs": [],
   "source": [
    "medium.save_weights('model3.h5')"
   ]
  },
  {
   "cell_type": "code",
   "execution_count": null,
   "metadata": {},
   "outputs": [],
   "source": []
  },
  {
   "cell_type": "code",
   "execution_count": null,
   "metadata": {},
   "outputs": [],
   "source": [
    "df"
   ]
  },
  {
   "cell_type": "code",
   "execution_count": null,
   "metadata": {},
   "outputs": [],
   "source": [
    "train_features"
   ]
  },
  {
   "cell_type": "code",
   "execution_count": null,
   "metadata": {},
   "outputs": [],
   "source": [
    "\n",
    "facilities_columns = ['Food and Drinks','Hotel Services','In-room Facilities', 'Business Facilities', 'Nearby Facilities',\n",
    "                      'Public Facilities', 'General', 'Things to Do', 'Accessibilty', 'Connectivity', 'Transportation',\n",
    "                      'Kids and Pets', 'Sports and Recreations', 'Shuttle Service']\n",
    "ind = []\n",
    "list_subfacil = {}\n",
    "for index, row in df_cp.iterrows():\n",
    "    facils = row['Facil + Akomod'].splitlines()\n",
    "    facils = [facil for facil in facils if facil != '']\n",
    "    \n",
    "    \n",
    "    for facil in facils: \n",
    "        if facil in facilities_columns:\n",
    "            main_facil = facil\n",
    "            list_subfacil[main_facil] = []\n",
    "        else:\n",
    "            list_subfacil[main_facil] += [facil]\n",
    "    ind.append(list_subfacil)\n",
    "\n",
    "# print(ind)\n",
    "for index, facil in enumerate(ind):\n",
    "    for key, value in facil.items():\n",
    "        df_cp.at[index, \"{}_list\".format(key)] = '\\n'.join(value)\n",
    "df_cp\n"
   ]
  },
  {
   "cell_type": "code",
   "execution_count": null,
   "metadata": {},
   "outputs": [],
   "source": [
    "for x in df_cp['Food and Drinks_list']:\n",
    "    print(x)"
   ]
  },
  {
   "cell_type": "code",
   "execution_count": null,
   "metadata": {},
   "outputs": [],
   "source": []
  }
 ],
 "metadata": {
  "colab": {
   "collapsed_sections": [
    "k0A8fICUnIbP",
    "jSayjhlNQ_9g",
    "BPfXvYFmSRsr"
   ],
   "name": "Capstone - Test  v2 (XGB, LGBM, CB)",
   "provenance": []
  },
  "kernelspec": {
   "display_name": "Python 3 (ipykernel)",
   "language": "python",
   "name": "python3"
  },
  "language_info": {
   "codemirror_mode": {
    "name": "ipython",
    "version": 3
   },
   "file_extension": ".py",
   "mimetype": "text/x-python",
   "name": "python",
   "nbconvert_exporter": "python",
   "pygments_lexer": "ipython3",
   "version": "3.10.5"
  }
 },
 "nbformat": 4,
 "nbformat_minor": 1
}
