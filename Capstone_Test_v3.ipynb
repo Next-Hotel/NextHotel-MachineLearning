{
  "cells": [
    {
      "cell_type": "markdown",
      "metadata": {
        "id": "viC_eDWwyt3v"
      },
      "source": [
        "## Learning to Rank\n",
        "\n",
        "Pointwise: One instance of the set is considered at a time, use any kind of classifier or regressor to predict how relevant it is in the current query. Use each points predicted relevance to order the set.\n",
        "\n",
        "Pairwise: A pair of instances is chosen and the order of those two is predicted. Repeat this for each pair of the query to find the final order of the entire query.\n",
        "\n",
        "Listwise: Many or all instances are considered at once. Try to find the optimal order."
      ]
    },
    {
      "cell_type": "markdown",
      "metadata": {
        "id": "PxYT1wympZXH"
      },
      "source": [
        "- https://www.kaggle.com/code/prashant111/lightgbm-classifier-in-python\n",
        "- https://www.kaggle.com/code/samratp/lightgbm-xgboost-catboost\n",
        "- https://developer.nvidia.com/blog/learning-to-rank-with-xgboost-and-gpu/#:~:text=XGBoost%20is%20a%20widely%20used,descent%20using%20an%20objective%20function.\n",
        "- https://medium.com/predictly-on-tech/learning-to-rank-using-xgboost-83de0166229d"
      ]
    },
    {
      "cell_type": "code",
      "execution_count": 5,
      "metadata": {
        "colab": {
          "base_uri": "https://localhost:8080/"
        },
        "id": "RDXuWhktQRs_",
        "outputId": "5669b3b8-360f-47a2-c953-64876ad49db2"
      },
      "outputs": [
        {
          "output_type": "stream",
          "name": "stdout",
          "text": [
            "Looking in indexes: https://pypi.org/simple, https://us-python.pkg.dev/colab-wheels/public/simple/\n",
            "Requirement already satisfied: catboost in /usr/local/lib/python3.7/dist-packages (1.0.6)\n",
            "Requirement already satisfied: plotly in /usr/local/lib/python3.7/dist-packages (from catboost) (5.5.0)\n",
            "Requirement already satisfied: matplotlib in /usr/local/lib/python3.7/dist-packages (from catboost) (3.2.2)\n",
            "Requirement already satisfied: scipy in /usr/local/lib/python3.7/dist-packages (from catboost) (1.4.1)\n",
            "Requirement already satisfied: pandas>=0.24.0 in /usr/local/lib/python3.7/dist-packages (from catboost) (1.3.5)\n",
            "Requirement already satisfied: six in /usr/local/lib/python3.7/dist-packages (from catboost) (1.15.0)\n",
            "Requirement already satisfied: numpy>=1.16.0 in /usr/local/lib/python3.7/dist-packages (from catboost) (1.21.6)\n",
            "Requirement already satisfied: graphviz in /usr/local/lib/python3.7/dist-packages (from catboost) (0.10.1)\n",
            "Requirement already satisfied: python-dateutil>=2.7.3 in /usr/local/lib/python3.7/dist-packages (from pandas>=0.24.0->catboost) (2.8.2)\n",
            "Requirement already satisfied: pytz>=2017.3 in /usr/local/lib/python3.7/dist-packages (from pandas>=0.24.0->catboost) (2022.1)\n",
            "Requirement already satisfied: pyparsing!=2.0.4,!=2.1.2,!=2.1.6,>=2.0.1 in /usr/local/lib/python3.7/dist-packages (from matplotlib->catboost) (3.0.9)\n",
            "Requirement already satisfied: cycler>=0.10 in /usr/local/lib/python3.7/dist-packages (from matplotlib->catboost) (0.11.0)\n",
            "Requirement already satisfied: kiwisolver>=1.0.1 in /usr/local/lib/python3.7/dist-packages (from matplotlib->catboost) (1.4.2)\n",
            "Requirement already satisfied: typing-extensions in /usr/local/lib/python3.7/dist-packages (from kiwisolver>=1.0.1->matplotlib->catboost) (4.2.0)\n",
            "Requirement already satisfied: tenacity>=6.2.0 in /usr/local/lib/python3.7/dist-packages (from plotly->catboost) (8.0.1)\n"
          ]
        }
      ],
      "source": [
        "pip install catboost"
      ]
    },
    {
      "cell_type": "code",
      "execution_count": 6,
      "metadata": {
        "id": "znIW0iF4slqe"
      },
      "outputs": [],
      "source": [
        "import pandas as pd\n",
        "import numpy as np\n",
        "\n",
        "from sklearn import model_selection\n",
        "from sklearn.model_selection import train_test_split\n",
        "from sklearn.preprocessing import RobustScaler\n",
        "\n",
        "import lightgbm as lgb\n",
        "import xgboost as xgb\n",
        "from catboost import CatBoostRegressor\n",
        "\n",
        "import tensorflow as tf\n",
        "from tensorflow import keras\n",
        "from tensorflow.keras import layers\n",
        "from tensorflow.keras import regularizers\n",
        "\n",
        "import matplotlib.pyplot as plt\n",
        "import seaborn as sns\n"
      ]
    },
    {
      "cell_type": "markdown",
      "metadata": {
        "id": "ROB3AoMuy3p1"
      },
      "source": [
        "# Data Preparation (Pre-processing)"
      ]
    },
    {
      "cell_type": "code",
      "execution_count": 7,
      "metadata": {
        "colab": {
          "base_uri": "https://localhost:8080/",
          "height": 337
        },
        "id": "jDVedx--yzk3",
        "outputId": "3dc48d6b-95df-4385-af1e-d186d7158973"
      },
      "outputs": [
        {
          "output_type": "execute_result",
          "data": {
            "text/plain": [
              "                                               Hotel  Star  Rating Reviews  \\\n",
              "0                  Hotel Indonesia Kempinski Jakarta   5.0     8.9    4363   \n",
              "1                               The Langham, Jakarta   5.0     8.8     238   \n",
              "2                                    Manhattan Hotel   5.0     8.5    8405   \n",
              "3                                Aloft South Jakarta   4.0     8.9     424   \n",
              "4  The Mayflower, Jakarta - Marriott Executive Ap...   5.0     9.0     393   \n",
              "\n",
              "       Harga                                      Places Nearby  \\\n",
              "0  2.480.500  Nearby Places\\n\\nJia Jia - Grand Indonesia (De...   \n",
              "1  3.823.600  Nearby Places\\n\\nPig Me Up! - Ashta District 8...   \n",
              "2  6.231.500  Nearby Places\\n\\nJia Jia - Grand Indonesia (De...   \n",
              "3    762.300  Nearby Places\\n\\nSouthside Rooftop Bar & Loung...   \n",
              "4  1.756.254  Nearby Places\\n\\nSudirman Plaza\\nBusiness\\n2 m...   \n",
              "\n",
              "                                      Facil + Akomod  \n",
              "0  Food and Drinks\\nA la carte breakfast\\nA la ca...  \n",
              "1  Food and Drinks\\nA la carte dinner\\nA la carte...  \n",
              "2  Hotel Services\\nBellhop\\nConcierge\\nMoney chan...  \n",
              "3  Public Facilities\\nParking\\nCoffee shop\\nEleva...  \n",
              "4  Food and Drinks\\nA la carte breakfast\\nA la ca...  "
            ],
            "text/html": [
              "\n",
              "  <div id=\"df-a40cd09d-3fe3-47bd-80b9-646de4d88001\">\n",
              "    <div class=\"colab-df-container\">\n",
              "      <div>\n",
              "<style scoped>\n",
              "    .dataframe tbody tr th:only-of-type {\n",
              "        vertical-align: middle;\n",
              "    }\n",
              "\n",
              "    .dataframe tbody tr th {\n",
              "        vertical-align: top;\n",
              "    }\n",
              "\n",
              "    .dataframe thead th {\n",
              "        text-align: right;\n",
              "    }\n",
              "</style>\n",
              "<table border=\"1\" class=\"dataframe\">\n",
              "  <thead>\n",
              "    <tr style=\"text-align: right;\">\n",
              "      <th></th>\n",
              "      <th>Hotel</th>\n",
              "      <th>Star</th>\n",
              "      <th>Rating</th>\n",
              "      <th>Reviews</th>\n",
              "      <th>Harga</th>\n",
              "      <th>Places Nearby</th>\n",
              "      <th>Facil + Akomod</th>\n",
              "    </tr>\n",
              "  </thead>\n",
              "  <tbody>\n",
              "    <tr>\n",
              "      <th>0</th>\n",
              "      <td>Hotel Indonesia Kempinski Jakarta</td>\n",
              "      <td>5.0</td>\n",
              "      <td>8.9</td>\n",
              "      <td>4363</td>\n",
              "      <td>2.480.500</td>\n",
              "      <td>Nearby Places\\n\\nJia Jia - Grand Indonesia (De...</td>\n",
              "      <td>Food and Drinks\\nA la carte breakfast\\nA la ca...</td>\n",
              "    </tr>\n",
              "    <tr>\n",
              "      <th>1</th>\n",
              "      <td>The Langham, Jakarta</td>\n",
              "      <td>5.0</td>\n",
              "      <td>8.8</td>\n",
              "      <td>238</td>\n",
              "      <td>3.823.600</td>\n",
              "      <td>Nearby Places\\n\\nPig Me Up! - Ashta District 8...</td>\n",
              "      <td>Food and Drinks\\nA la carte dinner\\nA la carte...</td>\n",
              "    </tr>\n",
              "    <tr>\n",
              "      <th>2</th>\n",
              "      <td>Manhattan Hotel</td>\n",
              "      <td>5.0</td>\n",
              "      <td>8.5</td>\n",
              "      <td>8405</td>\n",
              "      <td>6.231.500</td>\n",
              "      <td>Nearby Places\\n\\nJia Jia - Grand Indonesia (De...</td>\n",
              "      <td>Hotel Services\\nBellhop\\nConcierge\\nMoney chan...</td>\n",
              "    </tr>\n",
              "    <tr>\n",
              "      <th>3</th>\n",
              "      <td>Aloft South Jakarta</td>\n",
              "      <td>4.0</td>\n",
              "      <td>8.9</td>\n",
              "      <td>424</td>\n",
              "      <td>762.300</td>\n",
              "      <td>Nearby Places\\n\\nSouthside Rooftop Bar &amp; Loung...</td>\n",
              "      <td>Public Facilities\\nParking\\nCoffee shop\\nEleva...</td>\n",
              "    </tr>\n",
              "    <tr>\n",
              "      <th>4</th>\n",
              "      <td>The Mayflower, Jakarta - Marriott Executive Ap...</td>\n",
              "      <td>5.0</td>\n",
              "      <td>9.0</td>\n",
              "      <td>393</td>\n",
              "      <td>1.756.254</td>\n",
              "      <td>Nearby Places\\n\\nSudirman Plaza\\nBusiness\\n2 m...</td>\n",
              "      <td>Food and Drinks\\nA la carte breakfast\\nA la ca...</td>\n",
              "    </tr>\n",
              "  </tbody>\n",
              "</table>\n",
              "</div>\n",
              "      <button class=\"colab-df-convert\" onclick=\"convertToInteractive('df-a40cd09d-3fe3-47bd-80b9-646de4d88001')\"\n",
              "              title=\"Convert this dataframe to an interactive table.\"\n",
              "              style=\"display:none;\">\n",
              "        \n",
              "  <svg xmlns=\"http://www.w3.org/2000/svg\" height=\"24px\"viewBox=\"0 0 24 24\"\n",
              "       width=\"24px\">\n",
              "    <path d=\"M0 0h24v24H0V0z\" fill=\"none\"/>\n",
              "    <path d=\"M18.56 5.44l.94 2.06.94-2.06 2.06-.94-2.06-.94-.94-2.06-.94 2.06-2.06.94zm-11 1L8.5 8.5l.94-2.06 2.06-.94-2.06-.94L8.5 2.5l-.94 2.06-2.06.94zm10 10l.94 2.06.94-2.06 2.06-.94-2.06-.94-.94-2.06-.94 2.06-2.06.94z\"/><path d=\"M17.41 7.96l-1.37-1.37c-.4-.4-.92-.59-1.43-.59-.52 0-1.04.2-1.43.59L10.3 9.45l-7.72 7.72c-.78.78-.78 2.05 0 2.83L4 21.41c.39.39.9.59 1.41.59.51 0 1.02-.2 1.41-.59l7.78-7.78 2.81-2.81c.8-.78.8-2.07 0-2.86zM5.41 20L4 18.59l7.72-7.72 1.47 1.35L5.41 20z\"/>\n",
              "  </svg>\n",
              "      </button>\n",
              "      \n",
              "  <style>\n",
              "    .colab-df-container {\n",
              "      display:flex;\n",
              "      flex-wrap:wrap;\n",
              "      gap: 12px;\n",
              "    }\n",
              "\n",
              "    .colab-df-convert {\n",
              "      background-color: #E8F0FE;\n",
              "      border: none;\n",
              "      border-radius: 50%;\n",
              "      cursor: pointer;\n",
              "      display: none;\n",
              "      fill: #1967D2;\n",
              "      height: 32px;\n",
              "      padding: 0 0 0 0;\n",
              "      width: 32px;\n",
              "    }\n",
              "\n",
              "    .colab-df-convert:hover {\n",
              "      background-color: #E2EBFA;\n",
              "      box-shadow: 0px 1px 2px rgba(60, 64, 67, 0.3), 0px 1px 3px 1px rgba(60, 64, 67, 0.15);\n",
              "      fill: #174EA6;\n",
              "    }\n",
              "\n",
              "    [theme=dark] .colab-df-convert {\n",
              "      background-color: #3B4455;\n",
              "      fill: #D2E3FC;\n",
              "    }\n",
              "\n",
              "    [theme=dark] .colab-df-convert:hover {\n",
              "      background-color: #434B5C;\n",
              "      box-shadow: 0px 1px 3px 1px rgba(0, 0, 0, 0.15);\n",
              "      filter: drop-shadow(0px 1px 2px rgba(0, 0, 0, 0.3));\n",
              "      fill: #FFFFFF;\n",
              "    }\n",
              "  </style>\n",
              "\n",
              "      <script>\n",
              "        const buttonEl =\n",
              "          document.querySelector('#df-a40cd09d-3fe3-47bd-80b9-646de4d88001 button.colab-df-convert');\n",
              "        buttonEl.style.display =\n",
              "          google.colab.kernel.accessAllowed ? 'block' : 'none';\n",
              "\n",
              "        async function convertToInteractive(key) {\n",
              "          const element = document.querySelector('#df-a40cd09d-3fe3-47bd-80b9-646de4d88001');\n",
              "          const dataTable =\n",
              "            await google.colab.kernel.invokeFunction('convertToInteractive',\n",
              "                                                     [key], {});\n",
              "          if (!dataTable) return;\n",
              "\n",
              "          const docLinkHtml = 'Like what you see? Visit the ' +\n",
              "            '<a target=\"_blank\" href=https://colab.research.google.com/notebooks/data_table.ipynb>data table notebook</a>'\n",
              "            + ' to learn more about interactive tables.';\n",
              "          element.innerHTML = '';\n",
              "          dataTable['output_type'] = 'display_data';\n",
              "          await google.colab.output.renderOutput(dataTable, element);\n",
              "          const docLink = document.createElement('div');\n",
              "          docLink.innerHTML = docLinkHtml;\n",
              "          element.appendChild(docLink);\n",
              "        }\n",
              "      </script>\n",
              "    </div>\n",
              "  </div>\n",
              "  "
            ]
          },
          "metadata": {},
          "execution_count": 7
        }
      ],
      "source": [
        "import pandas as pd\n",
        "\n",
        "df = pd.read_csv('/content/drive/MyDrive/Capstone Dataset/hotels_data.csv')\n",
        "df.head()"
      ]
    },
    {
      "cell_type": "code",
      "source": [
        "from google.colab import drive\n",
        "drive.mount('/content/drive')"
      ],
      "metadata": {
        "colab": {
          "base_uri": "https://localhost:8080/"
        },
        "id": "0YlVb6L_dEjJ",
        "outputId": "64d18f57-a118-4a42-b171-3ddbe403d00d"
      },
      "execution_count": 8,
      "outputs": [
        {
          "output_type": "stream",
          "name": "stdout",
          "text": [
            "Drive already mounted at /content/drive; to attempt to forcibly remount, call drive.mount(\"/content/drive\", force_remount=True).\n"
          ]
        }
      ]
    },
    {
      "cell_type": "code",
      "execution_count": 9,
      "metadata": {
        "id": "-tIN42w0mZR2"
      },
      "outputs": [],
      "source": [
        "facilities_columns = ['Food and Drinks','Hotel Services','In-room Facilities', 'Business Facilities', 'Nearby Facilities', 'Public Facilities', 'General', 'Things to Do', 'Accessibilty', 'Connectivity', 'Transportation', 'Kids and Pets', 'Sports and Recreations', 'Shuttle Service']\n",
        "\n",
        "facilities_columns.reverse()\n",
        "\n",
        "for index , row in df.iterrows():\n",
        "    \n",
        "    # split per fasil and akomod\n",
        "    arr = row['Facil + Akomod'].splitlines() \n",
        "    #iterate over fasil and akomod\n",
        "\n",
        "    i = 0\n",
        "    count = 0\n",
        "\n",
        "    for  item in reversed(arr):\n",
        "      count += 1\n",
        "      if item in facilities_columns:\n",
        "        df.at[index,item ] = count\n",
        "        count = 0\n",
        "        i += 1"
      ]
    },
    {
      "cell_type": "code",
      "execution_count": 10,
      "metadata": {
        "id": "PkIBhvf2mcVH"
      },
      "outputs": [],
      "source": [
        "df = df.fillna(0)"
      ]
    },
    {
      "cell_type": "code",
      "execution_count": 11,
      "metadata": {
        "id": "E7lgszlLmdpg"
      },
      "outputs": [],
      "source": [
        "for index , row in df.iterrows():\n",
        "    \n",
        "    # split per fasil and akomod\n",
        "    arr = row['Places Nearby'].splitlines() \n",
        "    \n",
        "    #iterate over fasil and akomod\n",
        "\n",
        "    i = 0\n",
        "    count = 0\n",
        "    \n",
        "    for ind, item in enumerate(arr):\n",
        "        itemsplits = item.split()\n",
        "        for x in itemsplits:\n",
        "            if x.isdigit():\n",
        "                if itemsplits[1] == \"km\":\n",
        "                    meters = itemsplits[0] * 1000\n",
        "                else:\n",
        "                    meters = itemsplits[0]\n",
        "                    \n",
        "                if meters.isdigit():\n",
        "                    df.at[index,arr[ind-1]] = meters\n",
        "                    #print(meters)"
      ]
    },
    {
      "cell_type": "code",
      "execution_count": 12,
      "metadata": {
        "colab": {
          "base_uri": "https://localhost:8080/"
        },
        "id": "0a19mEMJmgNT",
        "outputId": "5bb3b23c-6416-4816-c30a-8350603f9c21"
      },
      "outputs": [
        {
          "output_type": "stream",
          "name": "stdout",
          "text": [
            "Index(['Hotel', 'Star', 'Rating', 'Reviews', 'Harga', 'Places Nearby',\n",
            "       'Facil + Akomod', 'Shuttle Service', 'Sports and Recreations',\n",
            "       'Kids and Pets', 'Transportation', 'Connectivity', 'Accessibilty',\n",
            "       'Things to Do', 'General', 'Public Facilities', 'Nearby Facilities',\n",
            "       'Business Facilities', 'In-room Facilities', 'Hotel Services',\n",
            "       'Food and Drinks', 'Fast Food', 'Shop & Gifts', 'Business',\n",
            "       'Transportation Hub', 'Casual Dining', 'Nightlife', 'Park & Zoo',\n",
            "       'Public Service', 'Arts & Sciences', 'Fine Dining', 'Sport',\n",
            "       'Quick Bites', 'Education', 'Street Food', 'Activity & Games', 'Cafe',\n",
            "       'Entertainment', 'Food Court', 'Sight & Landmark'],\n",
            "      dtype='object')\n"
          ]
        }
      ],
      "source": [
        "print(df.columns)"
      ]
    },
    {
      "cell_type": "code",
      "execution_count": 13,
      "metadata": {
        "id": "fhrIjOXUmjhx"
      },
      "outputs": [],
      "source": [
        "df.Harga = df['Harga'].str.replace('.','', regex = True)\n",
        "df.Harga = df['Harga'].str.replace(',','.', regex = True)\n",
        "df.Harga = df['Harga'].astype(float).astype(int)\n",
        "\n",
        "df.Reviews = df['Reviews'].str.replace('.','', regex = True)\n",
        "df.Reviews = df['Reviews'].str.replace(',','.', regex = True)\n",
        "df.Reviews = df['Reviews'].astype(float).astype(int)"
      ]
    },
    {
      "cell_type": "code",
      "execution_count": 14,
      "metadata": {
        "id": "H5cIX6j_mlqG"
      },
      "outputs": [],
      "source": [
        "df = df.fillna(10000)"
      ]
    },
    {
      "cell_type": "code",
      "execution_count": 15,
      "metadata": {
        "id": "gQpazzsmmnFg"
      },
      "outputs": [],
      "source": [
        "c = df.select_dtypes(object).columns\n",
        "df[c] = df[c].apply(pd.to_numeric,errors='coerce')"
      ]
    },
    {
      "cell_type": "code",
      "execution_count": 16,
      "metadata": {
        "colab": {
          "base_uri": "https://localhost:8080/"
        },
        "id": "JgQonygumo0g",
        "outputId": "267d175c-2d88-4e91-ad28-86b2818b5355"
      },
      "outputs": [
        {
          "output_type": "execute_result",
          "data": {
            "text/plain": [
              "Hotel                     float64\n",
              "Star                      float64\n",
              "Rating                    float64\n",
              "Reviews                     int64\n",
              "Harga                       int64\n",
              "Places Nearby             float64\n",
              "Facil + Akomod            float64\n",
              "Shuttle Service           float64\n",
              "Sports and Recreations    float64\n",
              "Kids and Pets             float64\n",
              "Transportation            float64\n",
              "Connectivity              float64\n",
              "Accessibilty              float64\n",
              "Things to Do              float64\n",
              "General                   float64\n",
              "Public Facilities         float64\n",
              "Nearby Facilities         float64\n",
              "Business Facilities       float64\n",
              "In-room Facilities        float64\n",
              "Hotel Services            float64\n",
              "Food and Drinks           float64\n",
              "Fast Food                   int64\n",
              "Shop & Gifts                int64\n",
              "Business                    int64\n",
              "Transportation Hub          int64\n",
              "Casual Dining               int64\n",
              "Nightlife                   int64\n",
              "Park & Zoo                  int64\n",
              "Public Service              int64\n",
              "Arts & Sciences             int64\n",
              "Fine Dining                 int64\n",
              "Sport                       int64\n",
              "Quick Bites                 int64\n",
              "Education                   int64\n",
              "Street Food                 int64\n",
              "Activity & Games            int64\n",
              "Cafe                        int64\n",
              "Entertainment               int64\n",
              "Food Court                  int64\n",
              "Sight & Landmark            int64\n",
              "dtype: object"
            ]
          },
          "metadata": {},
          "execution_count": 16
        }
      ],
      "source": [
        "df.dtypes"
      ]
    },
    {
      "cell_type": "code",
      "execution_count": 17,
      "metadata": {
        "colab": {
          "base_uri": "https://localhost:8080/",
          "height": 334
        },
        "id": "YB-E4YjkmrTA",
        "outputId": "c2aeea98-2bdf-41c1-f22b-a99622843dbd"
      },
      "outputs": [
        {
          "output_type": "execute_result",
          "data": {
            "text/plain": [
              "   Hotel  Star  Rating  Reviews    Harga  Places Nearby  Facil + Akomod  \\\n",
              "0    NaN   5.0     8.9     4363  2480500            NaN             NaN   \n",
              "1    NaN   5.0     8.8      238  3823600            NaN             NaN   \n",
              "2    NaN   5.0     8.5     8405  6231500            NaN             NaN   \n",
              "3    NaN   4.0     8.9      424   762300            NaN             NaN   \n",
              "4    NaN   5.0     9.0      393  1756254            NaN             NaN   \n",
              "\n",
              "   Shuttle Service  Sports and Recreations  Kids and Pets  ...  Fine Dining  \\\n",
              "0              2.0                     3.0            4.0  ...        10000   \n",
              "1              0.0                     2.0            3.0  ...        10000   \n",
              "2              2.0                     3.0            3.0  ...        10000   \n",
              "3              0.0                     2.0            0.0  ...        10000   \n",
              "4              2.0                     3.0            7.0  ...        10000   \n",
              "\n",
              "   Sport  Quick Bites  Education  Street Food  Activity & Games   Cafe  \\\n",
              "0  10000        10000      10000        10000             10000  10000   \n",
              "1  10000        10000      10000        10000             10000  10000   \n",
              "2  10000        10000      10000        10000             10000  10000   \n",
              "3  10000        10000      10000        10000             10000  10000   \n",
              "4  10000        10000      10000        10000             10000  10000   \n",
              "\n",
              "   Entertainment  Food Court  Sight & Landmark  \n",
              "0          10000       10000             10000  \n",
              "1          10000       10000             10000  \n",
              "2          10000       10000             10000  \n",
              "3          10000       10000             10000  \n",
              "4          10000       10000             10000  \n",
              "\n",
              "[5 rows x 40 columns]"
            ],
            "text/html": [
              "\n",
              "  <div id=\"df-28c91b98-a6fd-49eb-ba86-c5217ba94206\">\n",
              "    <div class=\"colab-df-container\">\n",
              "      <div>\n",
              "<style scoped>\n",
              "    .dataframe tbody tr th:only-of-type {\n",
              "        vertical-align: middle;\n",
              "    }\n",
              "\n",
              "    .dataframe tbody tr th {\n",
              "        vertical-align: top;\n",
              "    }\n",
              "\n",
              "    .dataframe thead th {\n",
              "        text-align: right;\n",
              "    }\n",
              "</style>\n",
              "<table border=\"1\" class=\"dataframe\">\n",
              "  <thead>\n",
              "    <tr style=\"text-align: right;\">\n",
              "      <th></th>\n",
              "      <th>Hotel</th>\n",
              "      <th>Star</th>\n",
              "      <th>Rating</th>\n",
              "      <th>Reviews</th>\n",
              "      <th>Harga</th>\n",
              "      <th>Places Nearby</th>\n",
              "      <th>Facil + Akomod</th>\n",
              "      <th>Shuttle Service</th>\n",
              "      <th>Sports and Recreations</th>\n",
              "      <th>Kids and Pets</th>\n",
              "      <th>...</th>\n",
              "      <th>Fine Dining</th>\n",
              "      <th>Sport</th>\n",
              "      <th>Quick Bites</th>\n",
              "      <th>Education</th>\n",
              "      <th>Street Food</th>\n",
              "      <th>Activity &amp; Games</th>\n",
              "      <th>Cafe</th>\n",
              "      <th>Entertainment</th>\n",
              "      <th>Food Court</th>\n",
              "      <th>Sight &amp; Landmark</th>\n",
              "    </tr>\n",
              "  </thead>\n",
              "  <tbody>\n",
              "    <tr>\n",
              "      <th>0</th>\n",
              "      <td>NaN</td>\n",
              "      <td>5.0</td>\n",
              "      <td>8.9</td>\n",
              "      <td>4363</td>\n",
              "      <td>2480500</td>\n",
              "      <td>NaN</td>\n",
              "      <td>NaN</td>\n",
              "      <td>2.0</td>\n",
              "      <td>3.0</td>\n",
              "      <td>4.0</td>\n",
              "      <td>...</td>\n",
              "      <td>10000</td>\n",
              "      <td>10000</td>\n",
              "      <td>10000</td>\n",
              "      <td>10000</td>\n",
              "      <td>10000</td>\n",
              "      <td>10000</td>\n",
              "      <td>10000</td>\n",
              "      <td>10000</td>\n",
              "      <td>10000</td>\n",
              "      <td>10000</td>\n",
              "    </tr>\n",
              "    <tr>\n",
              "      <th>1</th>\n",
              "      <td>NaN</td>\n",
              "      <td>5.0</td>\n",
              "      <td>8.8</td>\n",
              "      <td>238</td>\n",
              "      <td>3823600</td>\n",
              "      <td>NaN</td>\n",
              "      <td>NaN</td>\n",
              "      <td>0.0</td>\n",
              "      <td>2.0</td>\n",
              "      <td>3.0</td>\n",
              "      <td>...</td>\n",
              "      <td>10000</td>\n",
              "      <td>10000</td>\n",
              "      <td>10000</td>\n",
              "      <td>10000</td>\n",
              "      <td>10000</td>\n",
              "      <td>10000</td>\n",
              "      <td>10000</td>\n",
              "      <td>10000</td>\n",
              "      <td>10000</td>\n",
              "      <td>10000</td>\n",
              "    </tr>\n",
              "    <tr>\n",
              "      <th>2</th>\n",
              "      <td>NaN</td>\n",
              "      <td>5.0</td>\n",
              "      <td>8.5</td>\n",
              "      <td>8405</td>\n",
              "      <td>6231500</td>\n",
              "      <td>NaN</td>\n",
              "      <td>NaN</td>\n",
              "      <td>2.0</td>\n",
              "      <td>3.0</td>\n",
              "      <td>3.0</td>\n",
              "      <td>...</td>\n",
              "      <td>10000</td>\n",
              "      <td>10000</td>\n",
              "      <td>10000</td>\n",
              "      <td>10000</td>\n",
              "      <td>10000</td>\n",
              "      <td>10000</td>\n",
              "      <td>10000</td>\n",
              "      <td>10000</td>\n",
              "      <td>10000</td>\n",
              "      <td>10000</td>\n",
              "    </tr>\n",
              "    <tr>\n",
              "      <th>3</th>\n",
              "      <td>NaN</td>\n",
              "      <td>4.0</td>\n",
              "      <td>8.9</td>\n",
              "      <td>424</td>\n",
              "      <td>762300</td>\n",
              "      <td>NaN</td>\n",
              "      <td>NaN</td>\n",
              "      <td>0.0</td>\n",
              "      <td>2.0</td>\n",
              "      <td>0.0</td>\n",
              "      <td>...</td>\n",
              "      <td>10000</td>\n",
              "      <td>10000</td>\n",
              "      <td>10000</td>\n",
              "      <td>10000</td>\n",
              "      <td>10000</td>\n",
              "      <td>10000</td>\n",
              "      <td>10000</td>\n",
              "      <td>10000</td>\n",
              "      <td>10000</td>\n",
              "      <td>10000</td>\n",
              "    </tr>\n",
              "    <tr>\n",
              "      <th>4</th>\n",
              "      <td>NaN</td>\n",
              "      <td>5.0</td>\n",
              "      <td>9.0</td>\n",
              "      <td>393</td>\n",
              "      <td>1756254</td>\n",
              "      <td>NaN</td>\n",
              "      <td>NaN</td>\n",
              "      <td>2.0</td>\n",
              "      <td>3.0</td>\n",
              "      <td>7.0</td>\n",
              "      <td>...</td>\n",
              "      <td>10000</td>\n",
              "      <td>10000</td>\n",
              "      <td>10000</td>\n",
              "      <td>10000</td>\n",
              "      <td>10000</td>\n",
              "      <td>10000</td>\n",
              "      <td>10000</td>\n",
              "      <td>10000</td>\n",
              "      <td>10000</td>\n",
              "      <td>10000</td>\n",
              "    </tr>\n",
              "  </tbody>\n",
              "</table>\n",
              "<p>5 rows × 40 columns</p>\n",
              "</div>\n",
              "      <button class=\"colab-df-convert\" onclick=\"convertToInteractive('df-28c91b98-a6fd-49eb-ba86-c5217ba94206')\"\n",
              "              title=\"Convert this dataframe to an interactive table.\"\n",
              "              style=\"display:none;\">\n",
              "        \n",
              "  <svg xmlns=\"http://www.w3.org/2000/svg\" height=\"24px\"viewBox=\"0 0 24 24\"\n",
              "       width=\"24px\">\n",
              "    <path d=\"M0 0h24v24H0V0z\" fill=\"none\"/>\n",
              "    <path d=\"M18.56 5.44l.94 2.06.94-2.06 2.06-.94-2.06-.94-.94-2.06-.94 2.06-2.06.94zm-11 1L8.5 8.5l.94-2.06 2.06-.94-2.06-.94L8.5 2.5l-.94 2.06-2.06.94zm10 10l.94 2.06.94-2.06 2.06-.94-2.06-.94-.94-2.06-.94 2.06-2.06.94z\"/><path d=\"M17.41 7.96l-1.37-1.37c-.4-.4-.92-.59-1.43-.59-.52 0-1.04.2-1.43.59L10.3 9.45l-7.72 7.72c-.78.78-.78 2.05 0 2.83L4 21.41c.39.39.9.59 1.41.59.51 0 1.02-.2 1.41-.59l7.78-7.78 2.81-2.81c.8-.78.8-2.07 0-2.86zM5.41 20L4 18.59l7.72-7.72 1.47 1.35L5.41 20z\"/>\n",
              "  </svg>\n",
              "      </button>\n",
              "      \n",
              "  <style>\n",
              "    .colab-df-container {\n",
              "      display:flex;\n",
              "      flex-wrap:wrap;\n",
              "      gap: 12px;\n",
              "    }\n",
              "\n",
              "    .colab-df-convert {\n",
              "      background-color: #E8F0FE;\n",
              "      border: none;\n",
              "      border-radius: 50%;\n",
              "      cursor: pointer;\n",
              "      display: none;\n",
              "      fill: #1967D2;\n",
              "      height: 32px;\n",
              "      padding: 0 0 0 0;\n",
              "      width: 32px;\n",
              "    }\n",
              "\n",
              "    .colab-df-convert:hover {\n",
              "      background-color: #E2EBFA;\n",
              "      box-shadow: 0px 1px 2px rgba(60, 64, 67, 0.3), 0px 1px 3px 1px rgba(60, 64, 67, 0.15);\n",
              "      fill: #174EA6;\n",
              "    }\n",
              "\n",
              "    [theme=dark] .colab-df-convert {\n",
              "      background-color: #3B4455;\n",
              "      fill: #D2E3FC;\n",
              "    }\n",
              "\n",
              "    [theme=dark] .colab-df-convert:hover {\n",
              "      background-color: #434B5C;\n",
              "      box-shadow: 0px 1px 3px 1px rgba(0, 0, 0, 0.15);\n",
              "      filter: drop-shadow(0px 1px 2px rgba(0, 0, 0, 0.3));\n",
              "      fill: #FFFFFF;\n",
              "    }\n",
              "  </style>\n",
              "\n",
              "      <script>\n",
              "        const buttonEl =\n",
              "          document.querySelector('#df-28c91b98-a6fd-49eb-ba86-c5217ba94206 button.colab-df-convert');\n",
              "        buttonEl.style.display =\n",
              "          google.colab.kernel.accessAllowed ? 'block' : 'none';\n",
              "\n",
              "        async function convertToInteractive(key) {\n",
              "          const element = document.querySelector('#df-28c91b98-a6fd-49eb-ba86-c5217ba94206');\n",
              "          const dataTable =\n",
              "            await google.colab.kernel.invokeFunction('convertToInteractive',\n",
              "                                                     [key], {});\n",
              "          if (!dataTable) return;\n",
              "\n",
              "          const docLinkHtml = 'Like what you see? Visit the ' +\n",
              "            '<a target=\"_blank\" href=https://colab.research.google.com/notebooks/data_table.ipynb>data table notebook</a>'\n",
              "            + ' to learn more about interactive tables.';\n",
              "          element.innerHTML = '';\n",
              "          dataTable['output_type'] = 'display_data';\n",
              "          await google.colab.output.renderOutput(dataTable, element);\n",
              "          const docLink = document.createElement('div');\n",
              "          docLink.innerHTML = docLinkHtml;\n",
              "          element.appendChild(docLink);\n",
              "        }\n",
              "      </script>\n",
              "    </div>\n",
              "  </div>\n",
              "  "
            ]
          },
          "metadata": {},
          "execution_count": 17
        }
      ],
      "source": [
        "df.head()"
      ]
    },
    {
      "cell_type": "markdown",
      "metadata": {
        "id": "0-CevXm2Q6i1"
      },
      "source": [
        "# Modelling"
      ]
    },
    {
      "cell_type": "markdown",
      "metadata": {
        "id": "k0A8fICUnIbP"
      },
      "source": [
        "## Declare feature vector and target variable"
      ]
    },
    {
      "cell_type": "code",
      "execution_count": 18,
      "metadata": {
        "colab": {
          "base_uri": "https://localhost:8080/"
        },
        "id": "Wel8athlnWNU",
        "outputId": "e645dfcc-929b-4ca8-af88-41db8346ebcb"
      },
      "outputs": [
        {
          "output_type": "stream",
          "name": "stdout",
          "text": [
            "<class 'pandas.core.frame.DataFrame'>\n",
            "RangeIndex: 89 entries, 0 to 88\n",
            "Data columns (total 40 columns):\n",
            " #   Column                  Non-Null Count  Dtype  \n",
            "---  ------                  --------------  -----  \n",
            " 0   Hotel                   0 non-null      float64\n",
            " 1   Star                    89 non-null     float64\n",
            " 2   Rating                  89 non-null     float64\n",
            " 3   Reviews                 89 non-null     int64  \n",
            " 4   Harga                   89 non-null     int64  \n",
            " 5   Places Nearby           0 non-null      float64\n",
            " 6   Facil + Akomod          0 non-null      float64\n",
            " 7   Shuttle Service         89 non-null     float64\n",
            " 8   Sports and Recreations  89 non-null     float64\n",
            " 9   Kids and Pets           89 non-null     float64\n",
            " 10  Transportation          89 non-null     float64\n",
            " 11  Connectivity            89 non-null     float64\n",
            " 12  Accessibilty            89 non-null     float64\n",
            " 13  Things to Do            89 non-null     float64\n",
            " 14  General                 89 non-null     float64\n",
            " 15  Public Facilities       89 non-null     float64\n",
            " 16  Nearby Facilities       89 non-null     float64\n",
            " 17  Business Facilities     89 non-null     float64\n",
            " 18  In-room Facilities      89 non-null     float64\n",
            " 19  Hotel Services          89 non-null     float64\n",
            " 20  Food and Drinks         89 non-null     float64\n",
            " 21  Fast Food               89 non-null     int64  \n",
            " 22  Shop & Gifts            89 non-null     int64  \n",
            " 23  Business                89 non-null     int64  \n",
            " 24  Transportation Hub      89 non-null     int64  \n",
            " 25  Casual Dining           89 non-null     int64  \n",
            " 26  Nightlife               89 non-null     int64  \n",
            " 27  Park & Zoo              89 non-null     int64  \n",
            " 28  Public Service          89 non-null     int64  \n",
            " 29  Arts & Sciences         89 non-null     int64  \n",
            " 30  Fine Dining             89 non-null     int64  \n",
            " 31  Sport                   89 non-null     int64  \n",
            " 32  Quick Bites             89 non-null     int64  \n",
            " 33  Education               89 non-null     int64  \n",
            " 34  Street Food             89 non-null     int64  \n",
            " 35  Activity & Games        89 non-null     int64  \n",
            " 36  Cafe                    89 non-null     int64  \n",
            " 37  Entertainment           89 non-null     int64  \n",
            " 38  Food Court              89 non-null     int64  \n",
            " 39  Sight & Landmark        89 non-null     int64  \n",
            "dtypes: float64(19), int64(21)\n",
            "memory usage: 27.9 KB\n"
          ]
        }
      ],
      "source": [
        "# view summary of dataset\n",
        "df.info()"
      ]
    },
    {
      "cell_type": "markdown",
      "metadata": {
        "id": "jSayjhlNQ_9g"
      },
      "source": [
        "## Data Splitting"
      ]
    },
    {
      "cell_type": "code",
      "execution_count": 19,
      "metadata": {
        "id": "lmVSKP7YnH-k"
      },
      "outputs": [],
      "source": [
        "X = df[['Star','Reviews','Harga','Shuttle Service','Sports and Recreations', 'Kids and Pets', 'Transportation', 'Connectivity', 'Accessibilty', 'Things to Do', 'General', 'Public Facilities', 'Nearby Facilities', 'Business Facilities', 'In-room Facilities', 'Hotel Services', 'Food and Drinks', 'Fast Food', 'Shop & Gifts', 'Business', 'Transportation Hub', 'Casual Dining', 'Nightlife', 'Park & Zoo', 'Public Service', 'Arts & Sciences', 'Fine Dining', 'Sport', 'Quick Bites', 'Education', 'Street Food', 'Activity & Games', 'Cafe', 'Entertainment', 'Food Court', 'Sight & Landmark' ]]\n",
        "y = df['Rating']"
      ]
    },
    {
      "cell_type": "code",
      "execution_count": 20,
      "metadata": {
        "id": "N1ATNg6motGV"
      },
      "outputs": [],
      "source": [
        "from sklearn.model_selection import train_test_split\n",
        "# X_train, X_test, y_train, y_test = train_test_split(X, y, test_size = 0.2, random_state = 0)\n",
        "dev_X, val_X, dev_y, val_y = train_test_split(X, y, test_size = 0.2, random_state = 0)"
      ]
    },
    {
      "cell_type": "markdown",
      "metadata": {
        "id": "ZB6D4jmvQ0XK"
      },
      "source": [
        "## Light GBM"
      ]
    },
    {
      "cell_type": "code",
      "execution_count": 21,
      "metadata": {
        "id": "kHEqGXrQoxuJ"
      },
      "outputs": [],
      "source": [
        "#import lightgbm as lgb\n",
        "#clf = lgb.lambdarank()\n",
        "#clf.fit(X_train, y_train)\n",
        "\n",
        "def run_lgb(X_train, X_test, y_train, y_test):\n",
        "    params = {\n",
        "        \"objective\" : \"regression\",\n",
        "        \"metric\" : \"rmse\",\n",
        "        \"num_leaves\" : 40,\n",
        "        \"learning_rate\" : 0.004,\n",
        "        \"bagging_fraction\" : 0.6,\n",
        "        \"feature_fraction\" : 0.6,\n",
        "        \"bagging_frequency\" : 6,\n",
        "        \"bagging_seed\" : 42,\n",
        "        \"verbosity\" : -1,\n",
        "        \"seed\": 42\n",
        "    }\n",
        "    \n",
        "    lgtrain = lgb.Dataset(X, label=y)\n",
        "    lgval = lgb.Dataset(val_X, label=val_y)\n",
        "    evals_result = {}\n",
        "    model = lgb.train(params, lgtrain, 5000, \n",
        "                      valid_sets=[lgtrain, lgval], \n",
        "                      early_stopping_rounds=100, \n",
        "                      verbose_eval=150, \n",
        "                      evals_result=evals_result)\n",
        "    \n",
        "    #pred_test_y = np.expm1(model.predict(test_X, num_iteration=model.best_iteration))\n",
        "    return model, evals_result #pred_test_y"
      ]
    },
    {
      "cell_type": "code",
      "execution_count": 22,
      "metadata": {
        "colab": {
          "base_uri": "https://localhost:8080/"
        },
        "id": "xRD3429DtQXg",
        "outputId": "1097d399-a4df-44d8-8295-17149d97298d"
      },
      "outputs": [
        {
          "output_type": "stream",
          "name": "stdout",
          "text": [
            "Training until validation scores don't improve for 100 rounds.\n",
            "[150]\ttraining's rmse: 0.215743\tvalid_1's rmse: 0.225939\n",
            "[300]\ttraining's rmse: 0.197041\tvalid_1's rmse: 0.195774\n",
            "[450]\ttraining's rmse: 0.183802\tvalid_1's rmse: 0.176048\n",
            "[600]\ttraining's rmse: 0.173104\tvalid_1's rmse: 0.161153\n",
            "[750]\ttraining's rmse: 0.164095\tvalid_1's rmse: 0.149052\n",
            "[900]\ttraining's rmse: 0.156443\tvalid_1's rmse: 0.140348\n",
            "[1050]\ttraining's rmse: 0.149814\tvalid_1's rmse: 0.132575\n",
            "[1200]\ttraining's rmse: 0.144666\tvalid_1's rmse: 0.127293\n",
            "[1350]\ttraining's rmse: 0.1401\tvalid_1's rmse: 0.122706\n",
            "[1500]\ttraining's rmse: 0.136271\tvalid_1's rmse: 0.119085\n",
            "[1650]\ttraining's rmse: 0.132933\tvalid_1's rmse: 0.116051\n",
            "[1800]\ttraining's rmse: 0.12984\tvalid_1's rmse: 0.113486\n",
            "[1950]\ttraining's rmse: 0.127116\tvalid_1's rmse: 0.111052\n",
            "[2100]\ttraining's rmse: 0.124525\tvalid_1's rmse: 0.10914\n",
            "[2250]\ttraining's rmse: 0.121999\tvalid_1's rmse: 0.107436\n",
            "[2400]\ttraining's rmse: 0.11953\tvalid_1's rmse: 0.105464\n",
            "[2550]\ttraining's rmse: 0.117255\tvalid_1's rmse: 0.103508\n",
            "[2700]\ttraining's rmse: 0.114894\tvalid_1's rmse: 0.101629\n",
            "[2850]\ttraining's rmse: 0.112794\tvalid_1's rmse: 0.100032\n",
            "[3000]\ttraining's rmse: 0.110788\tvalid_1's rmse: 0.09853\n",
            "[3150]\ttraining's rmse: 0.108707\tvalid_1's rmse: 0.096824\n",
            "[3300]\ttraining's rmse: 0.106795\tvalid_1's rmse: 0.0949909\n",
            "[3450]\ttraining's rmse: 0.104917\tvalid_1's rmse: 0.0934149\n",
            "[3600]\ttraining's rmse: 0.103169\tvalid_1's rmse: 0.0919868\n",
            "[3750]\ttraining's rmse: 0.101335\tvalid_1's rmse: 0.0902913\n",
            "[3900]\ttraining's rmse: 0.0996091\tvalid_1's rmse: 0.0887372\n",
            "[4050]\ttraining's rmse: 0.0979834\tvalid_1's rmse: 0.087242\n",
            "[4200]\ttraining's rmse: 0.0963064\tvalid_1's rmse: 0.085716\n",
            "[4350]\ttraining's rmse: 0.0945959\tvalid_1's rmse: 0.0843196\n",
            "[4500]\ttraining's rmse: 0.092851\tvalid_1's rmse: 0.0827733\n",
            "[4650]\ttraining's rmse: 0.0912362\tvalid_1's rmse: 0.0808689\n",
            "[4800]\ttraining's rmse: 0.0896635\tvalid_1's rmse: 0.0792249\n",
            "[4950]\ttraining's rmse: 0.0881523\tvalid_1's rmse: 0.0778017\n",
            "Did not meet early stopping. Best iteration is:\n",
            "[5000]\ttraining's rmse: 0.0876776\tvalid_1's rmse: 0.0774395\n",
            "LightGBM Training Completed...\n"
          ]
        }
      ],
      "source": [
        "model, evals_result = run_lgb(dev_X, dev_y, val_X, val_y)\n",
        "print(\"LightGBM Training Completed...\")"
      ]
    },
    {
      "cell_type": "code",
      "execution_count": 23,
      "metadata": {
        "colab": {
          "base_uri": "https://localhost:8080/"
        },
        "id": "zgZvIH5VXlJk",
        "outputId": "d2b0591e-7ee0-46d3-e1af-446bedda6c3c"
      },
      "outputs": [
        {
          "output_type": "stream",
          "name": "stdout",
          "text": [
            "[8.77015561 8.77303028 8.60685983 8.62277989 8.92629469 8.6550264\n",
            " 8.57596281 8.63500569 8.93792602 8.78559359 8.6987856  8.22492685\n",
            " 8.20992593 8.71180937 8.61940601 8.72573797 8.61961742 8.76317059\n",
            " 8.62066604 8.77534503 8.59688072 8.52276873 8.51205612 8.52715473\n",
            " 8.33550767 8.72573797 8.86479613 8.51205612 8.75663934 8.47887462\n",
            " 8.61217682 8.81192075 8.55924098 8.46275883 8.61812452 8.59990223\n",
            " 8.63514106 8.80662031 8.47116276 8.6329524  8.56406458 8.54031493\n",
            " 8.53143646 8.51477517 8.57797492 8.9439115  8.78030563 8.61072482\n",
            " 8.61641218 8.5576015  8.55766759 8.55766759 8.5074464  8.03318861\n",
            " 8.29790307 8.39422799 8.50293503 8.57442573 8.62178246 8.51662031\n",
            " 8.68448915 8.5383794  8.50801824 8.55950558 8.66245568 8.31712762\n",
            " 8.22810065 8.46661238 8.584623   8.48587306 8.61822259 8.85796176\n",
            " 8.6902322  8.3316678  8.44054742 8.46597241 8.87482863 8.48239166\n",
            " 8.18377505 8.60236434 8.42475601 8.1480366  8.6169668  8.01015032\n",
            " 8.03302136 8.81119184 8.11277148 8.37651043 8.18156748]\n"
          ]
        }
      ],
      "source": [
        "y_pred = model.predict(X)\n",
        "print(y_pred)"
      ]
    },
    {
      "cell_type": "code",
      "execution_count": 24,
      "metadata": {
        "colab": {
          "base_uri": "https://localhost:8080/",
          "height": 71
        },
        "id": "JxUrFaVORP0o",
        "outputId": "935ebd23-abb6-4787-d147-10a35bafdcaa"
      },
      "outputs": [
        {
          "output_type": "execute_result",
          "data": {
            "text/plain": [
              "'\\n# feature importance\\nprint(\"Features Importance...\")\\ngain = model.feature_importance(\\'Rating\\')\\nfeatureimp = pd.DataFrame({\\'Rating\\':model.feature_name(), \\n                   \\'split\\':model.feature_importance(\\'split\\'), \\n                   \\'Rating\\':100 * gain / gain.sum()}).sort_values(\\'Rating\\', ascending=False)\\nprint(featureimp[:50])\\n'"
            ],
            "application/vnd.google.colaboratory.intrinsic+json": {
              "type": "string"
            }
          },
          "metadata": {},
          "execution_count": 24
        }
      ],
      "source": [
        "'''\n",
        "# feature importance\n",
        "print(\"Features Importance...\")\n",
        "gain = model.feature_importance('Rating')\n",
        "featureimp = pd.DataFrame({'Rating':model.feature_name(), \n",
        "                   'split':model.feature_importance('split'), \n",
        "                   'Rating':100 * gain / gain.sum()}).sort_values('Rating', ascending=False)\n",
        "print(featureimp[:50])\n",
        "'''"
      ]
    },
    {
      "cell_type": "code",
      "source": [
        "y_pred = model.predict(X)\n",
        "print(y_pred)"
      ],
      "metadata": {
        "colab": {
          "base_uri": "https://localhost:8080/"
        },
        "id": "RWhTG9E-dg3D",
        "outputId": "136e0829-85cc-4e95-e70f-9cd892643238"
      },
      "execution_count": 48,
      "outputs": [
        {
          "output_type": "stream",
          "name": "stdout",
          "text": [
            "[8.77015561 8.77303028 8.60685983 8.62277989 8.92629469 8.6550264\n",
            " 8.57596281 8.63500569 8.93792602 8.78559359 8.6987856  8.22492685\n",
            " 8.20992593 8.71180937 8.61940601 8.72573797 8.61961742 8.76317059\n",
            " 8.62066604 8.77534503 8.59688072 8.52276873 8.51205612 8.52715473\n",
            " 8.33550767 8.72573797 8.86479613 8.51205612 8.75663934 8.47887462\n",
            " 8.61217682 8.81192075 8.55924098 8.46275883 8.61812452 8.59990223\n",
            " 8.63514106 8.80662031 8.47116276 8.6329524  8.56406458 8.54031493\n",
            " 8.53143646 8.51477517 8.57797492 8.9439115  8.78030563 8.61072482\n",
            " 8.61641218 8.5576015  8.55766759 8.55766759 8.5074464  8.03318861\n",
            " 8.29790307 8.39422799 8.50293503 8.57442573 8.62178246 8.51662031\n",
            " 8.68448915 8.5383794  8.50801824 8.55950558 8.66245568 8.31712762\n",
            " 8.22810065 8.46661238 8.584623   8.48587306 8.61822259 8.85796176\n",
            " 8.6902322  8.3316678  8.44054742 8.46597241 8.87482863 8.48239166\n",
            " 8.18377505 8.60236434 8.42475601 8.1480366  8.6169668  8.01015032\n",
            " 8.03302136 8.81119184 8.11277148 8.37651043 8.18156748]\n"
          ]
        }
      ]
    },
    {
      "cell_type": "markdown",
      "metadata": {
        "id": "MEiQ4uDssXiD"
      },
      "source": [
        "## XGBoost\n",
        "\n",
        "\n",
        "\n",
        "\n",
        "\n",
        "\n",
        "\n",
        "\n",
        "\n",
        "\n",
        "\n",
        "\n",
        "\n",
        "\n",
        "\n",
        "\n",
        "\n",
        "\n",
        "\n",
        "\n",
        "\n"
      ]
    },
    {
      "cell_type": "code",
      "execution_count": 25,
      "metadata": {
        "id": "jPjhr5ldRK3z"
      },
      "outputs": [],
      "source": [
        "def run_xgb(train_X, train_y, val_X, val_y):\n",
        "    params = {'objective': 'reg:linear', \n",
        "          'eval_metric': 'rmse',\n",
        "          'eta': 0.001,\n",
        "          'max_depth': 10, \n",
        "          'subsample': 0.6, \n",
        "          'colsample_bytree': 0.6,\n",
        "          'alpha':0.001,\n",
        "          'random_state': 42, \n",
        "          'silent': True}\n",
        "    \n",
        "    tr_data = xgb.DMatrix(train_X, train_y)\n",
        "    va_data = xgb.DMatrix(val_X, val_y)\n",
        "    \n",
        "    watchlist = [(tr_data, 'train'), (va_data, 'valid')]\n",
        "    \n",
        "    model_xgb = xgb.train(params, tr_data, 2000, watchlist, maximize=False, early_stopping_rounds = 100, verbose_eval=100)\n",
        "    \n",
        "    #dtest = xgb.DMatrix(test_X)\n",
        "    #xgb_pred_y = np.expm1(model_xgb.predict(dtest, ntree_limit=model_xgb.best_ntree_limit))\n",
        "    \n",
        "    return  model_xgb #, xgb_pred_y,"
      ]
    },
    {
      "cell_type": "code",
      "execution_count": 26,
      "metadata": {
        "colab": {
          "base_uri": "https://localhost:8080/"
        },
        "id": "sdWUpwQ6SJWu",
        "outputId": "a28997de-229e-452b-93b8-eab266894662"
      },
      "outputs": [
        {
          "output_type": "stream",
          "name": "stdout",
          "text": [
            "[0]\ttrain-rmse:8.05772\tvalid-rmse:8.02447\n",
            "Multiple eval metrics have been passed: 'valid-rmse' will be used for early stopping.\n",
            "\n",
            "Will train until valid-rmse hasn't improved in 100 rounds.\n",
            "[100]\ttrain-rmse:7.30798\tvalid-rmse:7.27483\n",
            "[200]\ttrain-rmse:6.6282\tvalid-rmse:6.59516\n",
            "[300]\ttrain-rmse:6.01222\tvalid-rmse:5.97931\n",
            "[400]\ttrain-rmse:5.45341\tvalid-rmse:5.42063\n",
            "[500]\ttrain-rmse:4.94632\tvalid-rmse:4.91369\n",
            "[600]\ttrain-rmse:4.4872\tvalid-rmse:4.45474\n",
            "[700]\ttrain-rmse:4.07081\tvalid-rmse:4.03853\n",
            "[800]\ttrain-rmse:3.69316\tvalid-rmse:3.66108\n",
            "[900]\ttrain-rmse:3.35051\tvalid-rmse:3.31866\n",
            "[1000]\ttrain-rmse:3.03986\tvalid-rmse:3.00827\n",
            "[1100]\ttrain-rmse:2.75847\tvalid-rmse:2.72716\n",
            "[1200]\ttrain-rmse:2.50399\tvalid-rmse:2.47299\n",
            "[1300]\ttrain-rmse:2.27336\tvalid-rmse:2.2427\n",
            "[1400]\ttrain-rmse:2.06426\tvalid-rmse:2.03399\n",
            "[1500]\ttrain-rmse:1.87494\tvalid-rmse:1.8451\n",
            "[1600]\ttrain-rmse:1.70343\tvalid-rmse:1.67382\n",
            "[1700]\ttrain-rmse:1.54837\tvalid-rmse:1.51913\n",
            "[1800]\ttrain-rmse:1.40776\tvalid-rmse:1.37877\n",
            "[1900]\ttrain-rmse:1.28085\tvalid-rmse:1.25204\n",
            "[1999]\ttrain-rmse:1.16682\tvalid-rmse:1.13819\n",
            "XGB Training Completed...\n"
          ]
        }
      ],
      "source": [
        "# Training XGB\n",
        "model_xgb = run_xgb(dev_X, dev_y, val_X, val_y)\n",
        "print(\"XGB Training Completed...\")"
      ]
    },
    {
      "cell_type": "markdown",
      "metadata": {
        "id": "tph7rgkYSOjS"
      },
      "source": [
        "## Catboost"
      ]
    },
    {
      "cell_type": "code",
      "execution_count": 27,
      "metadata": {
        "id": "gKXAe9bnSQtM"
      },
      "outputs": [],
      "source": [
        "cb_model = CatBoostRegressor(iterations=500,\n",
        "                             learning_rate=0.05,\n",
        "                             depth=10,\n",
        "                             eval_metric='RMSE',\n",
        "                             random_seed = 42,\n",
        "                             bagging_temperature = 0.2,\n",
        "                             od_type='Iter',\n",
        "                             metric_period = 50,\n",
        "                             od_wait=20)"
      ]
    },
    {
      "cell_type": "code",
      "execution_count": 28,
      "metadata": {
        "colab": {
          "base_uri": "https://localhost:8080/"
        },
        "id": "l_sxznhvSlca",
        "outputId": "8da00025-5f44-471b-d921-8c93d0f9ed72"
      },
      "outputs": [
        {
          "output_type": "stream",
          "name": "stdout",
          "text": [
            "0:\tlearn: 0.2381980\ttest: 0.2711085\tbest: 0.2711085 (0)\ttotal: 58.8ms\tremaining: 29.3s\n"
          ]
        },
        {
          "output_type": "stream",
          "name": "stderr",
          "text": [
            "Warning: Overfitting detector is active, thus evaluation metric is calculated on every iteration. 'metric_period' is ignored for evaluation metric.\n"
          ]
        },
        {
          "output_type": "stream",
          "name": "stdout",
          "text": [
            "50:\tlearn: 0.1259337\ttest: 0.2309285\tbest: 0.2309285 (50)\ttotal: 394ms\tremaining: 3.47s\n",
            "100:\tlearn: 0.0697623\ttest: 0.2200408\tbest: 0.2198964 (97)\ttotal: 727ms\tremaining: 2.87s\n",
            "150:\tlearn: 0.0390883\ttest: 0.2162348\tbest: 0.2162348 (150)\ttotal: 1.07s\tremaining: 2.49s\n",
            "200:\tlearn: 0.0212079\ttest: 0.2142854\tbest: 0.2142854 (200)\ttotal: 1.78s\tremaining: 2.65s\n",
            "250:\tlearn: 0.0112001\ttest: 0.2135251\tbest: 0.2135251 (250)\ttotal: 2.6s\tremaining: 2.58s\n",
            "300:\tlearn: 0.0059961\ttest: 0.2131350\tbest: 0.2131350 (300)\ttotal: 3.48s\tremaining: 2.3s\n",
            "350:\tlearn: 0.0032159\ttest: 0.2128927\tbest: 0.2128897 (349)\ttotal: 4.37s\tremaining: 1.85s\n",
            "400:\tlearn: 0.0017157\ttest: 0.2126824\tbest: 0.2126824 (400)\ttotal: 5.27s\tremaining: 1.3s\n",
            "450:\tlearn: 0.0009142\ttest: 0.2124871\tbest: 0.2124871 (450)\ttotal: 6.09s\tremaining: 662ms\n",
            "499:\tlearn: 0.0004937\ttest: 0.2123726\tbest: 0.2123726 (499)\ttotal: 6.9s\tremaining: 0us\n",
            "\n",
            "bestTest = 0.2123726103\n",
            "bestIteration = 499\n",
            "\n"
          ]
        },
        {
          "output_type": "execute_result",
          "data": {
            "text/plain": [
              "<catboost.core.CatBoostRegressor at 0x7faac81bb2d0>"
            ]
          },
          "metadata": {},
          "execution_count": 28
        }
      ],
      "source": [
        "cb_model.fit(dev_X, dev_y,\n",
        "             eval_set=(val_X, val_y),\n",
        "             use_best_model=True,\n",
        "             verbose=50)"
      ]
    },
    {
      "cell_type": "code",
      "source": [
        "y_pred = cb_model.predict(X)\n",
        "print(y_pred)"
      ],
      "metadata": {
        "colab": {
          "base_uri": "https://localhost:8080/"
        },
        "id": "iFkSbHJ7dmQM",
        "outputId": "ba004f6a-07fe-4352-ee7e-79dd60350698"
      },
      "execution_count": 49,
      "outputs": [
        {
          "output_type": "stream",
          "name": "stdout",
          "text": [
            "[8.89935876 8.79961565 8.70826987 8.89926658 8.99928032 8.5997735\n",
            " 8.59974953 8.59647861 8.68731569 8.79947156 8.69998647 8.10112473\n",
            " 8.10084603 8.52044301 8.60008238 8.60018298 8.65355755 8.69977722\n",
            " 8.60011532 8.79934927 8.60000546 8.5001135  8.49999405 8.50004642\n",
            " 8.53357185 8.59996125 8.7469211  8.49999405 8.89922761 8.40045536\n",
            " 8.69959177 8.79949649 8.50045251 8.48468709 8.69971372 8.59977461\n",
            " 8.60016069 8.9001125  8.40035411 8.6993092  8.50001305 8.53714549\n",
            " 8.59952645 8.6032329  8.50027678 8.76715815 8.70006719 8.50022439\n",
            " 8.59973765 8.59983435 8.59998764 8.59998764 8.50002851 8.46828229\n",
            " 8.20076623 8.3006593  8.48475973 8.50019889 8.59991012 8.59972238\n",
            " 8.79957626 8.50022055 8.59967491 8.53768254 8.79934254 8.30077683\n",
            " 8.44922942 8.50005689 8.59975981 8.50016701 8.69952447 8.89951664\n",
            " 8.79917286 8.30048146 8.40033287 8.59960486 8.99916423 8.49997165\n",
            " 8.51987268 8.69955279 8.40030546 8.00087328 8.50057525 8.10065115\n",
            " 7.9008031  8.89945941 7.80155851 8.40039795 8.34757377]\n"
          ]
        }
      ]
    },
    {
      "cell_type": "markdown",
      "metadata": {
        "id": "E7czCy0dSsJo",
        "outputId": "4a2343e0-9b23-4cfa-d050-ed636562de41"
      },
      "source": [
        "pred_test_cat = np.expm1(cb_model.predict(X))\n",
        "print(pred_test_cat)"
      ]
    },
    {
      "cell_type": "markdown",
      "metadata": {
        "id": "BPfXvYFmSRsr"
      },
      "source": [
        "# Tensorflow Regression"
      ]
    },
    {
      "cell_type": "code",
      "execution_count": 29,
      "metadata": {
        "colab": {
          "base_uri": "https://localhost:8080/",
          "height": 522
        },
        "id": "Hi8e_Ls-WEIM",
        "outputId": "142716c8-f707-456c-9de5-43b5f4e8ea41"
      },
      "outputs": [
        {
          "output_type": "execute_result",
          "data": {
            "text/plain": [
              "    Star  Rating  Reviews    Harga  Shuttle Service  Sports and Recreations  \\\n",
              "0    5.0     8.9     4363  2480500              2.0                     3.0   \n",
              "1    5.0     8.8      238  3823600              0.0                     2.0   \n",
              "2    5.0     8.5     8405  6231500              2.0                     3.0   \n",
              "3    4.0     8.9      424   762300              0.0                     2.0   \n",
              "4    5.0     9.0      393  1756254              2.0                     3.0   \n",
              "..   ...     ...      ...      ...              ...                     ...   \n",
              "84   2.0     7.9    11026   385200              2.0                     0.0   \n",
              "85   5.0     8.9     1511  2420000              2.0                     0.0   \n",
              "86   4.0     7.8      517   688000              0.0                     0.0   \n",
              "87   4.0     8.4     2717   431250              2.0                     3.0   \n",
              "88   2.0     8.3     8445   446400              2.0                     0.0   \n",
              "\n",
              "    Kids and Pets  Transportation  Connectivity  Accessibilty  ...  \\\n",
              "0             4.0             4.0           5.0           6.0  ...   \n",
              "1             3.0             4.0           3.0           0.0  ...   \n",
              "2             3.0             7.0           6.0           8.0  ...   \n",
              "3             0.0             3.0           0.0           3.0  ...   \n",
              "4             7.0             6.0           3.0           0.0  ...   \n",
              "..            ...             ...           ...           ...  ...   \n",
              "84            0.0             4.0           3.0           3.0  ...   \n",
              "85            0.0             8.0           3.0           8.0  ...   \n",
              "86            0.0             0.0           3.0           0.0  ...   \n",
              "87            0.0             5.0           4.0           3.0  ...   \n",
              "88            0.0             0.0           3.0           3.0  ...   \n",
              "\n",
              "    Fine Dining  Sport  Quick Bites  Education  Street Food  Activity & Games  \\\n",
              "0         10000  10000        10000      10000        10000             10000   \n",
              "1         10000  10000        10000      10000        10000             10000   \n",
              "2         10000  10000        10000      10000        10000             10000   \n",
              "3         10000  10000        10000      10000        10000             10000   \n",
              "4         10000  10000        10000      10000        10000             10000   \n",
              "..          ...    ...          ...        ...          ...               ...   \n",
              "84        10000  10000        10000      10000        10000             10000   \n",
              "85        10000  10000        10000      10000        10000             10000   \n",
              "86        10000  10000        10000      10000        10000             10000   \n",
              "87        10000  10000        10000      10000        10000             10000   \n",
              "88        10000  10000        10000      10000        10000             10000   \n",
              "\n",
              "     Cafe  Entertainment  Food Court  Sight & Landmark  \n",
              "0   10000          10000       10000             10000  \n",
              "1   10000          10000       10000             10000  \n",
              "2   10000          10000       10000             10000  \n",
              "3   10000          10000       10000             10000  \n",
              "4   10000          10000       10000             10000  \n",
              "..    ...            ...         ...               ...  \n",
              "84  10000          10000       10000             10000  \n",
              "85  10000          10000       10000             10000  \n",
              "86  10000          10000       10000             10000  \n",
              "87  10000          10000       10000             10000  \n",
              "88  10000          10000       10000             10000  \n",
              "\n",
              "[89 rows x 37 columns]"
            ],
            "text/html": [
              "\n",
              "  <div id=\"df-01330b05-a584-4350-badc-9b1f73e0c85e\">\n",
              "    <div class=\"colab-df-container\">\n",
              "      <div>\n",
              "<style scoped>\n",
              "    .dataframe tbody tr th:only-of-type {\n",
              "        vertical-align: middle;\n",
              "    }\n",
              "\n",
              "    .dataframe tbody tr th {\n",
              "        vertical-align: top;\n",
              "    }\n",
              "\n",
              "    .dataframe thead th {\n",
              "        text-align: right;\n",
              "    }\n",
              "</style>\n",
              "<table border=\"1\" class=\"dataframe\">\n",
              "  <thead>\n",
              "    <tr style=\"text-align: right;\">\n",
              "      <th></th>\n",
              "      <th>Star</th>\n",
              "      <th>Rating</th>\n",
              "      <th>Reviews</th>\n",
              "      <th>Harga</th>\n",
              "      <th>Shuttle Service</th>\n",
              "      <th>Sports and Recreations</th>\n",
              "      <th>Kids and Pets</th>\n",
              "      <th>Transportation</th>\n",
              "      <th>Connectivity</th>\n",
              "      <th>Accessibilty</th>\n",
              "      <th>...</th>\n",
              "      <th>Fine Dining</th>\n",
              "      <th>Sport</th>\n",
              "      <th>Quick Bites</th>\n",
              "      <th>Education</th>\n",
              "      <th>Street Food</th>\n",
              "      <th>Activity &amp; Games</th>\n",
              "      <th>Cafe</th>\n",
              "      <th>Entertainment</th>\n",
              "      <th>Food Court</th>\n",
              "      <th>Sight &amp; Landmark</th>\n",
              "    </tr>\n",
              "  </thead>\n",
              "  <tbody>\n",
              "    <tr>\n",
              "      <th>0</th>\n",
              "      <td>5.0</td>\n",
              "      <td>8.9</td>\n",
              "      <td>4363</td>\n",
              "      <td>2480500</td>\n",
              "      <td>2.0</td>\n",
              "      <td>3.0</td>\n",
              "      <td>4.0</td>\n",
              "      <td>4.0</td>\n",
              "      <td>5.0</td>\n",
              "      <td>6.0</td>\n",
              "      <td>...</td>\n",
              "      <td>10000</td>\n",
              "      <td>10000</td>\n",
              "      <td>10000</td>\n",
              "      <td>10000</td>\n",
              "      <td>10000</td>\n",
              "      <td>10000</td>\n",
              "      <td>10000</td>\n",
              "      <td>10000</td>\n",
              "      <td>10000</td>\n",
              "      <td>10000</td>\n",
              "    </tr>\n",
              "    <tr>\n",
              "      <th>1</th>\n",
              "      <td>5.0</td>\n",
              "      <td>8.8</td>\n",
              "      <td>238</td>\n",
              "      <td>3823600</td>\n",
              "      <td>0.0</td>\n",
              "      <td>2.0</td>\n",
              "      <td>3.0</td>\n",
              "      <td>4.0</td>\n",
              "      <td>3.0</td>\n",
              "      <td>0.0</td>\n",
              "      <td>...</td>\n",
              "      <td>10000</td>\n",
              "      <td>10000</td>\n",
              "      <td>10000</td>\n",
              "      <td>10000</td>\n",
              "      <td>10000</td>\n",
              "      <td>10000</td>\n",
              "      <td>10000</td>\n",
              "      <td>10000</td>\n",
              "      <td>10000</td>\n",
              "      <td>10000</td>\n",
              "    </tr>\n",
              "    <tr>\n",
              "      <th>2</th>\n",
              "      <td>5.0</td>\n",
              "      <td>8.5</td>\n",
              "      <td>8405</td>\n",
              "      <td>6231500</td>\n",
              "      <td>2.0</td>\n",
              "      <td>3.0</td>\n",
              "      <td>3.0</td>\n",
              "      <td>7.0</td>\n",
              "      <td>6.0</td>\n",
              "      <td>8.0</td>\n",
              "      <td>...</td>\n",
              "      <td>10000</td>\n",
              "      <td>10000</td>\n",
              "      <td>10000</td>\n",
              "      <td>10000</td>\n",
              "      <td>10000</td>\n",
              "      <td>10000</td>\n",
              "      <td>10000</td>\n",
              "      <td>10000</td>\n",
              "      <td>10000</td>\n",
              "      <td>10000</td>\n",
              "    </tr>\n",
              "    <tr>\n",
              "      <th>3</th>\n",
              "      <td>4.0</td>\n",
              "      <td>8.9</td>\n",
              "      <td>424</td>\n",
              "      <td>762300</td>\n",
              "      <td>0.0</td>\n",
              "      <td>2.0</td>\n",
              "      <td>0.0</td>\n",
              "      <td>3.0</td>\n",
              "      <td>0.0</td>\n",
              "      <td>3.0</td>\n",
              "      <td>...</td>\n",
              "      <td>10000</td>\n",
              "      <td>10000</td>\n",
              "      <td>10000</td>\n",
              "      <td>10000</td>\n",
              "      <td>10000</td>\n",
              "      <td>10000</td>\n",
              "      <td>10000</td>\n",
              "      <td>10000</td>\n",
              "      <td>10000</td>\n",
              "      <td>10000</td>\n",
              "    </tr>\n",
              "    <tr>\n",
              "      <th>4</th>\n",
              "      <td>5.0</td>\n",
              "      <td>9.0</td>\n",
              "      <td>393</td>\n",
              "      <td>1756254</td>\n",
              "      <td>2.0</td>\n",
              "      <td>3.0</td>\n",
              "      <td>7.0</td>\n",
              "      <td>6.0</td>\n",
              "      <td>3.0</td>\n",
              "      <td>0.0</td>\n",
              "      <td>...</td>\n",
              "      <td>10000</td>\n",
              "      <td>10000</td>\n",
              "      <td>10000</td>\n",
              "      <td>10000</td>\n",
              "      <td>10000</td>\n",
              "      <td>10000</td>\n",
              "      <td>10000</td>\n",
              "      <td>10000</td>\n",
              "      <td>10000</td>\n",
              "      <td>10000</td>\n",
              "    </tr>\n",
              "    <tr>\n",
              "      <th>...</th>\n",
              "      <td>...</td>\n",
              "      <td>...</td>\n",
              "      <td>...</td>\n",
              "      <td>...</td>\n",
              "      <td>...</td>\n",
              "      <td>...</td>\n",
              "      <td>...</td>\n",
              "      <td>...</td>\n",
              "      <td>...</td>\n",
              "      <td>...</td>\n",
              "      <td>...</td>\n",
              "      <td>...</td>\n",
              "      <td>...</td>\n",
              "      <td>...</td>\n",
              "      <td>...</td>\n",
              "      <td>...</td>\n",
              "      <td>...</td>\n",
              "      <td>...</td>\n",
              "      <td>...</td>\n",
              "      <td>...</td>\n",
              "      <td>...</td>\n",
              "    </tr>\n",
              "    <tr>\n",
              "      <th>84</th>\n",
              "      <td>2.0</td>\n",
              "      <td>7.9</td>\n",
              "      <td>11026</td>\n",
              "      <td>385200</td>\n",
              "      <td>2.0</td>\n",
              "      <td>0.0</td>\n",
              "      <td>0.0</td>\n",
              "      <td>4.0</td>\n",
              "      <td>3.0</td>\n",
              "      <td>3.0</td>\n",
              "      <td>...</td>\n",
              "      <td>10000</td>\n",
              "      <td>10000</td>\n",
              "      <td>10000</td>\n",
              "      <td>10000</td>\n",
              "      <td>10000</td>\n",
              "      <td>10000</td>\n",
              "      <td>10000</td>\n",
              "      <td>10000</td>\n",
              "      <td>10000</td>\n",
              "      <td>10000</td>\n",
              "    </tr>\n",
              "    <tr>\n",
              "      <th>85</th>\n",
              "      <td>5.0</td>\n",
              "      <td>8.9</td>\n",
              "      <td>1511</td>\n",
              "      <td>2420000</td>\n",
              "      <td>2.0</td>\n",
              "      <td>0.0</td>\n",
              "      <td>0.0</td>\n",
              "      <td>8.0</td>\n",
              "      <td>3.0</td>\n",
              "      <td>8.0</td>\n",
              "      <td>...</td>\n",
              "      <td>10000</td>\n",
              "      <td>10000</td>\n",
              "      <td>10000</td>\n",
              "      <td>10000</td>\n",
              "      <td>10000</td>\n",
              "      <td>10000</td>\n",
              "      <td>10000</td>\n",
              "      <td>10000</td>\n",
              "      <td>10000</td>\n",
              "      <td>10000</td>\n",
              "    </tr>\n",
              "    <tr>\n",
              "      <th>86</th>\n",
              "      <td>4.0</td>\n",
              "      <td>7.8</td>\n",
              "      <td>517</td>\n",
              "      <td>688000</td>\n",
              "      <td>0.0</td>\n",
              "      <td>0.0</td>\n",
              "      <td>0.0</td>\n",
              "      <td>0.0</td>\n",
              "      <td>3.0</td>\n",
              "      <td>0.0</td>\n",
              "      <td>...</td>\n",
              "      <td>10000</td>\n",
              "      <td>10000</td>\n",
              "      <td>10000</td>\n",
              "      <td>10000</td>\n",
              "      <td>10000</td>\n",
              "      <td>10000</td>\n",
              "      <td>10000</td>\n",
              "      <td>10000</td>\n",
              "      <td>10000</td>\n",
              "      <td>10000</td>\n",
              "    </tr>\n",
              "    <tr>\n",
              "      <th>87</th>\n",
              "      <td>4.0</td>\n",
              "      <td>8.4</td>\n",
              "      <td>2717</td>\n",
              "      <td>431250</td>\n",
              "      <td>2.0</td>\n",
              "      <td>3.0</td>\n",
              "      <td>0.0</td>\n",
              "      <td>5.0</td>\n",
              "      <td>4.0</td>\n",
              "      <td>3.0</td>\n",
              "      <td>...</td>\n",
              "      <td>10000</td>\n",
              "      <td>10000</td>\n",
              "      <td>10000</td>\n",
              "      <td>10000</td>\n",
              "      <td>10000</td>\n",
              "      <td>10000</td>\n",
              "      <td>10000</td>\n",
              "      <td>10000</td>\n",
              "      <td>10000</td>\n",
              "      <td>10000</td>\n",
              "    </tr>\n",
              "    <tr>\n",
              "      <th>88</th>\n",
              "      <td>2.0</td>\n",
              "      <td>8.3</td>\n",
              "      <td>8445</td>\n",
              "      <td>446400</td>\n",
              "      <td>2.0</td>\n",
              "      <td>0.0</td>\n",
              "      <td>0.0</td>\n",
              "      <td>0.0</td>\n",
              "      <td>3.0</td>\n",
              "      <td>3.0</td>\n",
              "      <td>...</td>\n",
              "      <td>10000</td>\n",
              "      <td>10000</td>\n",
              "      <td>10000</td>\n",
              "      <td>10000</td>\n",
              "      <td>10000</td>\n",
              "      <td>10000</td>\n",
              "      <td>10000</td>\n",
              "      <td>10000</td>\n",
              "      <td>10000</td>\n",
              "      <td>10000</td>\n",
              "    </tr>\n",
              "  </tbody>\n",
              "</table>\n",
              "<p>89 rows × 37 columns</p>\n",
              "</div>\n",
              "      <button class=\"colab-df-convert\" onclick=\"convertToInteractive('df-01330b05-a584-4350-badc-9b1f73e0c85e')\"\n",
              "              title=\"Convert this dataframe to an interactive table.\"\n",
              "              style=\"display:none;\">\n",
              "        \n",
              "  <svg xmlns=\"http://www.w3.org/2000/svg\" height=\"24px\"viewBox=\"0 0 24 24\"\n",
              "       width=\"24px\">\n",
              "    <path d=\"M0 0h24v24H0V0z\" fill=\"none\"/>\n",
              "    <path d=\"M18.56 5.44l.94 2.06.94-2.06 2.06-.94-2.06-.94-.94-2.06-.94 2.06-2.06.94zm-11 1L8.5 8.5l.94-2.06 2.06-.94-2.06-.94L8.5 2.5l-.94 2.06-2.06.94zm10 10l.94 2.06.94-2.06 2.06-.94-2.06-.94-.94-2.06-.94 2.06-2.06.94z\"/><path d=\"M17.41 7.96l-1.37-1.37c-.4-.4-.92-.59-1.43-.59-.52 0-1.04.2-1.43.59L10.3 9.45l-7.72 7.72c-.78.78-.78 2.05 0 2.83L4 21.41c.39.39.9.59 1.41.59.51 0 1.02-.2 1.41-.59l7.78-7.78 2.81-2.81c.8-.78.8-2.07 0-2.86zM5.41 20L4 18.59l7.72-7.72 1.47 1.35L5.41 20z\"/>\n",
              "  </svg>\n",
              "      </button>\n",
              "      \n",
              "  <style>\n",
              "    .colab-df-container {\n",
              "      display:flex;\n",
              "      flex-wrap:wrap;\n",
              "      gap: 12px;\n",
              "    }\n",
              "\n",
              "    .colab-df-convert {\n",
              "      background-color: #E8F0FE;\n",
              "      border: none;\n",
              "      border-radius: 50%;\n",
              "      cursor: pointer;\n",
              "      display: none;\n",
              "      fill: #1967D2;\n",
              "      height: 32px;\n",
              "      padding: 0 0 0 0;\n",
              "      width: 32px;\n",
              "    }\n",
              "\n",
              "    .colab-df-convert:hover {\n",
              "      background-color: #E2EBFA;\n",
              "      box-shadow: 0px 1px 2px rgba(60, 64, 67, 0.3), 0px 1px 3px 1px rgba(60, 64, 67, 0.15);\n",
              "      fill: #174EA6;\n",
              "    }\n",
              "\n",
              "    [theme=dark] .colab-df-convert {\n",
              "      background-color: #3B4455;\n",
              "      fill: #D2E3FC;\n",
              "    }\n",
              "\n",
              "    [theme=dark] .colab-df-convert:hover {\n",
              "      background-color: #434B5C;\n",
              "      box-shadow: 0px 1px 3px 1px rgba(0, 0, 0, 0.15);\n",
              "      filter: drop-shadow(0px 1px 2px rgba(0, 0, 0, 0.3));\n",
              "      fill: #FFFFFF;\n",
              "    }\n",
              "  </style>\n",
              "\n",
              "      <script>\n",
              "        const buttonEl =\n",
              "          document.querySelector('#df-01330b05-a584-4350-badc-9b1f73e0c85e button.colab-df-convert');\n",
              "        buttonEl.style.display =\n",
              "          google.colab.kernel.accessAllowed ? 'block' : 'none';\n",
              "\n",
              "        async function convertToInteractive(key) {\n",
              "          const element = document.querySelector('#df-01330b05-a584-4350-badc-9b1f73e0c85e');\n",
              "          const dataTable =\n",
              "            await google.colab.kernel.invokeFunction('convertToInteractive',\n",
              "                                                     [key], {});\n",
              "          if (!dataTable) return;\n",
              "\n",
              "          const docLinkHtml = 'Like what you see? Visit the ' +\n",
              "            '<a target=\"_blank\" href=https://colab.research.google.com/notebooks/data_table.ipynb>data table notebook</a>'\n",
              "            + ' to learn more about interactive tables.';\n",
              "          element.innerHTML = '';\n",
              "          dataTable['output_type'] = 'display_data';\n",
              "          await google.colab.output.renderOutput(dataTable, element);\n",
              "          const docLink = document.createElement('div');\n",
              "          docLink.innerHTML = docLinkHtml;\n",
              "          element.appendChild(docLink);\n",
              "        }\n",
              "      </script>\n",
              "    </div>\n",
              "  </div>\n",
              "  "
            ]
          },
          "metadata": {},
          "execution_count": 29
        }
      ],
      "source": [
        "df = df.drop(['Hotel', 'Places Nearby', 'Facil + Akomod'], axis=1)\n",
        "df"
      ]
    },
    {
      "cell_type": "code",
      "execution_count": 30,
      "metadata": {
        "id": "ySmPN1IDWEIM"
      },
      "outputs": [],
      "source": [
        "df2 = df\n",
        "df3 = df"
      ]
    },
    {
      "cell_type": "markdown",
      "metadata": {
        "id": "xU_c2yjeWEIM"
      },
      "source": [
        "## Data Preparation"
      ]
    },
    {
      "cell_type": "code",
      "execution_count": 50,
      "metadata": {
        "id": "Mq9UaLNiWEIM"
      },
      "outputs": [],
      "source": [
        "train_dataset = df.loc[:70]\n",
        "test_dataset = df.drop(train_dataset.index)\n",
        "\n",
        "train_features = train_dataset.copy()\n",
        "test_features = test_dataset.copy()\n",
        "\n",
        "train_labels = train_features.pop('Rating')\n",
        "test_labels = test_features.pop('Rating')"
      ]
    },
    {
      "cell_type": "markdown",
      "metadata": {
        "id": "rLNoMAOKWEIN"
      },
      "source": [
        "## DNN Model"
      ]
    },
    {
      "cell_type": "code",
      "execution_count": 32,
      "metadata": {
        "id": "97VKOzcSWEIN"
      },
      "outputs": [],
      "source": [
        "def build_and_compile_model(norm):\n",
        "  \n",
        "    model = keras.Sequential([\n",
        "      norm,\n",
        "      layers.Dense(64, activation='relu'),\n",
        "      layers.Dense(64, activation='relu'),\n",
        "      layers.Dense(1)\n",
        "      ])\n",
        "\n",
        "    model.compile(loss='mean_absolute_error',optimizer=tf.keras.optimizers.Adam(0.001))\n",
        "    return model"
      ]
    },
    {
      "cell_type": "code",
      "source": [
        "print(train_features.info)"
      ],
      "metadata": {
        "colab": {
          "base_uri": "https://localhost:8080/"
        },
        "id": "P0ZeK0omd4Y7",
        "outputId": "890f2bb2-4df6-4b9b-c99c-ae242a95d655"
      },
      "execution_count": 51,
      "outputs": [
        {
          "output_type": "stream",
          "name": "stdout",
          "text": [
            "<bound method DataFrame.info of     Star  Reviews    Harga  Shuttle Service  Sports and Recreations  \\\n",
            "0    5.0     4363  2480500              2.0                     3.0   \n",
            "1    5.0      238  3823600              0.0                     2.0   \n",
            "2    5.0     8405  6231500              2.0                     3.0   \n",
            "3    4.0      424   762300              0.0                     2.0   \n",
            "4    5.0      393  1756254              2.0                     3.0   \n",
            "..   ...      ...      ...              ...                     ...   \n",
            "66   3.0     4848   675000              0.0                     0.0   \n",
            "67   3.0     9343   638000              0.0                     0.0   \n",
            "68   4.0     3808   778000              0.0                     3.0   \n",
            "69   4.0     3025   710888              2.0                     3.0   \n",
            "70   4.0     5222   820000              0.0                     0.0   \n",
            "\n",
            "    Kids and Pets  Transportation  Connectivity  Accessibilty  Things to Do  \\\n",
            "0             4.0             4.0           5.0           6.0           8.0   \n",
            "1             3.0             4.0           3.0           0.0          10.0   \n",
            "2             3.0             7.0           6.0           8.0           4.0   \n",
            "3             0.0             3.0           0.0           3.0           5.0   \n",
            "4             7.0             6.0           3.0           0.0          12.0   \n",
            "..            ...             ...           ...           ...           ...   \n",
            "66            0.0             0.0           3.0           3.0           3.0   \n",
            "67            0.0             0.0           3.0           4.0           3.0   \n",
            "68            3.0             5.0           2.0           5.0           7.0   \n",
            "69            0.0             3.0           3.0           6.0           3.0   \n",
            "70            0.0             2.0           7.0           7.0           0.0   \n",
            "\n",
            "    ...  Fine Dining  Sport  Quick Bites  Education  Street Food  \\\n",
            "0   ...        10000  10000        10000      10000        10000   \n",
            "1   ...        10000  10000        10000      10000        10000   \n",
            "2   ...        10000  10000        10000      10000        10000   \n",
            "3   ...        10000  10000        10000      10000        10000   \n",
            "4   ...        10000  10000        10000      10000        10000   \n",
            "..  ...          ...    ...          ...        ...          ...   \n",
            "66  ...        10000  10000        10000      10000        10000   \n",
            "67  ...        10000  10000        10000        326        10000   \n",
            "68  ...        10000  10000        10000      10000        10000   \n",
            "69  ...        10000  10000        10000      10000        10000   \n",
            "70  ...        10000  10000        10000      10000        10000   \n",
            "\n",
            "    Activity & Games   Cafe  Entertainment  Food Court  Sight & Landmark  \n",
            "0              10000  10000          10000       10000             10000  \n",
            "1              10000  10000          10000       10000             10000  \n",
            "2              10000  10000          10000       10000             10000  \n",
            "3              10000  10000          10000       10000             10000  \n",
            "4              10000  10000          10000       10000             10000  \n",
            "..               ...    ...            ...         ...               ...  \n",
            "66             10000  10000          10000       10000             10000  \n",
            "67             10000  10000          10000       10000             10000  \n",
            "68             10000  10000          10000       10000             10000  \n",
            "69             10000  10000          10000       10000             10000  \n",
            "70             10000     25            842       10000             10000  \n",
            "\n",
            "[71 rows x 36 columns]>\n"
          ]
        }
      ]
    },
    {
      "cell_type": "markdown",
      "metadata": {
        "id": "Hk3AGE0hWEIN"
      },
      "source": [
        "## Tensorflow Normalizer"
      ]
    },
    {
      "cell_type": "code",
      "execution_count": 53,
      "metadata": {
        "id": "yilvhQ6fWEIN",
        "colab": {
          "base_uri": "https://localhost:8080/"
        },
        "outputId": "9eaf0a5b-12b2-4d19-d8c9-4969a98b9b0a"
      },
      "outputs": [
        {
          "output_type": "stream",
          "name": "stdout",
          "text": [
            "WARNING:tensorflow:5 out of the last 13 calls to <function PreprocessingLayer.make_adapt_function.<locals>.adapt_step at 0x7faac0d93cb0> triggered tf.function retracing. Tracing is expensive and the excessive number of tracings could be due to (1) creating @tf.function repeatedly in a loop, (2) passing tensors with different shapes, (3) passing Python objects instead of tensors. For (1), please define your @tf.function outside of the loop. For (2), @tf.function has experimental_relax_shapes=True option that relaxes argument shapes that can avoid unnecessary retracing. For (3), please refer to https://www.tensorflow.org/guide/function#controlling_retracing and https://www.tensorflow.org/api_docs/python/tf/function for  more details.\n",
            "[[4.2816901e+00 2.4317466e+03 1.7277068e+06 1.7887324e+00 2.7323942e+00\n",
            "  1.3239436e+00 4.5492959e+00 3.9577465e+00 3.8450704e+00 6.7042251e+00\n",
            "  8.3380280e+00 1.1408450e+01 6.2394366e+00 6.6478872e+00 9.4084511e+00\n",
            "  1.2000000e+01 1.1605634e+01 9.5789727e+03 2.8839155e+03 3.0320562e+03\n",
            "  3.7190706e+03 2.1346338e+03 9.8607891e+03 9.5860977e+03 7.4591831e+03\n",
            "  9.3296055e+03 9.4377754e+03 9.7351133e+03 9.8595781e+03 8.7858164e+03\n",
            "  9.7189004e+03 9.5949570e+03 9.4380703e+03 9.7323945e+03 9.8594512e+03\n",
            "  9.7262676e+03]]\n"
          ]
        }
      ],
      "source": [
        "normalizer = tf.keras.layers.Normalization(axis=-1)\n",
        "normalizer.adapt(np.array(train_features))\n",
        "print(normalizer.mean.numpy())"
      ]
    },
    {
      "cell_type": "code",
      "source": [
        "regularizer = 0.000001\n",
        "dropout = 0\n",
        "schedul = -0.0001\n",
        "lr = 0.001"
      ],
      "metadata": {
        "id": "9RRr5pqHeEJj"
      },
      "execution_count": 54,
      "outputs": []
    },
    {
      "cell_type": "code",
      "execution_count": 34,
      "metadata": {
        "colab": {
          "base_uri": "https://localhost:8080/"
        },
        "id": "zPceXzklWEIN",
        "outputId": "e9df7b08-79a7-4c74-bcf2-b5e024c9e0c1"
      },
      "outputs": [
        {
          "output_type": "stream",
          "name": "stdout",
          "text": [
            "Model: \"sequential\"\n",
            "_________________________________________________________________\n",
            " Layer (type)                Output Shape              Param #   \n",
            "=================================================================\n",
            " normalization (Normalizatio  (None, 36)               73        \n",
            " n)                                                              \n",
            "                                                                 \n",
            " dense (Dense)               (None, 64)                2368      \n",
            "                                                                 \n",
            " dense_1 (Dense)             (None, 64)                4160      \n",
            "                                                                 \n",
            " dense_2 (Dense)             (None, 1)                 65        \n",
            "                                                                 \n",
            "=================================================================\n",
            "Total params: 6,666\n",
            "Trainable params: 6,593\n",
            "Non-trainable params: 73\n",
            "_________________________________________________________________\n"
          ]
        }
      ],
      "source": [
        "dnn_model = build_and_compile_model(normalizer)\n",
        "dnn_model.summary()"
      ]
    },
    {
      "cell_type": "code",
      "execution_count": 35,
      "metadata": {
        "colab": {
          "base_uri": "https://localhost:8080/"
        },
        "id": "BtQTlsdNWEIN",
        "outputId": "ca3b11f4-3fd6-42d6-9d61-77e7f77fd1c9"
      },
      "outputs": [
        {
          "output_type": "execute_result",
          "data": {
            "text/plain": [
              "<tf.Variable 'dense/kernel:0' shape=(36, 64) dtype=float32, numpy=\n",
              "array([[-0.02147079, -0.2250683 ,  0.14834936, ..., -0.00451393,\n",
              "        -0.0545629 , -0.0099158 ],\n",
              "       [-0.04711778,  0.00946327, -0.22779934, ..., -0.15876716,\n",
              "         0.24448942, -0.00031805],\n",
              "       [ 0.06584467,  0.20572726, -0.08094265, ...,  0.22465412,\n",
              "         0.1480117 ,  0.15141673],\n",
              "       ...,\n",
              "       [ 0.06300025, -0.02534367,  0.04734553, ...,  0.09941147,\n",
              "         0.17445861, -0.16808665],\n",
              "       [ 0.21900792, -0.1327151 ,  0.01028751, ..., -0.08932181,\n",
              "         0.23561426,  0.01609199],\n",
              "       [-0.15840988,  0.04887877, -0.23416978, ..., -0.19608092,\n",
              "        -0.10938965,  0.1870576 ]], dtype=float32)>"
            ]
          },
          "metadata": {},
          "execution_count": 35
        }
      ],
      "source": [
        "dnn_model.layers[1].kernel"
      ]
    },
    {
      "cell_type": "code",
      "execution_count": 36,
      "metadata": {
        "id": "JF2ZmMLRWEIO"
      },
      "outputs": [],
      "source": [
        "history = dnn_model.fit(\n",
        "    train_features,\n",
        "    train_labels,\n",
        "    validation_split=0.2,\n",
        "    verbose=0, epochs=100)"
      ]
    },
    {
      "cell_type": "code",
      "execution_count": 37,
      "metadata": {
        "colab": {
          "base_uri": "https://localhost:8080/",
          "height": 206
        },
        "id": "sG7MZMGBWEIO",
        "outputId": "43e0a431-045f-4f84-c090-24fed1aa256a"
      },
      "outputs": [
        {
          "output_type": "execute_result",
          "data": {
            "text/plain": [
              "        loss  val_loss  epoch\n",
              "95  0.119391  1.057553     95\n",
              "96  0.117554  1.077431     96\n",
              "97  0.135441  1.066175     97\n",
              "98  0.115706  1.041157     98\n",
              "99  0.105911  1.042263     99"
            ],
            "text/html": [
              "\n",
              "  <div id=\"df-364cfd3f-8084-49ab-a1d8-d89225754f37\">\n",
              "    <div class=\"colab-df-container\">\n",
              "      <div>\n",
              "<style scoped>\n",
              "    .dataframe tbody tr th:only-of-type {\n",
              "        vertical-align: middle;\n",
              "    }\n",
              "\n",
              "    .dataframe tbody tr th {\n",
              "        vertical-align: top;\n",
              "    }\n",
              "\n",
              "    .dataframe thead th {\n",
              "        text-align: right;\n",
              "    }\n",
              "</style>\n",
              "<table border=\"1\" class=\"dataframe\">\n",
              "  <thead>\n",
              "    <tr style=\"text-align: right;\">\n",
              "      <th></th>\n",
              "      <th>loss</th>\n",
              "      <th>val_loss</th>\n",
              "      <th>epoch</th>\n",
              "    </tr>\n",
              "  </thead>\n",
              "  <tbody>\n",
              "    <tr>\n",
              "      <th>95</th>\n",
              "      <td>0.119391</td>\n",
              "      <td>1.057553</td>\n",
              "      <td>95</td>\n",
              "    </tr>\n",
              "    <tr>\n",
              "      <th>96</th>\n",
              "      <td>0.117554</td>\n",
              "      <td>1.077431</td>\n",
              "      <td>96</td>\n",
              "    </tr>\n",
              "    <tr>\n",
              "      <th>97</th>\n",
              "      <td>0.135441</td>\n",
              "      <td>1.066175</td>\n",
              "      <td>97</td>\n",
              "    </tr>\n",
              "    <tr>\n",
              "      <th>98</th>\n",
              "      <td>0.115706</td>\n",
              "      <td>1.041157</td>\n",
              "      <td>98</td>\n",
              "    </tr>\n",
              "    <tr>\n",
              "      <th>99</th>\n",
              "      <td>0.105911</td>\n",
              "      <td>1.042263</td>\n",
              "      <td>99</td>\n",
              "    </tr>\n",
              "  </tbody>\n",
              "</table>\n",
              "</div>\n",
              "      <button class=\"colab-df-convert\" onclick=\"convertToInteractive('df-364cfd3f-8084-49ab-a1d8-d89225754f37')\"\n",
              "              title=\"Convert this dataframe to an interactive table.\"\n",
              "              style=\"display:none;\">\n",
              "        \n",
              "  <svg xmlns=\"http://www.w3.org/2000/svg\" height=\"24px\"viewBox=\"0 0 24 24\"\n",
              "       width=\"24px\">\n",
              "    <path d=\"M0 0h24v24H0V0z\" fill=\"none\"/>\n",
              "    <path d=\"M18.56 5.44l.94 2.06.94-2.06 2.06-.94-2.06-.94-.94-2.06-.94 2.06-2.06.94zm-11 1L8.5 8.5l.94-2.06 2.06-.94-2.06-.94L8.5 2.5l-.94 2.06-2.06.94zm10 10l.94 2.06.94-2.06 2.06-.94-2.06-.94-.94-2.06-.94 2.06-2.06.94z\"/><path d=\"M17.41 7.96l-1.37-1.37c-.4-.4-.92-.59-1.43-.59-.52 0-1.04.2-1.43.59L10.3 9.45l-7.72 7.72c-.78.78-.78 2.05 0 2.83L4 21.41c.39.39.9.59 1.41.59.51 0 1.02-.2 1.41-.59l7.78-7.78 2.81-2.81c.8-.78.8-2.07 0-2.86zM5.41 20L4 18.59l7.72-7.72 1.47 1.35L5.41 20z\"/>\n",
              "  </svg>\n",
              "      </button>\n",
              "      \n",
              "  <style>\n",
              "    .colab-df-container {\n",
              "      display:flex;\n",
              "      flex-wrap:wrap;\n",
              "      gap: 12px;\n",
              "    }\n",
              "\n",
              "    .colab-df-convert {\n",
              "      background-color: #E8F0FE;\n",
              "      border: none;\n",
              "      border-radius: 50%;\n",
              "      cursor: pointer;\n",
              "      display: none;\n",
              "      fill: #1967D2;\n",
              "      height: 32px;\n",
              "      padding: 0 0 0 0;\n",
              "      width: 32px;\n",
              "    }\n",
              "\n",
              "    .colab-df-convert:hover {\n",
              "      background-color: #E2EBFA;\n",
              "      box-shadow: 0px 1px 2px rgba(60, 64, 67, 0.3), 0px 1px 3px 1px rgba(60, 64, 67, 0.15);\n",
              "      fill: #174EA6;\n",
              "    }\n",
              "\n",
              "    [theme=dark] .colab-df-convert {\n",
              "      background-color: #3B4455;\n",
              "      fill: #D2E3FC;\n",
              "    }\n",
              "\n",
              "    [theme=dark] .colab-df-convert:hover {\n",
              "      background-color: #434B5C;\n",
              "      box-shadow: 0px 1px 3px 1px rgba(0, 0, 0, 0.15);\n",
              "      filter: drop-shadow(0px 1px 2px rgba(0, 0, 0, 0.3));\n",
              "      fill: #FFFFFF;\n",
              "    }\n",
              "  </style>\n",
              "\n",
              "      <script>\n",
              "        const buttonEl =\n",
              "          document.querySelector('#df-364cfd3f-8084-49ab-a1d8-d89225754f37 button.colab-df-convert');\n",
              "        buttonEl.style.display =\n",
              "          google.colab.kernel.accessAllowed ? 'block' : 'none';\n",
              "\n",
              "        async function convertToInteractive(key) {\n",
              "          const element = document.querySelector('#df-364cfd3f-8084-49ab-a1d8-d89225754f37');\n",
              "          const dataTable =\n",
              "            await google.colab.kernel.invokeFunction('convertToInteractive',\n",
              "                                                     [key], {});\n",
              "          if (!dataTable) return;\n",
              "\n",
              "          const docLinkHtml = 'Like what you see? Visit the ' +\n",
              "            '<a target=\"_blank\" href=https://colab.research.google.com/notebooks/data_table.ipynb>data table notebook</a>'\n",
              "            + ' to learn more about interactive tables.';\n",
              "          element.innerHTML = '';\n",
              "          dataTable['output_type'] = 'display_data';\n",
              "          await google.colab.output.renderOutput(dataTable, element);\n",
              "          const docLink = document.createElement('div');\n",
              "          docLink.innerHTML = docLinkHtml;\n",
              "          element.appendChild(docLink);\n",
              "        }\n",
              "      </script>\n",
              "    </div>\n",
              "  </div>\n",
              "  "
            ]
          },
          "metadata": {},
          "execution_count": 37
        }
      ],
      "source": [
        "hist = pd.DataFrame(history.history)\n",
        "hist['epoch'] = history.epoch\n",
        "hist.tail()"
      ]
    },
    {
      "cell_type": "code",
      "execution_count": 38,
      "metadata": {
        "id": "uzpFRFUJWEIO"
      },
      "outputs": [],
      "source": [
        "def plot_loss(history):\n",
        "  plt.plot(history.history['loss'], label='loss')\n",
        "  plt.plot(history.history['val_loss'], label='val_loss')\n",
        "  plt.ylim([0, 10])\n",
        "  plt.xlabel('Epoch')\n",
        "  plt.ylabel('Error [MPG]')\n",
        "  plt.legend()\n",
        "  plt.grid(True)"
      ]
    },
    {
      "cell_type": "code",
      "execution_count": 39,
      "metadata": {
        "colab": {
          "base_uri": "https://localhost:8080/",
          "height": 283
        },
        "id": "nrr3BibKWEIO",
        "outputId": "8b237592-31e0-4dc2-ffe6-091c2632178c"
      },
      "outputs": [
        {
          "output_type": "display_data",
          "data": {
            "text/plain": [
              "<Figure size 432x288 with 1 Axes>"
            ],
            "image/png": "[encoded data removed]"
          },
          "metadata": {
            "needs_background": "light"
          }
        }
      ],
      "source": [
        "plot_loss(history)"
      ]
    },
    {
      "cell_type": "code",
      "execution_count": 40,
      "metadata": {
        "colab": {
          "base_uri": "https://localhost:8080/",
          "height": 283
        },
        "id": "aAD-pRzTWEIO",
        "outputId": "1ac1d80d-dd4f-49d9-a86d-564da4d566c5"
      },
      "outputs": [
        {
          "output_type": "display_data",
          "data": {
            "text/plain": [
              "<Figure size 432x288 with 1 Axes>"
            ],
            "image/png": "[encoded data removed]"
          },
          "metadata": {
            "needs_background": "light"
          }
        }
      ],
      "source": [
        "plot_loss(history)"
      ]
    },
    {
      "cell_type": "code",
      "execution_count": 56,
      "metadata": {
        "id": "JYVGOneqWEIP"
      },
      "outputs": [],
      "source": [
        "def mikro_model(norm):\n",
        "      model = keras.Sequential([\n",
        "      norm,\n",
        "      layers.Dense(8, activation='relu', kernel_regularizer=regularizers.l2(regularizer) ),\n",
        "      layers.Dropout(dropout),\n",
        "      layers.Dense(8, activation='relu', kernel_regularizer=regularizers.l2(regularizer)),\n",
        "      layers.Dropout(dropout),\n",
        "      layers.Dense(1)\n",
        "      ])\n",
        "      return model\n",
        "\n",
        "\n",
        "\n",
        "def small_model(norm):\n",
        "      model = keras.Sequential([\n",
        "      norm,\n",
        "      layers.Dense(16, activation='relu', kernel_regularizer=regularizers.l2(regularizer) ),\n",
        "      layers.Dropout(dropout),\n",
        "      layers.Dense(16, activation='relu', kernel_regularizer=regularizers.l2(regularizer)),\n",
        "      layers.Dropout(dropout),\n",
        "      layers.Dense(1)\n",
        "      ])\n",
        "    \n",
        "      return model\n",
        "\n",
        "\n",
        "def medium_model(norm):\n",
        "      model = keras.Sequential([\n",
        "      norm,\n",
        "      layers.Dense(64, activation='relu', kernel_regularizer=regularizers.l2(regularizer) ),\n",
        "      layers.Dropout(dropout),\n",
        "      layers.Dense(16, activation='relu', kernel_regularizer=regularizers.l2(regularizer) ),\n",
        "      layers.Dropout(dropout),\n",
        "      layers.Dense(1)\n",
        "      ])\n",
        "    \n",
        "      return model\n",
        "\n",
        "\n",
        "def large_model(norm):\n",
        "      model = keras.Sequential([\n",
        "      norm,\n",
        "      layers.Dense(128, activation='relu', kernel_regularizer=regularizers.l2(regularizer)),\n",
        "      layers.Dropout(dropout),\n",
        "      layers.Dense(128, activation='relu', kernel_regularizer=regularizers.l2(regularizer)),\n",
        "      layers.Dropout(dropout),\n",
        "      layers.Dense(128, activation='relu', kernel_regularizer=regularizers.l2(regularizer)),\n",
        "      layers.Dropout(dropout),\n",
        "      layers.Dense(1)\n",
        "      ])\n",
        "    \n",
        "      return model\n",
        "\n",
        "def scale_model(norm):\n",
        "      model = keras.Sequential([\n",
        "      norm,\n",
        "      layers.Dense(32, activation='relu', kernel_regularizer=regularizers.l2(regularizer)),\n",
        "      layers.Dropout(dropout),\n",
        "      layers.Dense(64, activation='relu', kernel_regularizer=regularizers.l2(regularizer)),\n",
        "      layers.Dropout(dropout),\n",
        "      layers.Dense(128, activation='relu', kernel_regularizer=regularizers.l2(regularizer)),\n",
        "      layers.Dropout(dropout),\n",
        "      layers.Dense(128, activation='relu', kernel_regularizer=regularizers.l2(regularizer)),\n",
        "      layers.Dropout(dropout),\n",
        "      layers.Dense(512, activation='relu', kernel_regularizer=regularizers.l2(regularizer)),\n",
        "      layers.Dropout(dropout),\n",
        "      layers.Dense(1)\n",
        "      ])\n",
        "      \n",
        "      return model"
      ]
    },
    {
      "cell_type": "code",
      "execution_count": 57,
      "metadata": {
        "id": "1YxFcgVxWEIP"
      },
      "outputs": [],
      "source": [
        "optimizer = tf.optimizers.Adam(learning_rate=lr)"
      ]
    },
    {
      "cell_type": "code",
      "execution_count": 58,
      "metadata": {
        "id": "tNHQ_efRWEIP"
      },
      "outputs": [],
      "source": [
        "def scheduler(epoch, lr):\n",
        "  if epoch < 10:\n",
        "    return lr\n",
        "  else:\n",
        "    return lr * tf.math.exp(schedul)"
      ]
    },
    {
      "cell_type": "code",
      "execution_count": 61,
      "metadata": {
        "id": "qUtsIgVSWEIP"
      },
      "outputs": [],
      "source": [
        "def DNN_Pipeline (model):\n",
        "    \n",
        "    model.compile(optimizer= optimizer, loss='mean_absolute_error')\n",
        "    \n",
        "    history = model.fit(\n",
        "    train_features,\n",
        "    train_labels,\n",
        "    validation_split=0.2,\n",
        "    callbacks = tf.keras.callbacks.LearningRateScheduler(scheduler),\n",
        "    verbose=0, epochs=100)\n",
        "    \n",
        "    hist = pd.DataFrame(history.history)\n",
        "    hist['epoch'] = history.epoch\n",
        "    \n",
        "    plt.plot(history.history['loss'], label='loss')\n",
        "    plt.plot(history.history['val_loss'], label='val_loss')\n",
        "    plt.ylim([0, 2])\n",
        "    plt.xlabel('Epoch')\n",
        "    plt.ylabel('Error [MPG]')\n",
        "    plt.legend()\n",
        "    plt.grid(True)\n",
        "    print(hist.tail(10))\n",
        "    \n",
        "    return model"
      ]
    },
    {
      "cell_type": "code",
      "execution_count": 65,
      "metadata": {
        "colab": {
          "base_uri": "https://localhost:8080/",
          "height": 474
        },
        "id": "RCrdjZQSWEIP",
        "outputId": "5758da91-203d-4224-e935-5da928307bdb"
      },
      "outputs": [
        {
          "output_type": "stream",
          "name": "stdout",
          "text": [
            "        loss  val_loss        lr  epoch\n",
            "90  0.158243  1.702474  0.000974     90\n",
            "91  0.153680  1.708932  0.000974     91\n",
            "92  0.160357  1.704033  0.000974     92\n",
            "93  0.150132  1.692261  0.000974     93\n",
            "94  0.150708  1.694238  0.000974     94\n",
            "95  0.147603  1.710126  0.000974     95\n",
            "96  0.145447  1.707724  0.000974     96\n",
            "97  0.138650  1.675386  0.000974     97\n",
            "98  0.139797  1.674136  0.000973     98\n",
            "99  0.135294  1.688042  0.000973     99\n"
          ]
        },
        {
          "output_type": "display_data",
          "data": {
            "text/plain": [
              "<Figure size 432x288 with 1 Axes>"
            ],
            "image/png": "[encoded data removed]"
          },
          "metadata": {
            "needs_background": "light"
          }
        }
      ],
      "source": [
        "small = DNN_Pipeline(small_model(normalizer))"
      ]
    },
    {
      "cell_type": "code",
      "execution_count": 63,
      "metadata": {
        "colab": {
          "base_uri": "https://localhost:8080/",
          "height": 474
        },
        "id": "8k2F83jeWEIQ",
        "outputId": "c72a0c11-9f18-433c-c8c2-3b791b7df04d"
      },
      "outputs": [
        {
          "output_type": "stream",
          "name": "stdout",
          "text": [
            "        loss  val_loss        lr  epoch\n",
            "90  0.073449  1.243609  0.000983     90\n",
            "91  0.065309  1.230999  0.000983     91\n",
            "92  0.062973  1.232756  0.000983     92\n",
            "93  0.057501  1.237834  0.000983     93\n",
            "94  0.055549  1.230942  0.000983     94\n",
            "95  0.059778  1.227881  0.000983     95\n",
            "96  0.050012  1.227091  0.000982     96\n",
            "97  0.061178  1.232645  0.000982     97\n",
            "98  0.048959  1.232342  0.000982     98\n",
            "99  0.049103  1.234615  0.000982     99\n"
          ]
        },
        {
          "output_type": "display_data",
          "data": {
            "text/plain": [
              "<Figure size 432x288 with 1 Axes>"
            ],
            "image/png": "[encoded data removed]"
          },
          "metadata": {
            "needs_background": "light"
          }
        }
      ],
      "source": [
        "medium = DNN_Pipeline(medium_model(normalizer))"
      ]
    },
    {
      "cell_type": "code",
      "execution_count": 66,
      "metadata": {
        "colab": {
          "base_uri": "https://localhost:8080/",
          "height": 474
        },
        "id": "mD3htfe4WEIQ",
        "outputId": "299c31fc-6b1a-4c89-be2f-6ec8ad6364ad"
      },
      "outputs": [
        {
          "output_type": "stream",
          "name": "stdout",
          "text": [
            "        loss  val_loss        lr  epoch\n",
            "90  0.098985  1.474359  0.000966     90\n",
            "91  0.080053  1.474614  0.000965     91\n",
            "92  0.090007  1.480343  0.000965     92\n",
            "93  0.068421  1.450835  0.000965     93\n",
            "94  0.091387  1.500577  0.000965     94\n",
            "95  0.123439  1.477664  0.000965     95\n",
            "96  0.114619  1.471519  0.000965     96\n",
            "97  0.072782  1.485890  0.000965     97\n",
            "98  0.086953  1.445083  0.000965     98\n",
            "99  0.099836  1.476581  0.000965     99\n"
          ]
        },
        {
          "output_type": "display_data",
          "data": {
            "text/plain": [
              "<Figure size 432x288 with 1 Axes>"
            ],
            "image/png": "[encoded data removed]"
          },
          "metadata": {
            "needs_background": "light"
          }
        }
      ],
      "source": [
        "large = DNN_Pipeline(large_model(normalizer))"
      ]
    },
    {
      "cell_type": "code",
      "execution_count": 67,
      "metadata": {
        "id": "F6IxWv8wWEIQ",
        "colab": {
          "base_uri": "https://localhost:8080/",
          "height": 474
        },
        "outputId": "d012bedb-22f2-44ef-a111-eb8359815396"
      },
      "outputs": [
        {
          "output_type": "stream",
          "name": "stdout",
          "text": [
            "        loss  val_loss        lr  epoch\n",
            "90  0.194031  1.531722  0.000957     90\n",
            "91  0.207984  1.478651  0.000957     91\n",
            "92  0.318052  1.466070  0.000957     92\n",
            "93  0.155671  1.505068  0.000957     93\n",
            "94  0.157874  1.472802  0.000956     94\n",
            "95  0.141875  1.531571  0.000956     95\n",
            "96  0.199813  1.502218  0.000956     96\n",
            "97  0.147055  1.522013  0.000956     97\n",
            "98  0.100900  1.513094  0.000956     98\n",
            "99  0.085251  1.510858  0.000956     99\n"
          ]
        },
        {
          "output_type": "display_data",
          "data": {
            "text/plain": [
              "<Figure size 432x288 with 1 Axes>"
            ],
            "image/png": "[encoded data removed]"
          },
          "metadata": {
            "needs_background": "light"
          }
        }
      ],
      "source": [
        "scale = DNN_Pipeline(scale_model(normalizer))"
      ]
    },
    {
      "cell_type": "code",
      "source": [
        "#mikro_predict = mikro.predict(test_features)\n",
        "small_predict = small.predict(test_features)\n",
        "medium_predict = medium.predict(test_features)\n",
        "large_predict = large.predict(test_features)\n",
        "scale_predict = scale.predict(test_features)"
      ],
      "metadata": {
        "id": "kei6zqrdgCJy"
      },
      "execution_count": 69,
      "outputs": []
    },
    {
      "cell_type": "code",
      "source": [
        "from sklearn.metrics import mean_absolute_error\n",
        "\n",
        "mean_absolute_error(medium_predict,test_labels)   "
      ],
      "metadata": {
        "colab": {
          "base_uri": "https://localhost:8080/"
        },
        "id": "c8-sNUiXgTNQ",
        "outputId": "55bd5e0b-e54a-417d-d4f7-65110444df69"
      },
      "execution_count": 74,
      "outputs": [
        {
          "output_type": "execute_result",
          "data": {
            "text/plain": [
              "1.1158912075890435"
            ]
          },
          "metadata": {},
          "execution_count": 74
        }
      ]
    },
    {
      "cell_type": "code",
      "source": [
        "mean_absolute_error(scale_predict,test_labels)   "
      ],
      "metadata": {
        "colab": {
          "base_uri": "https://localhost:8080/"
        },
        "id": "Atw6EVtNgXRM",
        "outputId": "91ec9ef1-d603-4c00-bcbe-f1d908a1319b"
      },
      "execution_count": 75,
      "outputs": [
        {
          "output_type": "execute_result",
          "data": {
            "text/plain": [
              "1.2331461005740696"
            ]
          },
          "metadata": {},
          "execution_count": 75
        }
      ]
    },
    {
      "cell_type": "code",
      "source": [
        "print(scale_predict)"
      ],
      "metadata": {
        "colab": {
          "base_uri": "https://localhost:8080/"
        },
        "id": "10UIu58LgqIe",
        "outputId": "8b81ab4e-8f46-40a1-ae7d-567e078f9a6e"
      },
      "execution_count": 92,
      "outputs": [
        {
          "output_type": "stream",
          "name": "stdout",
          "text": [
            "[[ 6.6845884]\n",
            " [10.782689 ]\n",
            " [ 8.416182 ]\n",
            " [10.017844 ]\n",
            " [ 7.4683704]\n",
            " [ 8.584283 ]\n",
            " [ 8.230318 ]\n",
            " [ 9.013846 ]\n",
            " [ 8.739503 ]\n",
            " [ 9.401127 ]\n",
            " [ 9.820249 ]\n",
            " [ 7.4541717]\n",
            " [ 7.731168 ]\n",
            " [11.059075 ]\n",
            " [ 8.352338 ]\n",
            " [10.048335 ]\n",
            " [ 8.740755 ]\n",
            " [11.362262 ]]\n"
          ]
        }
      ]
    },
    {
      "cell_type": "code",
      "source": [
        "print(test_labels)"
      ],
      "metadata": {
        "colab": {
          "base_uri": "https://localhost:8080/"
        },
        "id": "UdrQidW7gtI3",
        "outputId": "f357476e-c612-4dda-9794-8061acd197f7"
      },
      "execution_count": 77,
      "outputs": [
        {
          "metadata": {
            "tags": null
          },
          "name": "stdout",
          "output_type": "stream",
          "text": [
            "71    8.9\n",
            "72    8.8\n",
            "73    8.3\n",
            "74    8.4\n",
            "75    8.6\n",
            "76    9.0\n",
            "77    8.5\n",
            "78    8.2\n",
            "79    8.7\n",
            "80    8.4\n",
            "81    8.0\n",
            "82    8.5\n",
            "83    8.1\n",
            "84    7.9\n",
            "85    8.9\n",
            "86    7.8\n",
            "87    8.4\n",
            "88    8.3\n",
            "Name: Rating, dtype: float64\n"
          ]
        }
      ]
    },
    {
      "cell_type": "code",
      "source": [
        "# Rank train datasets\n",
        "\n",
        "medium.predict(train_features)"
      ],
      "metadata": {
        "colab": {
          "base_uri": "https://localhost:8080/"
        },
        "id": "5TaqZmIygv9P",
        "outputId": "450d876e-c44c-4ad0-ee58-71fed60d287e"
      },
      "execution_count": 78,
      "outputs": [
        {
          "output_type": "execute_result",
          "data": {
            "text/plain": [
              "array([[ 8.94911  ],\n",
              "       [ 8.861728 ],\n",
              "       [ 8.566479 ],\n",
              "       [ 8.901875 ],\n",
              "       [ 9.005402 ],\n",
              "       [ 8.6369095],\n",
              "       [ 8.198398 ],\n",
              "       [ 8.591158 ],\n",
              "       [ 8.926921 ],\n",
              "       [ 8.799628 ],\n",
              "       [ 8.77018  ],\n",
              "       [ 8.109024 ],\n",
              "       [ 8.087483 ],\n",
              "       [ 9.241613 ],\n",
              "       [ 8.610586 ],\n",
              "       [ 8.594385 ],\n",
              "       [ 8.619791 ],\n",
              "       [ 8.816523 ],\n",
              "       [ 8.227956 ],\n",
              "       [ 8.821316 ],\n",
              "       [ 8.610922 ],\n",
              "       [ 8.544237 ],\n",
              "       [ 8.63772  ],\n",
              "       [ 8.552895 ],\n",
              "       [ 8.221102 ],\n",
              "       [ 8.543068 ],\n",
              "       [ 8.996233 ],\n",
              "       [ 8.63772  ],\n",
              "       [ 8.894947 ],\n",
              "       [ 8.400085 ],\n",
              "       [ 8.683496 ],\n",
              "       [ 8.786445 ],\n",
              "       [ 8.548849 ],\n",
              "       [ 8.635817 ],\n",
              "       [ 8.744046 ],\n",
              "       [ 8.632128 ],\n",
              "       [ 8.587403 ],\n",
              "       [ 8.888636 ],\n",
              "       [ 8.453807 ],\n",
              "       [ 8.715841 ],\n",
              "       [ 8.534647 ],\n",
              "       [ 8.625892 ],\n",
              "       [ 8.637043 ],\n",
              "       [ 8.39451  ],\n",
              "       [ 8.508837 ],\n",
              "       [ 9.078274 ],\n",
              "       [ 8.723696 ],\n",
              "       [ 8.531007 ],\n",
              "       [ 8.604882 ],\n",
              "       [ 8.626301 ],\n",
              "       [ 8.586082 ],\n",
              "       [ 8.586082 ],\n",
              "       [ 8.518286 ],\n",
              "       [ 8.030634 ],\n",
              "       [ 8.221856 ],\n",
              "       [ 8.35493  ],\n",
              "       [ 5.238923 ],\n",
              "       [ 8.095292 ],\n",
              "       [11.640517 ],\n",
              "       [ 9.167391 ],\n",
              "       [ 8.645164 ],\n",
              "       [ 8.173485 ],\n",
              "       [ 9.269208 ],\n",
              "       [ 8.647017 ],\n",
              "       [10.929682 ],\n",
              "       [ 6.558641 ],\n",
              "       [ 9.334203 ],\n",
              "       [ 7.5513515],\n",
              "       [ 5.8927727],\n",
              "       [ 7.2296104],\n",
              "       [ 8.584913 ]], dtype=float32)"
            ]
          },
          "metadata": {},
          "execution_count": 78
        }
      ]
    },
    {
      "cell_type": "markdown",
      "source": [
        "## Convert Model"
      ],
      "metadata": {
        "id": "aLFfw8DvjS7H"
      }
    },
    {
      "cell_type": "code",
      "source": [
        "import tensorflow as tf\n",
        "\n",
        "'''\n",
        "converter = tf.lite.TFLiteConverter.from_keras_model(medium)\n",
        "tflite_model = converter.convert()\n",
        "\n",
        "# Save the model.\n",
        "with open('model.tflite', 'wb') as f:\n",
        "  f.write(tflite_model)\n",
        "'''\n",
        "\n",
        "# EXERCISE: Use the tf.saved_model API to save your model in the SavedModel format. \n",
        "export_dir = '/content/model'\n",
        "\n",
        "tf.saved_model.save(medium, export_dir)"
      ],
      "metadata": {
        "colab": {
          "base_uri": "https://localhost:8080/"
        },
        "id": "QDyHjLoUhIVc",
        "outputId": "0a25e3c6-66c2-4895-ddc1-d849a90982c2"
      },
      "execution_count": 83,
      "outputs": [
        {
          "output_type": "stream",
          "name": "stdout",
          "text": [
            "INFO:tensorflow:Assets written to: /content/model/assets\n"
          ]
        },
        {
          "output_type": "stream",
          "name": "stderr",
          "text": [
            "INFO:tensorflow:Assets written to: /content/model/assets\n"
          ]
        }
      ]
    },
    {
      "cell_type": "code",
      "source": [
        "# Select mode of optimization\n",
        "mode = \"Speed\" \n",
        "\n",
        "if mode == 'Storage':\n",
        "    optimization = tf.lite.Optimize.OPTIMIZE_FOR_SIZE\n",
        "elif mode == 'Speed':\n",
        "    optimization = tf.lite.Optimize.OPTIMIZE_FOR_LATENCY\n",
        "else:\n",
        "    optimization = tf.lite.Optimize.DEFAULT"
      ],
      "metadata": {
        "id": "QUGk-0dqjtS7"
      },
      "execution_count": 84,
      "outputs": []
    },
    {
      "cell_type": "code",
      "source": [
        "# EXERCISE: Use the TFLiteConverter SavedModel API to initialize the converter\n",
        "\n",
        "converter = tf.lite.TFLiteConverter.from_saved_model(export_dir)  \n",
        "\n",
        "# Set the optimzations\n",
        "converter.optimizations = [optimization]   \n",
        "\n",
        "# Invoke the converter to finally generate the TFLite model\n",
        "tflite_model = converter.convert() "
      ],
      "metadata": {
        "colab": {
          "base_uri": "https://localhost:8080/"
        },
        "id": "tQ4DbSpJjuO4",
        "outputId": "bff60e1c-5332-4b86-bd60-e2ad9e3358a3"
      },
      "execution_count": 85,
      "outputs": [
        {
          "output_type": "stream",
          "name": "stderr",
          "text": [
            "WARNING:absl:Optimization option OPTIMIZE_FOR_LATENCY is deprecated, please use optimizations=[Optimize.DEFAULT] instead.\n",
            "WARNING:absl:Optimization option OPTIMIZE_FOR_LATENCY is deprecated, please use optimizations=[Optimize.DEFAULT] instead.\n",
            "WARNING:absl:Optimization option OPTIMIZE_FOR_LATENCY is deprecated, please use optimizations=[Optimize.DEFAULT] instead.\n",
            "WARNING:absl:Buffer deduplication procedure will be skipped when flatbuffer library is not properly loaded\n"
          ]
        }
      ]
    },
    {
      "cell_type": "code",
      "source": [
        "import pathlib\n",
        "\n",
        "tflite_model_file = pathlib.Path('./model.tflite')\n",
        "tflite_model_file.write_bytes(tflite_model)"
      ],
      "metadata": {
        "colab": {
          "base_uri": "https://localhost:8080/"
        },
        "id": "LNTIvzGSkKlj",
        "outputId": "b2b1f932-c37f-4071-e1f0-bda4bd580568"
      },
      "execution_count": 87,
      "outputs": [
        {
          "output_type": "execute_result",
          "data": {
            "text/plain": [
              "6528"
            ]
          },
          "metadata": {},
          "execution_count": 87
        }
      ]
    },
    {
      "cell_type": "code",
      "source": [
        "# JS Model\n",
        "\n",
        "import time\n",
        "#saved_model_path = \"./{}.h5\".format(int(time.time()))\n",
        "saved_model_path = \"./{}.h5\".format('jsmodel')\n",
        "\n",
        "medium.save(saved_model_path)"
      ],
      "metadata": {
        "id": "RWK6siHJlw6Q"
      },
      "execution_count": 91,
      "outputs": []
    },
    {
      "cell_type": "code",
      "source": [
        "pip install tensorflowjs"
      ],
      "metadata": {
        "colab": {
          "base_uri": "https://localhost:8080/",
          "height": 1000
        },
        "id": "pa7xNotYpu6H",
        "outputId": "dc77320c-3f3c-46eb-cfe9-cb16050323ec"
      },
      "execution_count": 95,
      "outputs": [
        {
          "output_type": "stream",
          "name": "stdout",
          "text": [
            "Looking in indexes: https://pypi.org/simple, https://us-python.pkg.dev/colab-wheels/public/simple/\n",
            "Collecting tensorflowjs\n",
            "  Downloading tensorflowjs-3.18.0-py3-none-any.whl (77 kB)\n",
            "\u001b[K     |████████████████████████████████| 77 kB 2.9 MB/s \n",
            "\u001b[?25hRequirement already satisfied: tensorflow-hub<0.13,>=0.7.0 in /usr/local/lib/python3.7/dist-packages (from tensorflowjs) (0.12.0)\n",
            "Requirement already satisfied: tensorflow<3,>=2.1.0 in /usr/local/lib/python3.7/dist-packages (from tensorflowjs) (2.8.2+zzzcolab20220527125636)\n",
            "Requirement already satisfied: six<2,>=1.12.0 in /usr/local/lib/python3.7/dist-packages (from tensorflowjs) (1.15.0)\n",
            "Collecting packaging~=20.9\n",
            "  Downloading packaging-20.9-py2.py3-none-any.whl (40 kB)\n",
            "\u001b[K     |████████████████████████████████| 40 kB 2.2 MB/s \n",
            "\u001b[?25hRequirement already satisfied: pyparsing>=2.0.2 in /usr/local/lib/python3.7/dist-packages (from packaging~=20.9->tensorflowjs) (3.0.9)\n",
            "Requirement already satisfied: absl-py>=0.4.0 in /usr/local/lib/python3.7/dist-packages (from tensorflow<3,>=2.1.0->tensorflowjs) (1.0.0)\n",
            "Requirement already satisfied: numpy>=1.20 in /usr/local/lib/python3.7/dist-packages (from tensorflow<3,>=2.1.0->tensorflowjs) (1.21.6)\n",
            "Requirement already satisfied: keras-preprocessing>=1.1.1 in /usr/local/lib/python3.7/dist-packages (from tensorflow<3,>=2.1.0->tensorflowjs) (1.1.2)\n",
            "Requirement already satisfied: tensorboard<2.9,>=2.8 in /usr/local/lib/python3.7/dist-packages (from tensorflow<3,>=2.1.0->tensorflowjs) (2.8.0)\n",
            "Requirement already satisfied: setuptools in /usr/local/lib/python3.7/dist-packages (from tensorflow<3,>=2.1.0->tensorflowjs) (57.4.0)\n",
            "Requirement already satisfied: termcolor>=1.1.0 in /usr/local/lib/python3.7/dist-packages (from tensorflow<3,>=2.1.0->tensorflowjs) (1.1.0)\n",
            "Requirement already satisfied: tensorflow-estimator<2.9,>=2.8 in /usr/local/lib/python3.7/dist-packages (from tensorflow<3,>=2.1.0->tensorflowjs) (2.8.0)\n",
            "Requirement already satisfied: gast>=0.2.1 in /usr/local/lib/python3.7/dist-packages (from tensorflow<3,>=2.1.0->tensorflowjs) (0.5.3)\n",
            "Requirement already satisfied: libclang>=9.0.1 in /usr/local/lib/python3.7/dist-packages (from tensorflow<3,>=2.1.0->tensorflowjs) (14.0.1)\n",
            "Requirement already satisfied: opt-einsum>=2.3.2 in /usr/local/lib/python3.7/dist-packages (from tensorflow<3,>=2.1.0->tensorflowjs) (3.3.0)\n",
            "Requirement already satisfied: typing-extensions>=3.6.6 in /usr/local/lib/python3.7/dist-packages (from tensorflow<3,>=2.1.0->tensorflowjs) (4.2.0)\n",
            "Requirement already satisfied: grpcio<2.0,>=1.24.3 in /usr/local/lib/python3.7/dist-packages (from tensorflow<3,>=2.1.0->tensorflowjs) (1.46.3)\n",
            "Requirement already satisfied: astunparse>=1.6.0 in /usr/local/lib/python3.7/dist-packages (from tensorflow<3,>=2.1.0->tensorflowjs) (1.6.3)\n",
            "Requirement already satisfied: wrapt>=1.11.0 in /usr/local/lib/python3.7/dist-packages (from tensorflow<3,>=2.1.0->tensorflowjs) (1.14.1)\n",
            "Requirement already satisfied: google-pasta>=0.1.1 in /usr/local/lib/python3.7/dist-packages (from tensorflow<3,>=2.1.0->tensorflowjs) (0.2.0)\n",
            "Requirement already satisfied: flatbuffers>=1.12 in /usr/local/lib/python3.7/dist-packages (from tensorflow<3,>=2.1.0->tensorflowjs) (2.0)\n",
            "Requirement already satisfied: h5py>=2.9.0 in /usr/local/lib/python3.7/dist-packages (from tensorflow<3,>=2.1.0->tensorflowjs) (3.1.0)\n",
            "Requirement already satisfied: keras<2.9,>=2.8.0rc0 in /usr/local/lib/python3.7/dist-packages (from tensorflow<3,>=2.1.0->tensorflowjs) (2.8.0)\n",
            "Requirement already satisfied: tensorflow-io-gcs-filesystem>=0.23.1 in /usr/local/lib/python3.7/dist-packages (from tensorflow<3,>=2.1.0->tensorflowjs) (0.26.0)\n",
            "Requirement already satisfied: protobuf<3.20,>=3.9.2 in /usr/local/lib/python3.7/dist-packages (from tensorflow<3,>=2.1.0->tensorflowjs) (3.17.3)\n",
            "Requirement already satisfied: wheel<1.0,>=0.23.0 in /usr/local/lib/python3.7/dist-packages (from astunparse>=1.6.0->tensorflow<3,>=2.1.0->tensorflowjs) (0.37.1)\n",
            "Requirement already satisfied: cached-property in /usr/local/lib/python3.7/dist-packages (from h5py>=2.9.0->tensorflow<3,>=2.1.0->tensorflowjs) (1.5.2)\n",
            "Requirement already satisfied: requests<3,>=2.21.0 in /usr/local/lib/python3.7/dist-packages (from tensorboard<2.9,>=2.8->tensorflow<3,>=2.1.0->tensorflowjs) (2.23.0)\n",
            "Requirement already satisfied: google-auth-oauthlib<0.5,>=0.4.1 in /usr/local/lib/python3.7/dist-packages (from tensorboard<2.9,>=2.8->tensorflow<3,>=2.1.0->tensorflowjs) (0.4.6)\n",
            "Requirement already satisfied: google-auth<3,>=1.6.3 in /usr/local/lib/python3.7/dist-packages (from tensorboard<2.9,>=2.8->tensorflow<3,>=2.1.0->tensorflowjs) (1.35.0)\n",
            "Requirement already satisfied: tensorboard-plugin-wit>=1.6.0 in /usr/local/lib/python3.7/dist-packages (from tensorboard<2.9,>=2.8->tensorflow<3,>=2.1.0->tensorflowjs) (1.8.1)\n",
            "Requirement already satisfied: tensorboard-data-server<0.7.0,>=0.6.0 in /usr/local/lib/python3.7/dist-packages (from tensorboard<2.9,>=2.8->tensorflow<3,>=2.1.0->tensorflowjs) (0.6.1)\n",
            "Requirement already satisfied: werkzeug>=0.11.15 in /usr/local/lib/python3.7/dist-packages (from tensorboard<2.9,>=2.8->tensorflow<3,>=2.1.0->tensorflowjs) (1.0.1)\n",
            "Requirement already satisfied: markdown>=2.6.8 in /usr/local/lib/python3.7/dist-packages (from tensorboard<2.9,>=2.8->tensorflow<3,>=2.1.0->tensorflowjs) (3.3.7)\n",
            "Requirement already satisfied: rsa<5,>=3.1.4 in /usr/local/lib/python3.7/dist-packages (from google-auth<3,>=1.6.3->tensorboard<2.9,>=2.8->tensorflow<3,>=2.1.0->tensorflowjs) (4.8)\n",
            "Requirement already satisfied: pyasn1-modules>=0.2.1 in /usr/local/lib/python3.7/dist-packages (from google-auth<3,>=1.6.3->tensorboard<2.9,>=2.8->tensorflow<3,>=2.1.0->tensorflowjs) (0.2.8)\n",
            "Requirement already satisfied: cachetools<5.0,>=2.0.0 in /usr/local/lib/python3.7/dist-packages (from google-auth<3,>=1.6.3->tensorboard<2.9,>=2.8->tensorflow<3,>=2.1.0->tensorflowjs) (4.2.4)\n",
            "Requirement already satisfied: requests-oauthlib>=0.7.0 in /usr/local/lib/python3.7/dist-packages (from google-auth-oauthlib<0.5,>=0.4.1->tensorboard<2.9,>=2.8->tensorflow<3,>=2.1.0->tensorflowjs) (1.3.1)\n",
            "Requirement already satisfied: importlib-metadata>=4.4 in /usr/local/lib/python3.7/dist-packages (from markdown>=2.6.8->tensorboard<2.9,>=2.8->tensorflow<3,>=2.1.0->tensorflowjs) (4.11.4)\n",
            "Requirement already satisfied: zipp>=0.5 in /usr/local/lib/python3.7/dist-packages (from importlib-metadata>=4.4->markdown>=2.6.8->tensorboard<2.9,>=2.8->tensorflow<3,>=2.1.0->tensorflowjs) (3.8.0)\n",
            "Requirement already satisfied: pyasn1<0.5.0,>=0.4.6 in /usr/local/lib/python3.7/dist-packages (from pyasn1-modules>=0.2.1->google-auth<3,>=1.6.3->tensorboard<2.9,>=2.8->tensorflow<3,>=2.1.0->tensorflowjs) (0.4.8)\n",
            "Requirement already satisfied: urllib3!=1.25.0,!=1.25.1,<1.26,>=1.21.1 in /usr/local/lib/python3.7/dist-packages (from requests<3,>=2.21.0->tensorboard<2.9,>=2.8->tensorflow<3,>=2.1.0->tensorflowjs) (1.24.3)\n",
            "Requirement already satisfied: chardet<4,>=3.0.2 in /usr/local/lib/python3.7/dist-packages (from requests<3,>=2.21.0->tensorboard<2.9,>=2.8->tensorflow<3,>=2.1.0->tensorflowjs) (3.0.4)\n",
            "Requirement already satisfied: certifi>=2017.4.17 in /usr/local/lib/python3.7/dist-packages (from requests<3,>=2.21.0->tensorboard<2.9,>=2.8->tensorflow<3,>=2.1.0->tensorflowjs) (2022.5.18.1)\n",
            "Requirement already satisfied: idna<3,>=2.5 in /usr/local/lib/python3.7/dist-packages (from requests<3,>=2.21.0->tensorboard<2.9,>=2.8->tensorflow<3,>=2.1.0->tensorflowjs) (2.10)\n",
            "Requirement already satisfied: oauthlib>=3.0.0 in /usr/local/lib/python3.7/dist-packages (from requests-oauthlib>=0.7.0->google-auth-oauthlib<0.5,>=0.4.1->tensorboard<2.9,>=2.8->tensorflow<3,>=2.1.0->tensorflowjs) (3.2.0)\n",
            "Installing collected packages: packaging, tensorflowjs\n",
            "  Attempting uninstall: packaging\n",
            "    Found existing installation: packaging 21.3\n",
            "    Uninstalling packaging-21.3:\n",
            "      Successfully uninstalled packaging-21.3\n",
            "\u001b[31mERROR: pip's dependency resolver does not currently take into account all the packages that are installed. This behaviour is the source of the following dependency conflicts.\n",
            "datascience 0.10.6 requires folium==0.2.1, but you have folium 0.8.3 which is incompatible.\u001b[0m\n",
            "Successfully installed packaging-20.9 tensorflowjs-3.18.0\n"
          ]
        },
        {
          "output_type": "display_data",
          "data": {
            "application/vnd.colab-display-data+json": {
              "pip_warning": {
                "packages": [
                  "packaging"
                ]
              }
            }
          },
          "metadata": {}
        }
      ]
    },
    {
      "cell_type": "code",
      "source": [
        "# JSON\n",
        "import tensorflowjs as tfjs \n",
        "\n",
        "tfjs.converters.save_keras_model(medium,'jsonmodel')"
      ],
      "metadata": {
        "colab": {
          "base_uri": "https://localhost:8080/"
        },
        "id": "sb1uUD3llyoR",
        "outputId": "a2c4db94-ca82-4222-d452-1d1905c66b18"
      },
      "execution_count": 96,
      "outputs": [
        {
          "output_type": "stream",
          "name": "stdout",
          "text": [
            "weight count with shape () and dtype int64 was auto converted to the type int32\n"
          ]
        }
      ]
    },
    {
      "cell_type": "code",
      "source": [
        ""
      ],
      "metadata": {
        "id": "SVXEIBfrtisx"
      },
      "execution_count": null,
      "outputs": []
    }
  ],
  "metadata": {
    "colab": {
      "collapsed_sections": [
        "ROB3AoMuy3p1",
        "k0A8fICUnIbP",
        "jSayjhlNQ_9g",
        "ZB6D4jmvQ0XK",
        "MEiQ4uDssXiD",
        "tph7rgkYSOjS",
        "xU_c2yjeWEIM"
      ],
      "name": "Capstone Test v3",
      "provenance": []
    },
    "kernelspec": {
      "display_name": "Python 3 (ipykernel)",
      "language": "python",
      "name": "python3"
    },
    "language_info": {
      "codemirror_mode": {
        "name": "ipython",
        "version": 3
      },
      "file_extension": ".py",
      "mimetype": "text/x-python",
      "name": "python",
      "nbconvert_exporter": "python",
      "pygments_lexer": "ipython3",
      "version": "3.10.4"
    }
  },
  "nbformat": 4,
  "nbformat_minor": 0
}